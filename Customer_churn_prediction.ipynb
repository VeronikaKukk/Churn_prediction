{
 "cells": [
  {
   "cell_type": "markdown",
   "id": "2697ea99",
   "metadata": {},
   "source": [
    "# Customer churn predicting\n",
    "#### Data from https://www.kaggle.com/datasets/blastchar/telco-customer-churn/data\n",
    "#### Notebook made by Veronika Kukk"
   ]
  },
  {
   "cell_type": "code",
   "execution_count": 1,
   "id": "b091db51",
   "metadata": {},
   "outputs": [],
   "source": [
    "# Importing modules\n",
    "import pandas as pd\n",
    "import numpy as np\n",
    "\n",
    "import seaborn as sns\n",
    "import matplotlib.pyplot as plt\n",
    "\n",
    "from collections import Counter\n",
    "from sklearn.model_selection import train_test_split\n",
    "\n",
    "from imblearn.over_sampling import RandomOverSampler\n",
    "from sklearn.utils import shuffle\n",
    "\n",
    "from sklearn.metrics import accuracy_score, confusion_matrix, classification_report\n",
    "from sklearn.ensemble import RandomForestClassifier, GradientBoostingClassifier\n",
    "from sklearn.preprocessing import MinMaxScaler\n",
    "from sklearn.naive_bayes import GaussianNB\n",
    "from keras.layers import Dense, Input, BatchNormalization\n",
    "from keras.models import Sequential\n",
    "\n",
    "import warnings\n",
    "warnings.filterwarnings('ignore')"
   ]
  },
  {
   "cell_type": "markdown",
   "id": "56d9d494",
   "metadata": {},
   "source": [
    "## Data overview"
   ]
  },
  {
   "cell_type": "code",
   "execution_count": 2,
   "id": "1402d247",
   "metadata": {},
   "outputs": [],
   "source": [
    "input_file = 'customer_data.csv'\n",
    "original_data = pd.read_csv(input_file, delimiter=\",\")\n",
    "pd.set_option('display.max_columns', None) # View all columns"
   ]
  },
  {
   "cell_type": "code",
   "execution_count": 3,
   "id": "5bb063fe",
   "metadata": {},
   "outputs": [
    {
     "data": {
      "text/html": [
       "<div>\n",
       "<style scoped>\n",
       "    .dataframe tbody tr th:only-of-type {\n",
       "        vertical-align: middle;\n",
       "    }\n",
       "\n",
       "    .dataframe tbody tr th {\n",
       "        vertical-align: top;\n",
       "    }\n",
       "\n",
       "    .dataframe thead th {\n",
       "        text-align: right;\n",
       "    }\n",
       "</style>\n",
       "<table border=\"1\" class=\"dataframe\">\n",
       "  <thead>\n",
       "    <tr style=\"text-align: right;\">\n",
       "      <th></th>\n",
       "      <th>customerID</th>\n",
       "      <th>gender</th>\n",
       "      <th>SeniorCitizen</th>\n",
       "      <th>Partner</th>\n",
       "      <th>Dependents</th>\n",
       "      <th>tenure</th>\n",
       "      <th>PhoneService</th>\n",
       "      <th>MultipleLines</th>\n",
       "      <th>InternetService</th>\n",
       "      <th>OnlineSecurity</th>\n",
       "      <th>OnlineBackup</th>\n",
       "      <th>DeviceProtection</th>\n",
       "      <th>TechSupport</th>\n",
       "      <th>StreamingTV</th>\n",
       "      <th>StreamingMovies</th>\n",
       "      <th>Contract</th>\n",
       "      <th>PaperlessBilling</th>\n",
       "      <th>PaymentMethod</th>\n",
       "      <th>MonthlyCharges</th>\n",
       "      <th>TotalCharges</th>\n",
       "      <th>Churn</th>\n",
       "    </tr>\n",
       "  </thead>\n",
       "  <tbody>\n",
       "    <tr>\n",
       "      <th>0</th>\n",
       "      <td>7590-VHVEG</td>\n",
       "      <td>Female</td>\n",
       "      <td>0</td>\n",
       "      <td>Yes</td>\n",
       "      <td>No</td>\n",
       "      <td>1</td>\n",
       "      <td>No</td>\n",
       "      <td>No phone service</td>\n",
       "      <td>DSL</td>\n",
       "      <td>No</td>\n",
       "      <td>Yes</td>\n",
       "      <td>No</td>\n",
       "      <td>No</td>\n",
       "      <td>No</td>\n",
       "      <td>No</td>\n",
       "      <td>Month-to-month</td>\n",
       "      <td>Yes</td>\n",
       "      <td>Electronic check</td>\n",
       "      <td>29.85</td>\n",
       "      <td>29.85</td>\n",
       "      <td>No</td>\n",
       "    </tr>\n",
       "    <tr>\n",
       "      <th>1</th>\n",
       "      <td>5575-GNVDE</td>\n",
       "      <td>Male</td>\n",
       "      <td>0</td>\n",
       "      <td>No</td>\n",
       "      <td>No</td>\n",
       "      <td>34</td>\n",
       "      <td>Yes</td>\n",
       "      <td>No</td>\n",
       "      <td>DSL</td>\n",
       "      <td>Yes</td>\n",
       "      <td>No</td>\n",
       "      <td>Yes</td>\n",
       "      <td>No</td>\n",
       "      <td>No</td>\n",
       "      <td>No</td>\n",
       "      <td>One year</td>\n",
       "      <td>No</td>\n",
       "      <td>Mailed check</td>\n",
       "      <td>56.95</td>\n",
       "      <td>1889.5</td>\n",
       "      <td>No</td>\n",
       "    </tr>\n",
       "    <tr>\n",
       "      <th>2</th>\n",
       "      <td>3668-QPYBK</td>\n",
       "      <td>Male</td>\n",
       "      <td>0</td>\n",
       "      <td>No</td>\n",
       "      <td>No</td>\n",
       "      <td>2</td>\n",
       "      <td>Yes</td>\n",
       "      <td>No</td>\n",
       "      <td>DSL</td>\n",
       "      <td>Yes</td>\n",
       "      <td>Yes</td>\n",
       "      <td>No</td>\n",
       "      <td>No</td>\n",
       "      <td>No</td>\n",
       "      <td>No</td>\n",
       "      <td>Month-to-month</td>\n",
       "      <td>Yes</td>\n",
       "      <td>Mailed check</td>\n",
       "      <td>53.85</td>\n",
       "      <td>108.15</td>\n",
       "      <td>Yes</td>\n",
       "    </tr>\n",
       "    <tr>\n",
       "      <th>3</th>\n",
       "      <td>7795-CFOCW</td>\n",
       "      <td>Male</td>\n",
       "      <td>0</td>\n",
       "      <td>No</td>\n",
       "      <td>No</td>\n",
       "      <td>45</td>\n",
       "      <td>No</td>\n",
       "      <td>No phone service</td>\n",
       "      <td>DSL</td>\n",
       "      <td>Yes</td>\n",
       "      <td>No</td>\n",
       "      <td>Yes</td>\n",
       "      <td>Yes</td>\n",
       "      <td>No</td>\n",
       "      <td>No</td>\n",
       "      <td>One year</td>\n",
       "      <td>No</td>\n",
       "      <td>Bank transfer (automatic)</td>\n",
       "      <td>42.30</td>\n",
       "      <td>1840.75</td>\n",
       "      <td>No</td>\n",
       "    </tr>\n",
       "    <tr>\n",
       "      <th>4</th>\n",
       "      <td>9237-HQITU</td>\n",
       "      <td>Female</td>\n",
       "      <td>0</td>\n",
       "      <td>No</td>\n",
       "      <td>No</td>\n",
       "      <td>2</td>\n",
       "      <td>Yes</td>\n",
       "      <td>No</td>\n",
       "      <td>Fiber optic</td>\n",
       "      <td>No</td>\n",
       "      <td>No</td>\n",
       "      <td>No</td>\n",
       "      <td>No</td>\n",
       "      <td>No</td>\n",
       "      <td>No</td>\n",
       "      <td>Month-to-month</td>\n",
       "      <td>Yes</td>\n",
       "      <td>Electronic check</td>\n",
       "      <td>70.70</td>\n",
       "      <td>151.65</td>\n",
       "      <td>Yes</td>\n",
       "    </tr>\n",
       "  </tbody>\n",
       "</table>\n",
       "</div>"
      ],
      "text/plain": [
       "   customerID  gender  SeniorCitizen Partner Dependents  tenure PhoneService  \\\n",
       "0  7590-VHVEG  Female              0     Yes         No       1           No   \n",
       "1  5575-GNVDE    Male              0      No         No      34          Yes   \n",
       "2  3668-QPYBK    Male              0      No         No       2          Yes   \n",
       "3  7795-CFOCW    Male              0      No         No      45           No   \n",
       "4  9237-HQITU  Female              0      No         No       2          Yes   \n",
       "\n",
       "      MultipleLines InternetService OnlineSecurity OnlineBackup  \\\n",
       "0  No phone service             DSL             No          Yes   \n",
       "1                No             DSL            Yes           No   \n",
       "2                No             DSL            Yes          Yes   \n",
       "3  No phone service             DSL            Yes           No   \n",
       "4                No     Fiber optic             No           No   \n",
       "\n",
       "  DeviceProtection TechSupport StreamingTV StreamingMovies        Contract  \\\n",
       "0               No          No          No              No  Month-to-month   \n",
       "1              Yes          No          No              No        One year   \n",
       "2               No          No          No              No  Month-to-month   \n",
       "3              Yes         Yes          No              No        One year   \n",
       "4               No          No          No              No  Month-to-month   \n",
       "\n",
       "  PaperlessBilling              PaymentMethod  MonthlyCharges TotalCharges  \\\n",
       "0              Yes           Electronic check           29.85        29.85   \n",
       "1               No               Mailed check           56.95       1889.5   \n",
       "2              Yes               Mailed check           53.85       108.15   \n",
       "3               No  Bank transfer (automatic)           42.30      1840.75   \n",
       "4              Yes           Electronic check           70.70       151.65   \n",
       "\n",
       "  Churn  \n",
       "0    No  \n",
       "1    No  \n",
       "2   Yes  \n",
       "3    No  \n",
       "4   Yes  "
      ]
     },
     "execution_count": 3,
     "metadata": {},
     "output_type": "execute_result"
    }
   ],
   "source": [
    "original_data.head()"
   ]
  },
  {
   "cell_type": "code",
   "execution_count": 4,
   "id": "940459c7",
   "metadata": {},
   "outputs": [
    {
     "name": "stdout",
     "output_type": "stream",
     "text": [
      "<class 'pandas.core.frame.DataFrame'>\n",
      "RangeIndex: 7043 entries, 0 to 7042\n",
      "Data columns (total 21 columns):\n",
      " #   Column            Non-Null Count  Dtype  \n",
      "---  ------            --------------  -----  \n",
      " 0   customerID        7043 non-null   object \n",
      " 1   gender            7043 non-null   object \n",
      " 2   SeniorCitizen     7043 non-null   int64  \n",
      " 3   Partner           7043 non-null   object \n",
      " 4   Dependents        7043 non-null   object \n",
      " 5   tenure            7043 non-null   int64  \n",
      " 6   PhoneService      7043 non-null   object \n",
      " 7   MultipleLines     7043 non-null   object \n",
      " 8   InternetService   7043 non-null   object \n",
      " 9   OnlineSecurity    7043 non-null   object \n",
      " 10  OnlineBackup      7043 non-null   object \n",
      " 11  DeviceProtection  7043 non-null   object \n",
      " 12  TechSupport       7043 non-null   object \n",
      " 13  StreamingTV       7043 non-null   object \n",
      " 14  StreamingMovies   7043 non-null   object \n",
      " 15  Contract          7043 non-null   object \n",
      " 16  PaperlessBilling  7043 non-null   object \n",
      " 17  PaymentMethod     7043 non-null   object \n",
      " 18  MonthlyCharges    7043 non-null   float64\n",
      " 19  TotalCharges      7043 non-null   object \n",
      " 20  Churn             7043 non-null   object \n",
      "dtypes: float64(1), int64(2), object(18)\n",
      "memory usage: 1.1+ MB\n"
     ]
    }
   ],
   "source": [
    "original_data.info()"
   ]
  },
  {
   "cell_type": "code",
   "execution_count": 5,
   "id": "cb1f6043",
   "metadata": {},
   "outputs": [
    {
     "data": {
      "text/html": [
       "<div>\n",
       "<style scoped>\n",
       "    .dataframe tbody tr th:only-of-type {\n",
       "        vertical-align: middle;\n",
       "    }\n",
       "\n",
       "    .dataframe tbody tr th {\n",
       "        vertical-align: top;\n",
       "    }\n",
       "\n",
       "    .dataframe thead th {\n",
       "        text-align: right;\n",
       "    }\n",
       "</style>\n",
       "<table border=\"1\" class=\"dataframe\">\n",
       "  <thead>\n",
       "    <tr style=\"text-align: right;\">\n",
       "      <th></th>\n",
       "      <th>customerID</th>\n",
       "      <th>gender</th>\n",
       "      <th>SeniorCitizen</th>\n",
       "      <th>Partner</th>\n",
       "      <th>Dependents</th>\n",
       "      <th>tenure</th>\n",
       "      <th>PhoneService</th>\n",
       "      <th>MultipleLines</th>\n",
       "      <th>InternetService</th>\n",
       "      <th>OnlineSecurity</th>\n",
       "      <th>OnlineBackup</th>\n",
       "      <th>DeviceProtection</th>\n",
       "      <th>TechSupport</th>\n",
       "      <th>StreamingTV</th>\n",
       "      <th>StreamingMovies</th>\n",
       "      <th>Contract</th>\n",
       "      <th>PaperlessBilling</th>\n",
       "      <th>PaymentMethod</th>\n",
       "      <th>MonthlyCharges</th>\n",
       "      <th>TotalCharges</th>\n",
       "      <th>Churn</th>\n",
       "    </tr>\n",
       "  </thead>\n",
       "  <tbody>\n",
       "    <tr>\n",
       "      <th>count</th>\n",
       "      <td>7043</td>\n",
       "      <td>7043</td>\n",
       "      <td>7043.000000</td>\n",
       "      <td>7043</td>\n",
       "      <td>7043</td>\n",
       "      <td>7043.000000</td>\n",
       "      <td>7043</td>\n",
       "      <td>7043</td>\n",
       "      <td>7043</td>\n",
       "      <td>7043</td>\n",
       "      <td>7043</td>\n",
       "      <td>7043</td>\n",
       "      <td>7043</td>\n",
       "      <td>7043</td>\n",
       "      <td>7043</td>\n",
       "      <td>7043</td>\n",
       "      <td>7043</td>\n",
       "      <td>7043</td>\n",
       "      <td>7043.000000</td>\n",
       "      <td>7043</td>\n",
       "      <td>7043</td>\n",
       "    </tr>\n",
       "    <tr>\n",
       "      <th>unique</th>\n",
       "      <td>7043</td>\n",
       "      <td>2</td>\n",
       "      <td>NaN</td>\n",
       "      <td>2</td>\n",
       "      <td>2</td>\n",
       "      <td>NaN</td>\n",
       "      <td>2</td>\n",
       "      <td>3</td>\n",
       "      <td>3</td>\n",
       "      <td>3</td>\n",
       "      <td>3</td>\n",
       "      <td>3</td>\n",
       "      <td>3</td>\n",
       "      <td>3</td>\n",
       "      <td>3</td>\n",
       "      <td>3</td>\n",
       "      <td>2</td>\n",
       "      <td>4</td>\n",
       "      <td>NaN</td>\n",
       "      <td>6531</td>\n",
       "      <td>2</td>\n",
       "    </tr>\n",
       "    <tr>\n",
       "      <th>top</th>\n",
       "      <td>7590-VHVEG</td>\n",
       "      <td>Male</td>\n",
       "      <td>NaN</td>\n",
       "      <td>No</td>\n",
       "      <td>No</td>\n",
       "      <td>NaN</td>\n",
       "      <td>Yes</td>\n",
       "      <td>No</td>\n",
       "      <td>Fiber optic</td>\n",
       "      <td>No</td>\n",
       "      <td>No</td>\n",
       "      <td>No</td>\n",
       "      <td>No</td>\n",
       "      <td>No</td>\n",
       "      <td>No</td>\n",
       "      <td>Month-to-month</td>\n",
       "      <td>Yes</td>\n",
       "      <td>Electronic check</td>\n",
       "      <td>NaN</td>\n",
       "      <td></td>\n",
       "      <td>No</td>\n",
       "    </tr>\n",
       "    <tr>\n",
       "      <th>freq</th>\n",
       "      <td>1</td>\n",
       "      <td>3555</td>\n",
       "      <td>NaN</td>\n",
       "      <td>3641</td>\n",
       "      <td>4933</td>\n",
       "      <td>NaN</td>\n",
       "      <td>6361</td>\n",
       "      <td>3390</td>\n",
       "      <td>3096</td>\n",
       "      <td>3498</td>\n",
       "      <td>3088</td>\n",
       "      <td>3095</td>\n",
       "      <td>3473</td>\n",
       "      <td>2810</td>\n",
       "      <td>2785</td>\n",
       "      <td>3875</td>\n",
       "      <td>4171</td>\n",
       "      <td>2365</td>\n",
       "      <td>NaN</td>\n",
       "      <td>11</td>\n",
       "      <td>5174</td>\n",
       "    </tr>\n",
       "    <tr>\n",
       "      <th>mean</th>\n",
       "      <td>NaN</td>\n",
       "      <td>NaN</td>\n",
       "      <td>0.162147</td>\n",
       "      <td>NaN</td>\n",
       "      <td>NaN</td>\n",
       "      <td>32.371149</td>\n",
       "      <td>NaN</td>\n",
       "      <td>NaN</td>\n",
       "      <td>NaN</td>\n",
       "      <td>NaN</td>\n",
       "      <td>NaN</td>\n",
       "      <td>NaN</td>\n",
       "      <td>NaN</td>\n",
       "      <td>NaN</td>\n",
       "      <td>NaN</td>\n",
       "      <td>NaN</td>\n",
       "      <td>NaN</td>\n",
       "      <td>NaN</td>\n",
       "      <td>64.761692</td>\n",
       "      <td>NaN</td>\n",
       "      <td>NaN</td>\n",
       "    </tr>\n",
       "    <tr>\n",
       "      <th>std</th>\n",
       "      <td>NaN</td>\n",
       "      <td>NaN</td>\n",
       "      <td>0.368612</td>\n",
       "      <td>NaN</td>\n",
       "      <td>NaN</td>\n",
       "      <td>24.559481</td>\n",
       "      <td>NaN</td>\n",
       "      <td>NaN</td>\n",
       "      <td>NaN</td>\n",
       "      <td>NaN</td>\n",
       "      <td>NaN</td>\n",
       "      <td>NaN</td>\n",
       "      <td>NaN</td>\n",
       "      <td>NaN</td>\n",
       "      <td>NaN</td>\n",
       "      <td>NaN</td>\n",
       "      <td>NaN</td>\n",
       "      <td>NaN</td>\n",
       "      <td>30.090047</td>\n",
       "      <td>NaN</td>\n",
       "      <td>NaN</td>\n",
       "    </tr>\n",
       "    <tr>\n",
       "      <th>min</th>\n",
       "      <td>NaN</td>\n",
       "      <td>NaN</td>\n",
       "      <td>0.000000</td>\n",
       "      <td>NaN</td>\n",
       "      <td>NaN</td>\n",
       "      <td>0.000000</td>\n",
       "      <td>NaN</td>\n",
       "      <td>NaN</td>\n",
       "      <td>NaN</td>\n",
       "      <td>NaN</td>\n",
       "      <td>NaN</td>\n",
       "      <td>NaN</td>\n",
       "      <td>NaN</td>\n",
       "      <td>NaN</td>\n",
       "      <td>NaN</td>\n",
       "      <td>NaN</td>\n",
       "      <td>NaN</td>\n",
       "      <td>NaN</td>\n",
       "      <td>18.250000</td>\n",
       "      <td>NaN</td>\n",
       "      <td>NaN</td>\n",
       "    </tr>\n",
       "    <tr>\n",
       "      <th>25%</th>\n",
       "      <td>NaN</td>\n",
       "      <td>NaN</td>\n",
       "      <td>0.000000</td>\n",
       "      <td>NaN</td>\n",
       "      <td>NaN</td>\n",
       "      <td>9.000000</td>\n",
       "      <td>NaN</td>\n",
       "      <td>NaN</td>\n",
       "      <td>NaN</td>\n",
       "      <td>NaN</td>\n",
       "      <td>NaN</td>\n",
       "      <td>NaN</td>\n",
       "      <td>NaN</td>\n",
       "      <td>NaN</td>\n",
       "      <td>NaN</td>\n",
       "      <td>NaN</td>\n",
       "      <td>NaN</td>\n",
       "      <td>NaN</td>\n",
       "      <td>35.500000</td>\n",
       "      <td>NaN</td>\n",
       "      <td>NaN</td>\n",
       "    </tr>\n",
       "    <tr>\n",
       "      <th>50%</th>\n",
       "      <td>NaN</td>\n",
       "      <td>NaN</td>\n",
       "      <td>0.000000</td>\n",
       "      <td>NaN</td>\n",
       "      <td>NaN</td>\n",
       "      <td>29.000000</td>\n",
       "      <td>NaN</td>\n",
       "      <td>NaN</td>\n",
       "      <td>NaN</td>\n",
       "      <td>NaN</td>\n",
       "      <td>NaN</td>\n",
       "      <td>NaN</td>\n",
       "      <td>NaN</td>\n",
       "      <td>NaN</td>\n",
       "      <td>NaN</td>\n",
       "      <td>NaN</td>\n",
       "      <td>NaN</td>\n",
       "      <td>NaN</td>\n",
       "      <td>70.350000</td>\n",
       "      <td>NaN</td>\n",
       "      <td>NaN</td>\n",
       "    </tr>\n",
       "    <tr>\n",
       "      <th>75%</th>\n",
       "      <td>NaN</td>\n",
       "      <td>NaN</td>\n",
       "      <td>0.000000</td>\n",
       "      <td>NaN</td>\n",
       "      <td>NaN</td>\n",
       "      <td>55.000000</td>\n",
       "      <td>NaN</td>\n",
       "      <td>NaN</td>\n",
       "      <td>NaN</td>\n",
       "      <td>NaN</td>\n",
       "      <td>NaN</td>\n",
       "      <td>NaN</td>\n",
       "      <td>NaN</td>\n",
       "      <td>NaN</td>\n",
       "      <td>NaN</td>\n",
       "      <td>NaN</td>\n",
       "      <td>NaN</td>\n",
       "      <td>NaN</td>\n",
       "      <td>89.850000</td>\n",
       "      <td>NaN</td>\n",
       "      <td>NaN</td>\n",
       "    </tr>\n",
       "    <tr>\n",
       "      <th>max</th>\n",
       "      <td>NaN</td>\n",
       "      <td>NaN</td>\n",
       "      <td>1.000000</td>\n",
       "      <td>NaN</td>\n",
       "      <td>NaN</td>\n",
       "      <td>72.000000</td>\n",
       "      <td>NaN</td>\n",
       "      <td>NaN</td>\n",
       "      <td>NaN</td>\n",
       "      <td>NaN</td>\n",
       "      <td>NaN</td>\n",
       "      <td>NaN</td>\n",
       "      <td>NaN</td>\n",
       "      <td>NaN</td>\n",
       "      <td>NaN</td>\n",
       "      <td>NaN</td>\n",
       "      <td>NaN</td>\n",
       "      <td>NaN</td>\n",
       "      <td>118.750000</td>\n",
       "      <td>NaN</td>\n",
       "      <td>NaN</td>\n",
       "    </tr>\n",
       "  </tbody>\n",
       "</table>\n",
       "</div>"
      ],
      "text/plain": [
       "        customerID gender  SeniorCitizen Partner Dependents       tenure  \\\n",
       "count         7043   7043    7043.000000    7043       7043  7043.000000   \n",
       "unique        7043      2            NaN       2          2          NaN   \n",
       "top     7590-VHVEG   Male            NaN      No         No          NaN   \n",
       "freq             1   3555            NaN    3641       4933          NaN   \n",
       "mean           NaN    NaN       0.162147     NaN        NaN    32.371149   \n",
       "std            NaN    NaN       0.368612     NaN        NaN    24.559481   \n",
       "min            NaN    NaN       0.000000     NaN        NaN     0.000000   \n",
       "25%            NaN    NaN       0.000000     NaN        NaN     9.000000   \n",
       "50%            NaN    NaN       0.000000     NaN        NaN    29.000000   \n",
       "75%            NaN    NaN       0.000000     NaN        NaN    55.000000   \n",
       "max            NaN    NaN       1.000000     NaN        NaN    72.000000   \n",
       "\n",
       "       PhoneService MultipleLines InternetService OnlineSecurity OnlineBackup  \\\n",
       "count          7043          7043            7043           7043         7043   \n",
       "unique            2             3               3              3            3   \n",
       "top             Yes            No     Fiber optic             No           No   \n",
       "freq           6361          3390            3096           3498         3088   \n",
       "mean            NaN           NaN             NaN            NaN          NaN   \n",
       "std             NaN           NaN             NaN            NaN          NaN   \n",
       "min             NaN           NaN             NaN            NaN          NaN   \n",
       "25%             NaN           NaN             NaN            NaN          NaN   \n",
       "50%             NaN           NaN             NaN            NaN          NaN   \n",
       "75%             NaN           NaN             NaN            NaN          NaN   \n",
       "max             NaN           NaN             NaN            NaN          NaN   \n",
       "\n",
       "       DeviceProtection TechSupport StreamingTV StreamingMovies  \\\n",
       "count              7043        7043        7043            7043   \n",
       "unique                3           3           3               3   \n",
       "top                  No          No          No              No   \n",
       "freq               3095        3473        2810            2785   \n",
       "mean                NaN         NaN         NaN             NaN   \n",
       "std                 NaN         NaN         NaN             NaN   \n",
       "min                 NaN         NaN         NaN             NaN   \n",
       "25%                 NaN         NaN         NaN             NaN   \n",
       "50%                 NaN         NaN         NaN             NaN   \n",
       "75%                 NaN         NaN         NaN             NaN   \n",
       "max                 NaN         NaN         NaN             NaN   \n",
       "\n",
       "              Contract PaperlessBilling     PaymentMethod  MonthlyCharges  \\\n",
       "count             7043             7043              7043     7043.000000   \n",
       "unique               3                2                 4             NaN   \n",
       "top     Month-to-month              Yes  Electronic check             NaN   \n",
       "freq              3875             4171              2365             NaN   \n",
       "mean               NaN              NaN               NaN       64.761692   \n",
       "std                NaN              NaN               NaN       30.090047   \n",
       "min                NaN              NaN               NaN       18.250000   \n",
       "25%                NaN              NaN               NaN       35.500000   \n",
       "50%                NaN              NaN               NaN       70.350000   \n",
       "75%                NaN              NaN               NaN       89.850000   \n",
       "max                NaN              NaN               NaN      118.750000   \n",
       "\n",
       "       TotalCharges Churn  \n",
       "count          7043  7043  \n",
       "unique         6531     2  \n",
       "top                    No  \n",
       "freq             11  5174  \n",
       "mean            NaN   NaN  \n",
       "std             NaN   NaN  \n",
       "min             NaN   NaN  \n",
       "25%             NaN   NaN  \n",
       "50%             NaN   NaN  \n",
       "75%             NaN   NaN  \n",
       "max             NaN   NaN  "
      ]
     },
     "execution_count": 5,
     "metadata": {},
     "output_type": "execute_result"
    }
   ],
   "source": [
    "original_data.describe(include='all')"
   ]
  },
  {
   "cell_type": "markdown",
   "id": "e7130de2-ebfb-4803-ab31-a34c37cebb39",
   "metadata": {},
   "source": [
    "### Unique values"
   ]
  },
  {
   "cell_type": "code",
   "execution_count": 6,
   "id": "c5854094-9cda-47e3-91cf-589de234d9e3",
   "metadata": {},
   "outputs": [
    {
     "name": "stdout",
     "output_type": "stream",
     "text": [
      "customerID: ['7590-VHVEG' '5575-GNVDE' '3668-QPYBK' ... '4801-JZAZL' '8361-LTMKD'\n",
      " '3186-AJIEK']\n",
      "\n",
      "gender: ['Female' 'Male']\n",
      "\n",
      "SeniorCitizen: [0 1]\n",
      "\n",
      "Partner: ['Yes' 'No']\n",
      "\n",
      "Dependents: ['No' 'Yes']\n",
      "\n",
      "tenure: [ 1 34  2 45  8 22 10 28 62 13 16 58 49 25 69 52 71 21 12 30 47 72 17 27\n",
      "  5 46 11 70 63 43 15 60 18 66  9  3 31 50 64 56  7 42 35 48 29 65 38 68\n",
      " 32 55 37 36 41  6  4 33 67 23 57 61 14 20 53 40 59 24 44 19 54 51 26  0\n",
      " 39]\n",
      "\n",
      "PhoneService: ['No' 'Yes']\n",
      "\n",
      "MultipleLines: ['No phone service' 'No' 'Yes']\n",
      "\n",
      "InternetService: ['DSL' 'Fiber optic' 'No']\n",
      "\n",
      "OnlineSecurity: ['No' 'Yes' 'No internet service']\n",
      "\n",
      "OnlineBackup: ['Yes' 'No' 'No internet service']\n",
      "\n",
      "DeviceProtection: ['No' 'Yes' 'No internet service']\n",
      "\n",
      "TechSupport: ['No' 'Yes' 'No internet service']\n",
      "\n",
      "StreamingTV: ['No' 'Yes' 'No internet service']\n",
      "\n",
      "StreamingMovies: ['No' 'Yes' 'No internet service']\n",
      "\n",
      "Contract: ['Month-to-month' 'One year' 'Two year']\n",
      "\n",
      "PaperlessBilling: ['Yes' 'No']\n",
      "\n",
      "PaymentMethod: ['Electronic check' 'Mailed check' 'Bank transfer (automatic)'\n",
      " 'Credit card (automatic)']\n",
      "\n",
      "MonthlyCharges: [29.85 56.95 53.85 ... 63.1  44.2  78.7 ]\n",
      "\n",
      "TotalCharges: ['29.85' '1889.5' '108.15' ... '346.45' '306.6' '6844.5']\n",
      "\n",
      "Churn: ['No' 'Yes']\n",
      "\n"
     ]
    }
   ],
   "source": [
    "for column in original_data.columns:\n",
    "    unique_values = original_data[column].unique()\n",
    "    print(column + \": \" + str(unique_values) + \"\\n\")"
   ]
  },
  {
   "cell_type": "markdown",
   "id": "d0272a07",
   "metadata": {},
   "source": [
    "<br>\n",
    "Most of the data is type object but it can be made into numerical data. For example all of the columns with Yes and No values can be converted to 1 and 0. Columns that have 3-4 values can be converted to one-hot vectors.\n",
    "<br>There are no columns with missing values.\n",
    "<br>Column customerID is irrelevant because it is unique for every customer and does not show influence the churn.\n",
    "<br>Tenure goes from 0 to 72 and can be divided into bins because there are not many unique values."
   ]
  },
  {
   "cell_type": "code",
   "execution_count": 7,
   "id": "11d4a256",
   "metadata": {},
   "outputs": [],
   "source": [
    "yes_no_columns = [\"Partner\", \"Dependents\", \"PhoneService\", \"PaperlessBilling\", \"Churn\"]"
   ]
  },
  {
   "cell_type": "code",
   "execution_count": 8,
   "id": "ae866fe2",
   "metadata": {},
   "outputs": [],
   "source": [
    "one_hot_columns = [\"gender\", \"MultipleLines\", \"InternetService\", \"OnlineSecurity\", \"OnlineBackup\", \"DeviceProtection\", \"TechSupport\", \"StreamingTV\", \"StreamingMovies\", \"Contract\", \"PaymentMethod\"]"
   ]
  },
  {
   "cell_type": "code",
   "execution_count": 9,
   "id": "45e54ec1-470f-4172-9ee1-590290bb28db",
   "metadata": {},
   "outputs": [
    {
     "data": {
      "text/plain": [
       "False"
      ]
     },
     "execution_count": 9,
     "metadata": {},
     "output_type": "execute_result"
    }
   ],
   "source": [
    "# Checking if StreamingTV and StreamingMovies are same or not\n",
    "(original_data['StreamingTV'] == original_data['StreamingMovies']).all()"
   ]
  },
  {
   "cell_type": "markdown",
   "id": "a74f005a-a142-4c42-a51e-7b8692644244",
   "metadata": {},
   "source": [
    "### Visualizing Churn"
   ]
  },
  {
   "cell_type": "code",
   "execution_count": 10,
   "id": "972caea6-8c42-4f71-b5e9-e0f0de67cc0c",
   "metadata": {},
   "outputs": [],
   "source": [
    "pie_chart_colors = [\"lightblue\", \"yellow\"]"
   ]
  },
  {
   "cell_type": "code",
   "execution_count": 11,
   "id": "307a9a2c-ca12-43ba-89f6-93522cc893ce",
   "metadata": {},
   "outputs": [
    {
     "data": {
      "image/png": "[encoded data removed]",
      "text/plain": [
       "<Figure size 500x500 with 1 Axes>"
      ]
     },
     "metadata": {},
     "output_type": "display_data"
    }
   ],
   "source": [
    "churn_values = original_data[\"Churn\"].value_counts()\n",
    "sns.set(font_scale=1)\n",
    "plt.figure(figsize=(5, 5))\n",
    "plt.pie(churn_values, labels=churn_values.index, autopct='%1.1f%%', colors=pie_chart_colors)\n",
    "plt.title('Distribution of Churn',fontsize=18)\n",
    "plt.axis('equal')\n",
    "plt.show()"
   ]
  },
  {
   "cell_type": "markdown",
   "id": "29970db0-f4f7-410b-b7ae-eced7929c44c",
   "metadata": {},
   "source": [
    "Data is skewed towards negative Churn which potentially means that we need to balance the data later on. Otherwise the models could be biased towards predicting \"No\"."
   ]
  },
  {
   "cell_type": "markdown",
   "id": "60ddb848",
   "metadata": {},
   "source": [
    "## Data preprocessing"
   ]
  },
  {
   "cell_type": "code",
   "execution_count": 12,
   "id": "710913fe",
   "metadata": {},
   "outputs": [],
   "source": [
    "# deep copy\n",
    "data = original_data.copy()\n",
    "data = data.drop(\"customerID\", axis=1)\n",
    "data = data.drop_duplicates()"
   ]
  },
  {
   "cell_type": "code",
   "execution_count": 13,
   "id": "08ac90a0",
   "metadata": {},
   "outputs": [
    {
     "name": "stdout",
     "output_type": "stream",
     "text": [
      "Missing value count:  11\n",
      "Missing value count after filling:  0\n"
     ]
    }
   ],
   "source": [
    "# Converting already numerical column to be numeric type\n",
    "data[\"TotalCharges\"] = pd.to_numeric(data[\"TotalCharges\"], errors=\"coerce\")\n",
    "\n",
    "print(\"Missing value count: \",data[\"TotalCharges\"].isnull().sum())\n",
    "\n",
    "# Filling with MonthlyCharges * tenure because that is what a person would have to pay\n",
    "data[\"TotalCharges\"] = data[\"TotalCharges\"].fillna(data[\"MonthlyCharges\"] * data[\"tenure\"])\n",
    "\n",
    "print(\"Missing value count after filling: \", data[\"TotalCharges\"].isnull().sum())"
   ]
  },
  {
   "cell_type": "code",
   "execution_count": 14,
   "id": "347eb87c-8048-4449-98ec-ae5c93a1eb43",
   "metadata": {},
   "outputs": [
    {
     "name": "stdout",
     "output_type": "stream",
     "text": [
      "Before removing rows with contradictions regarding PhoneService: 7021\n",
      "After removing rows with contradictions regarding PhoneService: 7021\n"
     ]
    }
   ],
   "source": [
    "# Make sure to remove rows with data that is not logical\n",
    "print(\"Before removing rows with contradictions regarding PhoneService:\", len(data))\n",
    "\n",
    "# PhoneService No and MultipleLines is not No phone service\n",
    "data = data.drop(data[(data[\"PhoneService\"] == \"No\") & (data[\"MultipleLines\"] != \"No phone service\")].index)\n",
    "\n",
    "# PhoneService Yes and MultipleLines is No phone service\n",
    "data = data.drop(data[(data[\"PhoneService\"] == \"Yes\") & (data[\"MultipleLines\"] == \"No phone service\")].index)\n",
    "\n",
    "print(\"After removing rows with contradictions regarding PhoneService:\", len(data))"
   ]
  },
  {
   "cell_type": "code",
   "execution_count": 15,
   "id": "9919b600-9761-4a68-8f64-5dd03fceb359",
   "metadata": {},
   "outputs": [
    {
     "name": "stdout",
     "output_type": "stream",
     "text": [
      "Before removing rows with contradictions regarding InternetService: 7021\n",
      "After removing rows with contradictions regarding InternetService: 7021\n"
     ]
    }
   ],
   "source": [
    "# Make sure to remove rows with data that is not logical\n",
    "print(\"Before removing rows with contradictions regarding InternetService:\", len(data))\n",
    "\n",
    "# InternetService No and OnlineSecurity OnlineBackup DeviceProtection TechSupport StreamingTV StreamingMovies is not No internet service\n",
    "data = data.drop(data[(data[\"InternetService\"] == \"No\") & (data[\"OnlineSecurity\"] != \"No internet service\")].index)\n",
    "data = data.drop(data[(data[\"InternetService\"] == \"No\") & (data[\"OnlineBackup\"] != \"No internet service\")].index)\n",
    "data = data.drop(data[(data[\"InternetService\"] == \"No\") & (data[\"DeviceProtection\"] != \"No internet service\")].index)\n",
    "data = data.drop(data[(data[\"InternetService\"] == \"No\") & (data[\"TechSupport\"] != \"No internet service\")].index)\n",
    "data = data.drop(data[(data[\"InternetService\"] == \"No\") & (data[\"StreamingTV\"] != \"No internet service\")].index)\n",
    "data = data.drop(data[(data[\"InternetService\"] == \"No\") & (data[\"StreamingMovies\"] != \"No internet service\")].index)\n",
    "\n",
    "# InternetService not No and OnlineSecurity OnlineBackup DeviceProtection TechSupport StreamingTV StreamingMovies is No internet service\n",
    "data = data.drop(data[(data[\"InternetService\"] != \"No\") & (data[\"OnlineSecurity\"] == \"No internet service\")].index)\n",
    "data = data.drop(data[(data[\"InternetService\"] != \"No\") & (data[\"OnlineBackup\"] == \"No internet service\")].index)\n",
    "data = data.drop(data[(data[\"InternetService\"] != \"No\") & (data[\"DeviceProtection\"] == \"No internet service\")].index)\n",
    "data = data.drop(data[(data[\"InternetService\"] != \"No\") & (data[\"TechSupport\"] == \"No internet service\")].index)\n",
    "data = data.drop(data[(data[\"InternetService\"] != \"No\") & (data[\"StreamingTV\"] == \"No internet service\")].index)\n",
    "data = data.drop(data[(data[\"InternetService\"] != \"No\") & (data[\"StreamingMovies\"] == \"No internet service\")].index)\n",
    "\n",
    "print(\"After removing rows with contradictions regarding InternetService:\", len(data))"
   ]
  },
  {
   "cell_type": "markdown",
   "id": "afe8407b-898e-47ba-8cf4-79707d5049a4",
   "metadata": {},
   "source": [
    "Seems like no rows were removed  which means that there were no rows with contradictions."
   ]
  },
  {
   "cell_type": "code",
   "execution_count": 16,
   "id": "20f15b68-dc6d-4bc6-803a-b1189db4806f",
   "metadata": {},
   "outputs": [
    {
     "name": "stdout",
     "output_type": "stream",
     "text": [
      "gender              0\n",
      "SeniorCitizen       0\n",
      "Partner             0\n",
      "Dependents          0\n",
      "tenure              0\n",
      "PhoneService        0\n",
      "MultipleLines       0\n",
      "InternetService     0\n",
      "OnlineSecurity      0\n",
      "OnlineBackup        0\n",
      "DeviceProtection    0\n",
      "TechSupport         0\n",
      "StreamingTV         0\n",
      "StreamingMovies     0\n",
      "Contract            0\n",
      "PaperlessBilling    0\n",
      "PaymentMethod       0\n",
      "MonthlyCharges      0\n",
      "TotalCharges        0\n",
      "Churn               0\n",
      "dtype: int64\n"
     ]
    }
   ],
   "source": [
    "# Make sure that there are no missing values\n",
    "print(data.isnull().sum())"
   ]
  },
  {
   "cell_type": "code",
   "execution_count": 17,
   "id": "3bcb8e32",
   "metadata": {},
   "outputs": [],
   "source": [
    "# Converting Yes and No to 1 and 0\n",
    "data[yes_no_columns] = data[yes_no_columns].replace({\"Yes\": 1, \"No\": 0})"
   ]
  },
  {
   "cell_type": "code",
   "execution_count": 18,
   "id": "bf6df3fe",
   "metadata": {},
   "outputs": [],
   "source": [
    "# One-hot encoding\n",
    "for column in one_hot_columns:\n",
    "    onehot_values = pd.get_dummies(data[column], prefix=column, dtype=float)\n",
    "    data = data.join(onehot_values)\n",
    "    data = data.drop(column, axis=1)"
   ]
  },
  {
   "cell_type": "code",
   "execution_count": 19,
   "id": "73bdf45d-47dd-4032-945e-52bdcba065fc",
   "metadata": {},
   "outputs": [],
   "source": [
    "# Scaling data that is not 1 or 0\n",
    "scaling_columns = [\"MonthlyCharges\", \"TotalCharges\"]\n",
    "scaler = MinMaxScaler()\n",
    "data[scaling_columns] = scaler.fit_transform(data[scaling_columns])"
   ]
  },
  {
   "cell_type": "code",
   "execution_count": 20,
   "id": "f1885e6f-9553-4da5-b268-7947ae657adc",
   "metadata": {},
   "outputs": [],
   "source": [
    "# Tenure in bins\n",
    "tenure_bins = pd.qcut(data[\"tenure\"], q=10, labels=False)\n",
    "tenure_onehot_values = pd.get_dummies(tenure_bins, prefix='tenure_bin', dtype=float)\n",
    "data = data.join(tenure_onehot_values)\n",
    "data = data.drop(\"tenure\", axis=1)"
   ]
  },
  {
   "cell_type": "code",
   "execution_count": 21,
   "id": "fa0d90ad-45b6-4539-a086-ed217a39ecce",
   "metadata": {},
   "outputs": [
    {
     "data": {
      "text/html": [
       "<div>\n",
       "<style scoped>\n",
       "    .dataframe tbody tr th:only-of-type {\n",
       "        vertical-align: middle;\n",
       "    }\n",
       "\n",
       "    .dataframe tbody tr th {\n",
       "        vertical-align: top;\n",
       "    }\n",
       "\n",
       "    .dataframe thead th {\n",
       "        text-align: right;\n",
       "    }\n",
       "</style>\n",
       "<table border=\"1\" class=\"dataframe\">\n",
       "  <thead>\n",
       "    <tr style=\"text-align: right;\">\n",
       "      <th></th>\n",
       "      <th>SeniorCitizen</th>\n",
       "      <th>Partner</th>\n",
       "      <th>Dependents</th>\n",
       "      <th>PhoneService</th>\n",
       "      <th>PaperlessBilling</th>\n",
       "      <th>MonthlyCharges</th>\n",
       "      <th>TotalCharges</th>\n",
       "      <th>Churn</th>\n",
       "      <th>gender_Female</th>\n",
       "      <th>gender_Male</th>\n",
       "      <th>MultipleLines_No</th>\n",
       "      <th>MultipleLines_No phone service</th>\n",
       "      <th>MultipleLines_Yes</th>\n",
       "      <th>InternetService_DSL</th>\n",
       "      <th>InternetService_Fiber optic</th>\n",
       "      <th>InternetService_No</th>\n",
       "      <th>OnlineSecurity_No</th>\n",
       "      <th>OnlineSecurity_No internet service</th>\n",
       "      <th>OnlineSecurity_Yes</th>\n",
       "      <th>OnlineBackup_No</th>\n",
       "      <th>OnlineBackup_No internet service</th>\n",
       "      <th>OnlineBackup_Yes</th>\n",
       "      <th>DeviceProtection_No</th>\n",
       "      <th>DeviceProtection_No internet service</th>\n",
       "      <th>DeviceProtection_Yes</th>\n",
       "      <th>TechSupport_No</th>\n",
       "      <th>TechSupport_No internet service</th>\n",
       "      <th>TechSupport_Yes</th>\n",
       "      <th>StreamingTV_No</th>\n",
       "      <th>StreamingTV_No internet service</th>\n",
       "      <th>StreamingTV_Yes</th>\n",
       "      <th>StreamingMovies_No</th>\n",
       "      <th>StreamingMovies_No internet service</th>\n",
       "      <th>StreamingMovies_Yes</th>\n",
       "      <th>Contract_Month-to-month</th>\n",
       "      <th>Contract_One year</th>\n",
       "      <th>Contract_Two year</th>\n",
       "      <th>PaymentMethod_Bank transfer (automatic)</th>\n",
       "      <th>PaymentMethod_Credit card (automatic)</th>\n",
       "      <th>PaymentMethod_Electronic check</th>\n",
       "      <th>PaymentMethod_Mailed check</th>\n",
       "      <th>tenure_bin_0</th>\n",
       "      <th>tenure_bin_1</th>\n",
       "      <th>tenure_bin_2</th>\n",
       "      <th>tenure_bin_3</th>\n",
       "      <th>tenure_bin_4</th>\n",
       "      <th>tenure_bin_5</th>\n",
       "      <th>tenure_bin_6</th>\n",
       "      <th>tenure_bin_7</th>\n",
       "      <th>tenure_bin_8</th>\n",
       "      <th>tenure_bin_9</th>\n",
       "    </tr>\n",
       "  </thead>\n",
       "  <tbody>\n",
       "    <tr>\n",
       "      <th>0</th>\n",
       "      <td>0</td>\n",
       "      <td>1</td>\n",
       "      <td>0</td>\n",
       "      <td>0</td>\n",
       "      <td>1</td>\n",
       "      <td>0.115423</td>\n",
       "      <td>0.003437</td>\n",
       "      <td>0</td>\n",
       "      <td>1.0</td>\n",
       "      <td>0.0</td>\n",
       "      <td>0.0</td>\n",
       "      <td>1.0</td>\n",
       "      <td>0.0</td>\n",
       "      <td>1.0</td>\n",
       "      <td>0.0</td>\n",
       "      <td>0.0</td>\n",
       "      <td>1.0</td>\n",
       "      <td>0.0</td>\n",
       "      <td>0.0</td>\n",
       "      <td>0.0</td>\n",
       "      <td>0.0</td>\n",
       "      <td>1.0</td>\n",
       "      <td>1.0</td>\n",
       "      <td>0.0</td>\n",
       "      <td>0.0</td>\n",
       "      <td>1.0</td>\n",
       "      <td>0.0</td>\n",
       "      <td>0.0</td>\n",
       "      <td>1.0</td>\n",
       "      <td>0.0</td>\n",
       "      <td>0.0</td>\n",
       "      <td>1.0</td>\n",
       "      <td>0.0</td>\n",
       "      <td>0.0</td>\n",
       "      <td>1.0</td>\n",
       "      <td>0.0</td>\n",
       "      <td>0.0</td>\n",
       "      <td>0.0</td>\n",
       "      <td>0.0</td>\n",
       "      <td>1.0</td>\n",
       "      <td>0.0</td>\n",
       "      <td>1.0</td>\n",
       "      <td>0.0</td>\n",
       "      <td>0.0</td>\n",
       "      <td>0.0</td>\n",
       "      <td>0.0</td>\n",
       "      <td>0.0</td>\n",
       "      <td>0.0</td>\n",
       "      <td>0.0</td>\n",
       "      <td>0.0</td>\n",
       "      <td>0.0</td>\n",
       "    </tr>\n",
       "    <tr>\n",
       "      <th>1</th>\n",
       "      <td>0</td>\n",
       "      <td>0</td>\n",
       "      <td>0</td>\n",
       "      <td>1</td>\n",
       "      <td>0</td>\n",
       "      <td>0.385075</td>\n",
       "      <td>0.217564</td>\n",
       "      <td>0</td>\n",
       "      <td>0.0</td>\n",
       "      <td>1.0</td>\n",
       "      <td>1.0</td>\n",
       "      <td>0.0</td>\n",
       "      <td>0.0</td>\n",
       "      <td>1.0</td>\n",
       "      <td>0.0</td>\n",
       "      <td>0.0</td>\n",
       "      <td>0.0</td>\n",
       "      <td>0.0</td>\n",
       "      <td>1.0</td>\n",
       "      <td>1.0</td>\n",
       "      <td>0.0</td>\n",
       "      <td>0.0</td>\n",
       "      <td>0.0</td>\n",
       "      <td>0.0</td>\n",
       "      <td>1.0</td>\n",
       "      <td>1.0</td>\n",
       "      <td>0.0</td>\n",
       "      <td>0.0</td>\n",
       "      <td>1.0</td>\n",
       "      <td>0.0</td>\n",
       "      <td>0.0</td>\n",
       "      <td>1.0</td>\n",
       "      <td>0.0</td>\n",
       "      <td>0.0</td>\n",
       "      <td>0.0</td>\n",
       "      <td>1.0</td>\n",
       "      <td>0.0</td>\n",
       "      <td>0.0</td>\n",
       "      <td>0.0</td>\n",
       "      <td>0.0</td>\n",
       "      <td>1.0</td>\n",
       "      <td>0.0</td>\n",
       "      <td>0.0</td>\n",
       "      <td>0.0</td>\n",
       "      <td>0.0</td>\n",
       "      <td>0.0</td>\n",
       "      <td>1.0</td>\n",
       "      <td>0.0</td>\n",
       "      <td>0.0</td>\n",
       "      <td>0.0</td>\n",
       "      <td>0.0</td>\n",
       "    </tr>\n",
       "    <tr>\n",
       "      <th>2</th>\n",
       "      <td>0</td>\n",
       "      <td>0</td>\n",
       "      <td>0</td>\n",
       "      <td>1</td>\n",
       "      <td>1</td>\n",
       "      <td>0.354229</td>\n",
       "      <td>0.012453</td>\n",
       "      <td>1</td>\n",
       "      <td>0.0</td>\n",
       "      <td>1.0</td>\n",
       "      <td>1.0</td>\n",
       "      <td>0.0</td>\n",
       "      <td>0.0</td>\n",
       "      <td>1.0</td>\n",
       "      <td>0.0</td>\n",
       "      <td>0.0</td>\n",
       "      <td>0.0</td>\n",
       "      <td>0.0</td>\n",
       "      <td>1.0</td>\n",
       "      <td>0.0</td>\n",
       "      <td>0.0</td>\n",
       "      <td>1.0</td>\n",
       "      <td>1.0</td>\n",
       "      <td>0.0</td>\n",
       "      <td>0.0</td>\n",
       "      <td>1.0</td>\n",
       "      <td>0.0</td>\n",
       "      <td>0.0</td>\n",
       "      <td>1.0</td>\n",
       "      <td>0.0</td>\n",
       "      <td>0.0</td>\n",
       "      <td>1.0</td>\n",
       "      <td>0.0</td>\n",
       "      <td>0.0</td>\n",
       "      <td>1.0</td>\n",
       "      <td>0.0</td>\n",
       "      <td>0.0</td>\n",
       "      <td>0.0</td>\n",
       "      <td>0.0</td>\n",
       "      <td>0.0</td>\n",
       "      <td>1.0</td>\n",
       "      <td>1.0</td>\n",
       "      <td>0.0</td>\n",
       "      <td>0.0</td>\n",
       "      <td>0.0</td>\n",
       "      <td>0.0</td>\n",
       "      <td>0.0</td>\n",
       "      <td>0.0</td>\n",
       "      <td>0.0</td>\n",
       "      <td>0.0</td>\n",
       "      <td>0.0</td>\n",
       "    </tr>\n",
       "    <tr>\n",
       "      <th>3</th>\n",
       "      <td>0</td>\n",
       "      <td>0</td>\n",
       "      <td>0</td>\n",
       "      <td>0</td>\n",
       "      <td>0</td>\n",
       "      <td>0.239303</td>\n",
       "      <td>0.211951</td>\n",
       "      <td>0</td>\n",
       "      <td>0.0</td>\n",
       "      <td>1.0</td>\n",
       "      <td>0.0</td>\n",
       "      <td>1.0</td>\n",
       "      <td>0.0</td>\n",
       "      <td>1.0</td>\n",
       "      <td>0.0</td>\n",
       "      <td>0.0</td>\n",
       "      <td>0.0</td>\n",
       "      <td>0.0</td>\n",
       "      <td>1.0</td>\n",
       "      <td>1.0</td>\n",
       "      <td>0.0</td>\n",
       "      <td>0.0</td>\n",
       "      <td>0.0</td>\n",
       "      <td>0.0</td>\n",
       "      <td>1.0</td>\n",
       "      <td>0.0</td>\n",
       "      <td>0.0</td>\n",
       "      <td>1.0</td>\n",
       "      <td>1.0</td>\n",
       "      <td>0.0</td>\n",
       "      <td>0.0</td>\n",
       "      <td>1.0</td>\n",
       "      <td>0.0</td>\n",
       "      <td>0.0</td>\n",
       "      <td>0.0</td>\n",
       "      <td>1.0</td>\n",
       "      <td>0.0</td>\n",
       "      <td>1.0</td>\n",
       "      <td>0.0</td>\n",
       "      <td>0.0</td>\n",
       "      <td>0.0</td>\n",
       "      <td>0.0</td>\n",
       "      <td>0.0</td>\n",
       "      <td>0.0</td>\n",
       "      <td>0.0</td>\n",
       "      <td>0.0</td>\n",
       "      <td>0.0</td>\n",
       "      <td>1.0</td>\n",
       "      <td>0.0</td>\n",
       "      <td>0.0</td>\n",
       "      <td>0.0</td>\n",
       "    </tr>\n",
       "    <tr>\n",
       "      <th>4</th>\n",
       "      <td>0</td>\n",
       "      <td>0</td>\n",
       "      <td>0</td>\n",
       "      <td>1</td>\n",
       "      <td>1</td>\n",
       "      <td>0.521891</td>\n",
       "      <td>0.017462</td>\n",
       "      <td>1</td>\n",
       "      <td>1.0</td>\n",
       "      <td>0.0</td>\n",
       "      <td>1.0</td>\n",
       "      <td>0.0</td>\n",
       "      <td>0.0</td>\n",
       "      <td>0.0</td>\n",
       "      <td>1.0</td>\n",
       "      <td>0.0</td>\n",
       "      <td>1.0</td>\n",
       "      <td>0.0</td>\n",
       "      <td>0.0</td>\n",
       "      <td>1.0</td>\n",
       "      <td>0.0</td>\n",
       "      <td>0.0</td>\n",
       "      <td>1.0</td>\n",
       "      <td>0.0</td>\n",
       "      <td>0.0</td>\n",
       "      <td>1.0</td>\n",
       "      <td>0.0</td>\n",
       "      <td>0.0</td>\n",
       "      <td>1.0</td>\n",
       "      <td>0.0</td>\n",
       "      <td>0.0</td>\n",
       "      <td>1.0</td>\n",
       "      <td>0.0</td>\n",
       "      <td>0.0</td>\n",
       "      <td>1.0</td>\n",
       "      <td>0.0</td>\n",
       "      <td>0.0</td>\n",
       "      <td>0.0</td>\n",
       "      <td>0.0</td>\n",
       "      <td>1.0</td>\n",
       "      <td>0.0</td>\n",
       "      <td>1.0</td>\n",
       "      <td>0.0</td>\n",
       "      <td>0.0</td>\n",
       "      <td>0.0</td>\n",
       "      <td>0.0</td>\n",
       "      <td>0.0</td>\n",
       "      <td>0.0</td>\n",
       "      <td>0.0</td>\n",
       "      <td>0.0</td>\n",
       "      <td>0.0</td>\n",
       "    </tr>\n",
       "  </tbody>\n",
       "</table>\n",
       "</div>"
      ],
      "text/plain": [
       "   SeniorCitizen  Partner  Dependents  PhoneService  PaperlessBilling  \\\n",
       "0              0        1           0             0                 1   \n",
       "1              0        0           0             1                 0   \n",
       "2              0        0           0             1                 1   \n",
       "3              0        0           0             0                 0   \n",
       "4              0        0           0             1                 1   \n",
       "\n",
       "   MonthlyCharges  TotalCharges  Churn  gender_Female  gender_Male  \\\n",
       "0        0.115423      0.003437      0            1.0          0.0   \n",
       "1        0.385075      0.217564      0            0.0          1.0   \n",
       "2        0.354229      0.012453      1            0.0          1.0   \n",
       "3        0.239303      0.211951      0            0.0          1.0   \n",
       "4        0.521891      0.017462      1            1.0          0.0   \n",
       "\n",
       "   MultipleLines_No  MultipleLines_No phone service  MultipleLines_Yes  \\\n",
       "0               0.0                             1.0                0.0   \n",
       "1               1.0                             0.0                0.0   \n",
       "2               1.0                             0.0                0.0   \n",
       "3               0.0                             1.0                0.0   \n",
       "4               1.0                             0.0                0.0   \n",
       "\n",
       "   InternetService_DSL  InternetService_Fiber optic  InternetService_No  \\\n",
       "0                  1.0                          0.0                 0.0   \n",
       "1                  1.0                          0.0                 0.0   \n",
       "2                  1.0                          0.0                 0.0   \n",
       "3                  1.0                          0.0                 0.0   \n",
       "4                  0.0                          1.0                 0.0   \n",
       "\n",
       "   OnlineSecurity_No  OnlineSecurity_No internet service  OnlineSecurity_Yes  \\\n",
       "0                1.0                                 0.0                 0.0   \n",
       "1                0.0                                 0.0                 1.0   \n",
       "2                0.0                                 0.0                 1.0   \n",
       "3                0.0                                 0.0                 1.0   \n",
       "4                1.0                                 0.0                 0.0   \n",
       "\n",
       "   OnlineBackup_No  OnlineBackup_No internet service  OnlineBackup_Yes  \\\n",
       "0              0.0                               0.0               1.0   \n",
       "1              1.0                               0.0               0.0   \n",
       "2              0.0                               0.0               1.0   \n",
       "3              1.0                               0.0               0.0   \n",
       "4              1.0                               0.0               0.0   \n",
       "\n",
       "   DeviceProtection_No  DeviceProtection_No internet service  \\\n",
       "0                  1.0                                   0.0   \n",
       "1                  0.0                                   0.0   \n",
       "2                  1.0                                   0.0   \n",
       "3                  0.0                                   0.0   \n",
       "4                  1.0                                   0.0   \n",
       "\n",
       "   DeviceProtection_Yes  TechSupport_No  TechSupport_No internet service  \\\n",
       "0                   0.0             1.0                              0.0   \n",
       "1                   1.0             1.0                              0.0   \n",
       "2                   0.0             1.0                              0.0   \n",
       "3                   1.0             0.0                              0.0   \n",
       "4                   0.0             1.0                              0.0   \n",
       "\n",
       "   TechSupport_Yes  StreamingTV_No  StreamingTV_No internet service  \\\n",
       "0              0.0             1.0                              0.0   \n",
       "1              0.0             1.0                              0.0   \n",
       "2              0.0             1.0                              0.0   \n",
       "3              1.0             1.0                              0.0   \n",
       "4              0.0             1.0                              0.0   \n",
       "\n",
       "   StreamingTV_Yes  StreamingMovies_No  StreamingMovies_No internet service  \\\n",
       "0              0.0                 1.0                                  0.0   \n",
       "1              0.0                 1.0                                  0.0   \n",
       "2              0.0                 1.0                                  0.0   \n",
       "3              0.0                 1.0                                  0.0   \n",
       "4              0.0                 1.0                                  0.0   \n",
       "\n",
       "   StreamingMovies_Yes  Contract_Month-to-month  Contract_One year  \\\n",
       "0                  0.0                      1.0                0.0   \n",
       "1                  0.0                      0.0                1.0   \n",
       "2                  0.0                      1.0                0.0   \n",
       "3                  0.0                      0.0                1.0   \n",
       "4                  0.0                      1.0                0.0   \n",
       "\n",
       "   Contract_Two year  PaymentMethod_Bank transfer (automatic)  \\\n",
       "0                0.0                                      0.0   \n",
       "1                0.0                                      0.0   \n",
       "2                0.0                                      0.0   \n",
       "3                0.0                                      1.0   \n",
       "4                0.0                                      0.0   \n",
       "\n",
       "   PaymentMethod_Credit card (automatic)  PaymentMethod_Electronic check  \\\n",
       "0                                    0.0                             1.0   \n",
       "1                                    0.0                             0.0   \n",
       "2                                    0.0                             0.0   \n",
       "3                                    0.0                             0.0   \n",
       "4                                    0.0                             1.0   \n",
       "\n",
       "   PaymentMethod_Mailed check  tenure_bin_0  tenure_bin_1  tenure_bin_2  \\\n",
       "0                         0.0           1.0           0.0           0.0   \n",
       "1                         1.0           0.0           0.0           0.0   \n",
       "2                         1.0           1.0           0.0           0.0   \n",
       "3                         0.0           0.0           0.0           0.0   \n",
       "4                         0.0           1.0           0.0           0.0   \n",
       "\n",
       "   tenure_bin_3  tenure_bin_4  tenure_bin_5  tenure_bin_6  tenure_bin_7  \\\n",
       "0           0.0           0.0           0.0           0.0           0.0   \n",
       "1           0.0           0.0           1.0           0.0           0.0   \n",
       "2           0.0           0.0           0.0           0.0           0.0   \n",
       "3           0.0           0.0           0.0           1.0           0.0   \n",
       "4           0.0           0.0           0.0           0.0           0.0   \n",
       "\n",
       "   tenure_bin_8  tenure_bin_9  \n",
       "0           0.0           0.0  \n",
       "1           0.0           0.0  \n",
       "2           0.0           0.0  \n",
       "3           0.0           0.0  \n",
       "4           0.0           0.0  "
      ]
     },
     "execution_count": 21,
     "metadata": {},
     "output_type": "execute_result"
    }
   ],
   "source": [
    "data.head()"
   ]
  },
  {
   "cell_type": "markdown",
   "id": "b89bb48f-334b-4d6c-b2ae-474f5580431a",
   "metadata": {},
   "source": [
    "### Looking at correlation to choose columns"
   ]
  },
  {
   "cell_type": "code",
   "execution_count": 22,
   "id": "95ef0acc-9333-4425-9d7e-b9154acd4dd8",
   "metadata": {},
   "outputs": [
    {
     "data": {
      "text/plain": [
       "Text(0.5, 1.0, 'Correlations')"
      ]
     },
     "execution_count": 22,
     "metadata": {},
     "output_type": "execute_result"
    },
    {
     "data": {
      "image/png": "[encoded data removed]",
      "text/plain": [
       "<Figure size 640x480 with 2 Axes>"
      ]
     },
     "metadata": {},
     "output_type": "display_data"
    }
   ],
   "source": [
    "corr_matrix = data.corr()\n",
    "sns.set(font_scale=0.5)\n",
    "sns.heatmap(corr_matrix,cmap=\"YlGnBu\")\n",
    "plt.title(\"Correlations\", fontsize=18)"
   ]
  },
  {
   "cell_type": "markdown",
   "id": "220b79cc-daef-4aac-8e29-2a35b43b73f1",
   "metadata": {},
   "source": [
    "Churn is the value we are trying to predict so we need to look at correlations between this column and others."
   ]
  },
  {
   "cell_type": "code",
   "execution_count": 23,
   "id": "71ce1ef7-9319-42c3-a4cf-8c19268f9a9b",
   "metadata": {},
   "outputs": [
    {
     "data": {
      "text/plain": [
       "Churn                                      1.000000\n",
       "Contract_Month-to-month                    0.404884\n",
       "OnlineSecurity_No                          0.342255\n",
       "TechSupport_No                             0.336861\n",
       "InternetService_Fiber optic                0.308170\n",
       "PaymentMethod_Electronic check             0.301544\n",
       "tenure_bin_0                               0.267487\n",
       "OnlineBackup_No                            0.267049\n",
       "DeviceProtection_No                        0.251465\n",
       "MonthlyCharges                             0.194508\n",
       "PaperlessBilling                           0.190891\n",
       "SeniorCitizen                              0.151619\n",
       "tenure_bin_1                               0.133573\n",
       "StreamingMovies_No                         0.129117\n",
       "StreamingTV_No                             0.127197\n",
       "tenure_bin_2                               0.071486\n",
       "StreamingTV_Yes                            0.065032\n",
       "StreamingMovies_Yes                        0.063192\n",
       "MultipleLines_Yes                          0.041958\n",
       "tenure_bin_3                               0.033554\n",
       "PhoneService                               0.011323\n",
       "gender_Female                              0.008763\n",
       "gender_Male                               -0.008763\n",
       "MultipleLines_No phone service            -0.011323\n",
       "tenure_bin_4                              -0.026846\n",
       "MultipleLines_No                          -0.034782\n",
       "tenure_bin_5                              -0.034809\n",
       "tenure_bin_6                              -0.063918\n",
       "DeviceProtection_Yes                      -0.064944\n",
       "OnlineBackup_Yes                          -0.081092\n",
       "PaymentMethod_Mailed check                -0.092562\n",
       "tenure_bin_7                              -0.104879\n",
       "PaymentMethod_Bank transfer (automatic)   -0.117242\n",
       "InternetService_DSL                       -0.124223\n",
       "tenure_bin_8                              -0.128681\n",
       "PaymentMethod_Credit card (automatic)     -0.133666\n",
       "Partner                                   -0.149135\n",
       "Dependents                                -0.163459\n",
       "TechSupport_Yes                           -0.163937\n",
       "tenure_bin_9                              -0.166098\n",
       "OnlineSecurity_Yes                        -0.170520\n",
       "Contract_One year                         -0.177336\n",
       "TotalCharges                              -0.197198\n",
       "OnlineBackup_No internet service          -0.228533\n",
       "InternetService_No                        -0.228533\n",
       "StreamingMovies_No internet service       -0.228533\n",
       "OnlineSecurity_No internet service        -0.228533\n",
       "StreamingTV_No internet service           -0.228533\n",
       "TechSupport_No internet service           -0.228533\n",
       "DeviceProtection_No internet service      -0.228533\n",
       "Contract_Two year                         -0.302076\n",
       "Name: Churn, dtype: float64"
      ]
     },
     "execution_count": 23,
     "metadata": {},
     "output_type": "execute_result"
    }
   ],
   "source": [
    "corr_matrix[\"Churn\"].sort_values(ascending=False)"
   ]
  },
  {
   "cell_type": "code",
   "execution_count": 24,
   "id": "d7740b18-d3f1-4475-84df-6d9b011a658d",
   "metadata": {},
   "outputs": [
    {
     "data": {
      "text/plain": [
       "Churn                             1.000000\n",
       "Contract_Month-to-month           0.404884\n",
       "OnlineSecurity_No                 0.342255\n",
       "TechSupport_No                    0.336861\n",
       "InternetService_Fiber optic       0.308170\n",
       "Contract_Two year                 0.302076\n",
       "PaymentMethod_Electronic check    0.301544\n",
       "Name: Churn, dtype: float64"
      ]
     },
     "execution_count": 24,
     "metadata": {},
     "output_type": "execute_result"
    }
   ],
   "source": [
    "abs(corr_matrix[\"Churn\"]).sort_values(ascending=False)[abs(corr_matrix[\"Churn\"]) > 0.3]"
   ]
  },
  {
   "cell_type": "markdown",
   "id": "fb517ad0-0e5a-42d3-8f10-ce29cdf8f2d1",
   "metadata": {},
   "source": [
    "Seems like there are no strong correlations (>0.7) but we cannot train a model without having any attributes. Therefore we take those columns that have more than 0.3 absolute correlation value and we take tenure aswell (it has been divided into bins and actually is important too)."
   ]
  },
  {
   "cell_type": "markdown",
   "id": "f2a8e94c-1242-4e50-8123-844208b07109",
   "metadata": {},
   "source": [
    "### Dividing and balancing data"
   ]
  },
  {
   "cell_type": "code",
   "execution_count": 25,
   "id": "8947b9d6-7ca1-415b-bde9-39e0680da931",
   "metadata": {},
   "outputs": [],
   "source": [
    "chosen_columns = [\"Contract_Month-to-month\", \"OnlineSecurity_No\", \"TechSupport_No\", \"InternetService_Fiber optic\", \"Contract_Two year\", \"PaymentMethod_Electronic check\"]\n",
    "# Adding all of the tenure bins\n",
    "for column in tenure_onehot_values:\n",
    "    chosen_columns.append(column)\n",
    "data =  shuffle(data)\n",
    "\n",
    "X = data[chosen_columns]\n",
    "y = data[\"Churn\"]\n",
    "\n",
    "X_train, X_test, y_train, y_test = train_test_split(X, y, test_size=0.2, random_state=42)"
   ]
  },
  {
   "cell_type": "code",
   "execution_count": 26,
   "id": "a2e5106e-eaa0-4b0d-8e68-942d659f7cfd",
   "metadata": {},
   "outputs": [
    {
     "name": "stdout",
     "output_type": "stream",
     "text": [
      "Train size 5616\n",
      "Test size 1405\n"
     ]
    }
   ],
   "source": [
    "print(\"Train size\", len(X_train))\n",
    "print(\"Test size\", len(X_test))"
   ]
  },
  {
   "cell_type": "code",
   "execution_count": 27,
   "id": "5365fd83-cc03-43c5-a62f-0c6519b3a8aa",
   "metadata": {},
   "outputs": [],
   "source": [
    "ros = RandomOverSampler(random_state=42)\n",
    "X_resampled, y_resampled = ros.fit_resample(X_train, y_train)"
   ]
  },
  {
   "cell_type": "code",
   "execution_count": 28,
   "id": "7e02df6d-006f-46af-a6e0-29aed7674e9b",
   "metadata": {},
   "outputs": [
    {
     "name": "stdout",
     "output_type": "stream",
     "text": [
      "Before balance [(0, 4127), (1, 1489)]\n",
      "After balance [(0, 4127), (1, 4127)]\n"
     ]
    }
   ],
   "source": [
    "# Changes\n",
    "print(\"Before balance\",sorted(Counter(y_train).items()))\n",
    "print(\"After balance\",sorted(Counter(y_resampled).items()))"
   ]
  },
  {
   "cell_type": "markdown",
   "id": "6fc45c45",
   "metadata": {},
   "source": [
    "# PART 1 of models"
   ]
  },
  {
   "cell_type": "markdown",
   "id": "ae70fec5",
   "metadata": {},
   "source": [
    "Part 1 is where oversampled data is used."
   ]
  },
  {
   "cell_type": "markdown",
   "id": "41bec8b9",
   "metadata": {},
   "source": [
    "## Building models"
   ]
  },
  {
   "cell_type": "markdown",
   "id": "1aac5e45-054a-4b7e-af97-d655d36eb95e",
   "metadata": {},
   "source": [
    "Since this is a binary classification task we need to use models that can do the task. "
   ]
  },
  {
   "cell_type": "markdown",
   "id": "6c76b04a-dfe8-48b6-a293-56a40e9361f5",
   "metadata": {},
   "source": [
    "The first model is RandomForestClassifier. The output of the model is the class that was selected by majority of the trees. This is one of the simplest models for classification. "
   ]
  },
  {
   "cell_type": "code",
   "execution_count": 29,
   "id": "a99694de",
   "metadata": {},
   "outputs": [
    {
     "data": {
      "text/html": [
       "<style>#sk-container-id-1 {color: black;}#sk-container-id-1 pre{padding: 0;}#sk-container-id-1 div.sk-toggleable {background-color: white;}#sk-container-id-1 label.sk-toggleable__label {cursor: pointer;display: block;width: 100%;margin-bottom: 0;padding: 0.3em;box-sizing: border-box;text-align: center;}#sk-container-id-1 label.sk-toggleable__label-arrow:before {content: \"▸\";float: left;margin-right: 0.25em;color: #696969;}#sk-container-id-1 label.sk-toggleable__label-arrow:hover:before {color: black;}#sk-container-id-1 div.sk-estimator:hover label.sk-toggleable__label-arrow:before {color: black;}#sk-container-id-1 div.sk-toggleable__content {max-height: 0;max-width: 0;overflow: hidden;text-align: left;background-color: #f0f8ff;}#sk-container-id-1 div.sk-toggleable__content pre {margin: 0.2em;color: black;border-radius: 0.25em;background-color: #f0f8ff;}#sk-container-id-1 input.sk-toggleable__control:checked~div.sk-toggleable__content {max-height: 200px;max-width: 100%;overflow: auto;}#sk-container-id-1 input.sk-toggleable__control:checked~label.sk-toggleable__label-arrow:before {content: \"▾\";}#sk-container-id-1 div.sk-estimator input.sk-toggleable__control:checked~label.sk-toggleable__label {background-color: #d4ebff;}#sk-container-id-1 div.sk-label input.sk-toggleable__control:checked~label.sk-toggleable__label {background-color: #d4ebff;}#sk-container-id-1 input.sk-hidden--visually {border: 0;clip: rect(1px 1px 1px 1px);clip: rect(1px, 1px, 1px, 1px);height: 1px;margin: -1px;overflow: hidden;padding: 0;position: absolute;width: 1px;}#sk-container-id-1 div.sk-estimator {font-family: monospace;background-color: #f0f8ff;border: 1px dotted black;border-radius: 0.25em;box-sizing: border-box;margin-bottom: 0.5em;}#sk-container-id-1 div.sk-estimator:hover {background-color: #d4ebff;}#sk-container-id-1 div.sk-parallel-item::after {content: \"\";width: 100%;border-bottom: 1px solid gray;flex-grow: 1;}#sk-container-id-1 div.sk-label:hover label.sk-toggleable__label {background-color: #d4ebff;}#sk-container-id-1 div.sk-serial::before {content: \"\";position: absolute;border-left: 1px solid gray;box-sizing: border-box;top: 0;bottom: 0;left: 50%;z-index: 0;}#sk-container-id-1 div.sk-serial {display: flex;flex-direction: column;align-items: center;background-color: white;padding-right: 0.2em;padding-left: 0.2em;position: relative;}#sk-container-id-1 div.sk-item {position: relative;z-index: 1;}#sk-container-id-1 div.sk-parallel {display: flex;align-items: stretch;justify-content: center;background-color: white;position: relative;}#sk-container-id-1 div.sk-item::before, #sk-container-id-1 div.sk-parallel-item::before {content: \"\";position: absolute;border-left: 1px solid gray;box-sizing: border-box;top: 0;bottom: 0;left: 50%;z-index: -1;}#sk-container-id-1 div.sk-parallel-item {display: flex;flex-direction: column;z-index: 1;position: relative;background-color: white;}#sk-container-id-1 div.sk-parallel-item:first-child::after {align-self: flex-end;width: 50%;}#sk-container-id-1 div.sk-parallel-item:last-child::after {align-self: flex-start;width: 50%;}#sk-container-id-1 div.sk-parallel-item:only-child::after {width: 0;}#sk-container-id-1 div.sk-dashed-wrapped {border: 1px dashed gray;margin: 0 0.4em 0.5em 0.4em;box-sizing: border-box;padding-bottom: 0.4em;background-color: white;}#sk-container-id-1 div.sk-label label {font-family: monospace;font-weight: bold;display: inline-block;line-height: 1.2em;}#sk-container-id-1 div.sk-label-container {text-align: center;}#sk-container-id-1 div.sk-container {/* jupyter's `normalize.less` sets `[hidden] { display: none; }` but bootstrap.min.css set `[hidden] { display: none !important; }` so we also need the `!important` here to be able to override the default hidden behavior on the sphinx rendered scikit-learn.org. See: https://github.com/scikit-learn/scikit-learn/issues/21755 */display: inline-block !important;position: relative;}#sk-container-id-1 div.sk-text-repr-fallback {display: none;}</style><div id=\"sk-container-id-1\" class=\"sk-top-container\"><div class=\"sk-text-repr-fallback\"><pre>RandomForestClassifier(max_leaf_nodes=50, min_samples_leaf=5, n_estimators=40,\n",
       "                       random_state=42)</pre><b>In a Jupyter environment, please rerun this cell to show the HTML representation or trust the notebook. <br />On GitHub, the HTML representation is unable to render, please try loading this page with nbviewer.org.</b></div><div class=\"sk-container\" hidden><div class=\"sk-item\"><div class=\"sk-estimator sk-toggleable\"><input class=\"sk-toggleable__control sk-hidden--visually\" id=\"sk-estimator-id-1\" type=\"checkbox\" checked><label for=\"sk-estimator-id-1\" class=\"sk-toggleable__label sk-toggleable__label-arrow\">RandomForestClassifier</label><div class=\"sk-toggleable__content\"><pre>RandomForestClassifier(max_leaf_nodes=50, min_samples_leaf=5, n_estimators=40,\n",
       "                       random_state=42)</pre></div></div></div></div></div>"
      ],
      "text/plain": [
       "RandomForestClassifier(max_leaf_nodes=50, min_samples_leaf=5, n_estimators=40,\n",
       "                       random_state=42)"
      ]
     },
     "execution_count": 29,
     "metadata": {},
     "output_type": "execute_result"
    }
   ],
   "source": [
    "model1 = RandomForestClassifier(n_estimators=40, min_samples_leaf=5, max_leaf_nodes=50, random_state=42)\n",
    "model1.fit(X_resampled, y_resampled)"
   ]
  },
  {
   "cell_type": "markdown",
   "id": "265b916a-d6f3-460e-aab4-eded815d9c57",
   "metadata": {},
   "source": [
    "The second model is GaussianNB. Again this is another classification model and it uses Gaussian distribution."
   ]
  },
  {
   "cell_type": "code",
   "execution_count": 30,
   "id": "90647cee-1e66-458d-ae6e-a93293c52c5c",
   "metadata": {},
   "outputs": [
    {
     "data": {
      "text/html": [
       "<style>#sk-container-id-2 {color: black;}#sk-container-id-2 pre{padding: 0;}#sk-container-id-2 div.sk-toggleable {background-color: white;}#sk-container-id-2 label.sk-toggleable__label {cursor: pointer;display: block;width: 100%;margin-bottom: 0;padding: 0.3em;box-sizing: border-box;text-align: center;}#sk-container-id-2 label.sk-toggleable__label-arrow:before {content: \"▸\";float: left;margin-right: 0.25em;color: #696969;}#sk-container-id-2 label.sk-toggleable__label-arrow:hover:before {color: black;}#sk-container-id-2 div.sk-estimator:hover label.sk-toggleable__label-arrow:before {color: black;}#sk-container-id-2 div.sk-toggleable__content {max-height: 0;max-width: 0;overflow: hidden;text-align: left;background-color: #f0f8ff;}#sk-container-id-2 div.sk-toggleable__content pre {margin: 0.2em;color: black;border-radius: 0.25em;background-color: #f0f8ff;}#sk-container-id-2 input.sk-toggleable__control:checked~div.sk-toggleable__content {max-height: 200px;max-width: 100%;overflow: auto;}#sk-container-id-2 input.sk-toggleable__control:checked~label.sk-toggleable__label-arrow:before {content: \"▾\";}#sk-container-id-2 div.sk-estimator input.sk-toggleable__control:checked~label.sk-toggleable__label {background-color: #d4ebff;}#sk-container-id-2 div.sk-label input.sk-toggleable__control:checked~label.sk-toggleable__label {background-color: #d4ebff;}#sk-container-id-2 input.sk-hidden--visually {border: 0;clip: rect(1px 1px 1px 1px);clip: rect(1px, 1px, 1px, 1px);height: 1px;margin: -1px;overflow: hidden;padding: 0;position: absolute;width: 1px;}#sk-container-id-2 div.sk-estimator {font-family: monospace;background-color: #f0f8ff;border: 1px dotted black;border-radius: 0.25em;box-sizing: border-box;margin-bottom: 0.5em;}#sk-container-id-2 div.sk-estimator:hover {background-color: #d4ebff;}#sk-container-id-2 div.sk-parallel-item::after {content: \"\";width: 100%;border-bottom: 1px solid gray;flex-grow: 1;}#sk-container-id-2 div.sk-label:hover label.sk-toggleable__label {background-color: #d4ebff;}#sk-container-id-2 div.sk-serial::before {content: \"\";position: absolute;border-left: 1px solid gray;box-sizing: border-box;top: 0;bottom: 0;left: 50%;z-index: 0;}#sk-container-id-2 div.sk-serial {display: flex;flex-direction: column;align-items: center;background-color: white;padding-right: 0.2em;padding-left: 0.2em;position: relative;}#sk-container-id-2 div.sk-item {position: relative;z-index: 1;}#sk-container-id-2 div.sk-parallel {display: flex;align-items: stretch;justify-content: center;background-color: white;position: relative;}#sk-container-id-2 div.sk-item::before, #sk-container-id-2 div.sk-parallel-item::before {content: \"\";position: absolute;border-left: 1px solid gray;box-sizing: border-box;top: 0;bottom: 0;left: 50%;z-index: -1;}#sk-container-id-2 div.sk-parallel-item {display: flex;flex-direction: column;z-index: 1;position: relative;background-color: white;}#sk-container-id-2 div.sk-parallel-item:first-child::after {align-self: flex-end;width: 50%;}#sk-container-id-2 div.sk-parallel-item:last-child::after {align-self: flex-start;width: 50%;}#sk-container-id-2 div.sk-parallel-item:only-child::after {width: 0;}#sk-container-id-2 div.sk-dashed-wrapped {border: 1px dashed gray;margin: 0 0.4em 0.5em 0.4em;box-sizing: border-box;padding-bottom: 0.4em;background-color: white;}#sk-container-id-2 div.sk-label label {font-family: monospace;font-weight: bold;display: inline-block;line-height: 1.2em;}#sk-container-id-2 div.sk-label-container {text-align: center;}#sk-container-id-2 div.sk-container {/* jupyter's `normalize.less` sets `[hidden] { display: none; }` but bootstrap.min.css set `[hidden] { display: none !important; }` so we also need the `!important` here to be able to override the default hidden behavior on the sphinx rendered scikit-learn.org. See: https://github.com/scikit-learn/scikit-learn/issues/21755 */display: inline-block !important;position: relative;}#sk-container-id-2 div.sk-text-repr-fallback {display: none;}</style><div id=\"sk-container-id-2\" class=\"sk-top-container\"><div class=\"sk-text-repr-fallback\"><pre>GaussianNB()</pre><b>In a Jupyter environment, please rerun this cell to show the HTML representation or trust the notebook. <br />On GitHub, the HTML representation is unable to render, please try loading this page with nbviewer.org.</b></div><div class=\"sk-container\" hidden><div class=\"sk-item\"><div class=\"sk-estimator sk-toggleable\"><input class=\"sk-toggleable__control sk-hidden--visually\" id=\"sk-estimator-id-2\" type=\"checkbox\" checked><label for=\"sk-estimator-id-2\" class=\"sk-toggleable__label sk-toggleable__label-arrow\">GaussianNB</label><div class=\"sk-toggleable__content\"><pre>GaussianNB()</pre></div></div></div></div></div>"
      ],
      "text/plain": [
       "GaussianNB()"
      ]
     },
     "execution_count": 30,
     "metadata": {},
     "output_type": "execute_result"
    }
   ],
   "source": [
    "model2 = GaussianNB()\n",
    "model2.fit(X_resampled, y_resampled)"
   ]
  },
  {
   "cell_type": "markdown",
   "id": "25946d6c-7f56-427a-a0a3-a620dfc5484f",
   "metadata": {},
   "source": [
    "The third and fourth models are a neural network with three layers. Last layer has sigmoid activation because we want to have a value between 0 and 1."
   ]
  },
  {
   "cell_type": "code",
   "execution_count": 31,
   "id": "d402864f-849c-4261-bd98-9d8dc548935a",
   "metadata": {
    "scrolled": true
   },
   "outputs": [
    {
     "name": "stdout",
     "output_type": "stream",
     "text": [
      "Model: \"sequential\"\n",
      "_________________________________________________________________\n",
      " Layer (type)                Output Shape              Param #   \n",
      "=================================================================\n",
      " dense (Dense)               (None, 16)                272       \n",
      "                                                                 \n",
      " batch_normalization (BatchN  (None, 16)               64        \n",
      " ormalization)                                                   \n",
      "                                                                 \n",
      " dense_1 (Dense)             (None, 8)                 136       \n",
      "                                                                 \n",
      " dense_2 (Dense)             (None, 1)                 9         \n",
      "                                                                 \n",
      "=================================================================\n",
      "Total params: 481\n",
      "Trainable params: 449\n",
      "Non-trainable params: 32\n",
      "_________________________________________________________________\n",
      "Epoch 1/100\n",
      "258/258 [==============================] - 1s 1ms/step - loss: 0.6180 - accuracy: 0.6569\n",
      "Epoch 2/100\n",
      "258/258 [==============================] - 0s 1ms/step - loss: 0.4997 - accuracy: 0.7612\n",
      "Epoch 3/100\n",
      "258/258 [==============================] - 0s 1ms/step - loss: 0.4960 - accuracy: 0.7619\n",
      "Epoch 4/100\n",
      "258/258 [==============================] - 0s 1ms/step - loss: 0.4900 - accuracy: 0.7687\n",
      "Epoch 5/100\n",
      "258/258 [==============================] - 0s 1ms/step - loss: 0.4908 - accuracy: 0.7644\n",
      "Epoch 6/100\n",
      "258/258 [==============================] - 0s 1ms/step - loss: 0.4904 - accuracy: 0.7634\n",
      "Epoch 7/100\n",
      "258/258 [==============================] - 0s 1ms/step - loss: 0.4879 - accuracy: 0.7673\n",
      "Epoch 8/100\n",
      "258/258 [==============================] - 0s 1ms/step - loss: 0.4869 - accuracy: 0.7661\n",
      "Epoch 9/100\n",
      "258/258 [==============================] - 0s 1ms/step - loss: 0.4866 - accuracy: 0.7665\n",
      "Epoch 10/100\n",
      "258/258 [==============================] - 0s 1ms/step - loss: 0.4870 - accuracy: 0.7674\n",
      "Epoch 11/100\n",
      "258/258 [==============================] - 0s 964us/step - loss: 0.4859 - accuracy: 0.7668\n",
      "Epoch 12/100\n",
      "258/258 [==============================] - 0s 991us/step - loss: 0.4867 - accuracy: 0.7638\n",
      "Epoch 13/100\n",
      "258/258 [==============================] - 0s 972us/step - loss: 0.4858 - accuracy: 0.7673\n",
      "Epoch 14/100\n",
      "258/258 [==============================] - 0s 923us/step - loss: 0.4848 - accuracy: 0.7691\n",
      "Epoch 15/100\n",
      "258/258 [==============================] - 0s 890us/step - loss: 0.4851 - accuracy: 0.7640\n",
      "Epoch 16/100\n",
      "258/258 [==============================] - 0s 915us/step - loss: 0.4830 - accuracy: 0.7703\n",
      "Epoch 17/100\n",
      "258/258 [==============================] - 0s 886us/step - loss: 0.4850 - accuracy: 0.7679\n",
      "Epoch 18/100\n",
      "258/258 [==============================] - 0s 896us/step - loss: 0.4840 - accuracy: 0.7663\n",
      "Epoch 19/100\n",
      "258/258 [==============================] - 0s 903us/step - loss: 0.4841 - accuracy: 0.7682\n",
      "Epoch 20/100\n",
      "258/258 [==============================] - 0s 916us/step - loss: 0.4837 - accuracy: 0.7656\n",
      "Epoch 21/100\n",
      "258/258 [==============================] - 0s 882us/step - loss: 0.4831 - accuracy: 0.7676\n",
      "Epoch 22/100\n",
      "258/258 [==============================] - 0s 900us/step - loss: 0.4835 - accuracy: 0.7653\n",
      "Epoch 23/100\n",
      "258/258 [==============================] - 0s 890us/step - loss: 0.4816 - accuracy: 0.7674\n",
      "Epoch 24/100\n",
      "258/258 [==============================] - 0s 897us/step - loss: 0.4813 - accuracy: 0.7708\n",
      "Epoch 25/100\n",
      "258/258 [==============================] - 0s 892us/step - loss: 0.4806 - accuracy: 0.7670\n",
      "Epoch 26/100\n",
      "258/258 [==============================] - 0s 902us/step - loss: 0.4813 - accuracy: 0.7674\n",
      "Epoch 27/100\n",
      "258/258 [==============================] - 0s 992us/step - loss: 0.4812 - accuracy: 0.7717\n",
      "Epoch 28/100\n",
      "258/258 [==============================] - 0s 1ms/step - loss: 0.4805 - accuracy: 0.7699\n",
      "Epoch 29/100\n",
      "258/258 [==============================] - 0s 968us/step - loss: 0.4817 - accuracy: 0.7674\n",
      "Epoch 30/100\n",
      "258/258 [==============================] - 0s 958us/step - loss: 0.4801 - accuracy: 0.7679\n",
      "Epoch 31/100\n",
      "258/258 [==============================] - 0s 972us/step - loss: 0.4786 - accuracy: 0.7724\n",
      "Epoch 32/100\n",
      "258/258 [==============================] - 0s 993us/step - loss: 0.4789 - accuracy: 0.7713\n",
      "Epoch 33/100\n",
      "258/258 [==============================] - 0s 995us/step - loss: 0.4792 - accuracy: 0.7701\n",
      "Epoch 34/100\n",
      "258/258 [==============================] - 0s 972us/step - loss: 0.4779 - accuracy: 0.7716\n",
      "Epoch 35/100\n",
      "258/258 [==============================] - 0s 950us/step - loss: 0.4798 - accuracy: 0.7686\n",
      "Epoch 36/100\n",
      "258/258 [==============================] - 0s 976us/step - loss: 0.4780 - accuracy: 0.7705\n",
      "Epoch 37/100\n",
      "258/258 [==============================] - 0s 960us/step - loss: 0.4798 - accuracy: 0.7708\n",
      "Epoch 38/100\n",
      "258/258 [==============================] - 0s 993us/step - loss: 0.4778 - accuracy: 0.7725\n",
      "Epoch 39/100\n",
      "258/258 [==============================] - 0s 990us/step - loss: 0.4755 - accuracy: 0.7732\n",
      "Epoch 40/100\n",
      "258/258 [==============================] - 0s 975us/step - loss: 0.4772 - accuracy: 0.7742\n",
      "Epoch 41/100\n",
      "258/258 [==============================] - 0s 1ms/step - loss: 0.4753 - accuracy: 0.7760\n",
      "Epoch 42/100\n",
      "258/258 [==============================] - 0s 991us/step - loss: 0.4759 - accuracy: 0.7724\n",
      "Epoch 43/100\n",
      "258/258 [==============================] - 0s 976us/step - loss: 0.4745 - accuracy: 0.7793\n",
      "Epoch 44/100\n",
      "258/258 [==============================] - 0s 993us/step - loss: 0.4759 - accuracy: 0.7715\n",
      "Epoch 45/100\n",
      "258/258 [==============================] - 0s 957us/step - loss: 0.4751 - accuracy: 0.7740\n",
      "Epoch 46/100\n",
      "258/258 [==============================] - 0s 1ms/step - loss: 0.4772 - accuracy: 0.7711\n",
      "Epoch 47/100\n",
      "258/258 [==============================] - 0s 1ms/step - loss: 0.4751 - accuracy: 0.7708\n",
      "Epoch 48/100\n",
      "258/258 [==============================] - 0s 1ms/step - loss: 0.4753 - accuracy: 0.7722\n",
      "Epoch 49/100\n",
      "258/258 [==============================] - 0s 1ms/step - loss: 0.4758 - accuracy: 0.7721\n",
      "Epoch 50/100\n",
      "258/258 [==============================] - 0s 1ms/step - loss: 0.4761 - accuracy: 0.7731\n",
      "Epoch 51/100\n",
      "258/258 [==============================] - 0s 1ms/step - loss: 0.4762 - accuracy: 0.7693\n",
      "Epoch 52/100\n",
      "258/258 [==============================] - 0s 1ms/step - loss: 0.4745 - accuracy: 0.7711\n",
      "Epoch 53/100\n",
      "258/258 [==============================] - 0s 1ms/step - loss: 0.4734 - accuracy: 0.7760\n",
      "Epoch 54/100\n",
      "258/258 [==============================] - 0s 1ms/step - loss: 0.4747 - accuracy: 0.7745\n",
      "Epoch 55/100\n",
      "258/258 [==============================] - 0s 995us/step - loss: 0.4728 - accuracy: 0.7725\n",
      "Epoch 56/100\n",
      "258/258 [==============================] - 0s 1ms/step - loss: 0.4728 - accuracy: 0.7747\n",
      "Epoch 57/100\n",
      "258/258 [==============================] - 0s 1ms/step - loss: 0.4722 - accuracy: 0.7744\n",
      "Epoch 58/100\n",
      "258/258 [==============================] - 0s 943us/step - loss: 0.4711 - accuracy: 0.7756\n",
      "Epoch 59/100\n",
      "258/258 [==============================] - 0s 918us/step - loss: 0.4722 - accuracy: 0.7760\n",
      "Epoch 60/100\n",
      "258/258 [==============================] - 0s 924us/step - loss: 0.4732 - accuracy: 0.7739\n",
      "Epoch 61/100\n",
      "258/258 [==============================] - 0s 940us/step - loss: 0.4742 - accuracy: 0.7733\n",
      "Epoch 62/100\n",
      "258/258 [==============================] - 0s 934us/step - loss: 0.4712 - accuracy: 0.7745\n",
      "Epoch 63/100\n",
      "258/258 [==============================] - 0s 920us/step - loss: 0.4703 - accuracy: 0.7777\n",
      "Epoch 64/100\n",
      "258/258 [==============================] - 0s 968us/step - loss: 0.4706 - accuracy: 0.7724\n",
      "Epoch 65/100\n",
      "258/258 [==============================] - 0s 937us/step - loss: 0.4697 - accuracy: 0.7750\n",
      "Epoch 66/100\n",
      "258/258 [==============================] - 0s 983us/step - loss: 0.4720 - accuracy: 0.7756\n",
      "Epoch 67/100\n",
      "258/258 [==============================] - 0s 1ms/step - loss: 0.4727 - accuracy: 0.7739\n",
      "Epoch 68/100\n",
      "258/258 [==============================] - 0s 1ms/step - loss: 0.4727 - accuracy: 0.7742\n",
      "Epoch 69/100\n",
      "258/258 [==============================] - 0s 1ms/step - loss: 0.4716 - accuracy: 0.7730\n",
      "Epoch 70/100\n"
     ]
    },
    {
     "name": "stdout",
     "output_type": "stream",
     "text": [
      "258/258 [==============================] - 0s 1ms/step - loss: 0.4735 - accuracy: 0.7759\n",
      "Epoch 71/100\n",
      "258/258 [==============================] - 0s 999us/step - loss: 0.4721 - accuracy: 0.7725\n",
      "Epoch 72/100\n",
      "258/258 [==============================] - 0s 981us/step - loss: 0.4722 - accuracy: 0.7728\n",
      "Epoch 73/100\n",
      "258/258 [==============================] - 0s 964us/step - loss: 0.4718 - accuracy: 0.7731\n",
      "Epoch 74/100\n",
      "258/258 [==============================] - 0s 1ms/step - loss: 0.4705 - accuracy: 0.7728\n",
      "Epoch 75/100\n",
      "258/258 [==============================] - 0s 1ms/step - loss: 0.4714 - accuracy: 0.7732\n",
      "Epoch 76/100\n",
      "258/258 [==============================] - 0s 959us/step - loss: 0.4720 - accuracy: 0.7711\n",
      "Epoch 77/100\n",
      "258/258 [==============================] - 0s 1ms/step - loss: 0.4740 - accuracy: 0.7693\n",
      "Epoch 78/100\n",
      "258/258 [==============================] - 0s 1ms/step - loss: 0.4719 - accuracy: 0.7745\n",
      "Epoch 79/100\n",
      "258/258 [==============================] - 0s 967us/step - loss: 0.4715 - accuracy: 0.7754\n",
      "Epoch 80/100\n",
      "258/258 [==============================] - 0s 972us/step - loss: 0.4704 - accuracy: 0.7733\n",
      "Epoch 81/100\n",
      "258/258 [==============================] - 0s 963us/step - loss: 0.4696 - accuracy: 0.7754\n",
      "Epoch 82/100\n",
      "258/258 [==============================] - 0s 1ms/step - loss: 0.4702 - accuracy: 0.7768\n",
      "Epoch 83/100\n",
      "258/258 [==============================] - 0s 1ms/step - loss: 0.4717 - accuracy: 0.7721\n",
      "Epoch 84/100\n",
      "258/258 [==============================] - 0s 1ms/step - loss: 0.4729 - accuracy: 0.7742\n",
      "Epoch 85/100\n",
      "258/258 [==============================] - 0s 1ms/step - loss: 0.4720 - accuracy: 0.7740\n",
      "Epoch 86/100\n",
      "258/258 [==============================] - 0s 1ms/step - loss: 0.4687 - accuracy: 0.7742\n",
      "Epoch 87/100\n",
      "258/258 [==============================] - 0s 1ms/step - loss: 0.4713 - accuracy: 0.7737\n",
      "Epoch 88/100\n",
      "258/258 [==============================] - 0s 1ms/step - loss: 0.4726 - accuracy: 0.7704\n",
      "Epoch 89/100\n",
      "258/258 [==============================] - 0s 1ms/step - loss: 0.4728 - accuracy: 0.7760\n",
      "Epoch 90/100\n",
      "258/258 [==============================] - 0s 1ms/step - loss: 0.4686 - accuracy: 0.7777\n",
      "Epoch 91/100\n",
      "258/258 [==============================] - 0s 1ms/step - loss: 0.4690 - accuracy: 0.7721\n",
      "Epoch 92/100\n",
      "258/258 [==============================] - 0s 1ms/step - loss: 0.4690 - accuracy: 0.7764\n",
      "Epoch 93/100\n",
      "258/258 [==============================] - 0s 1ms/step - loss: 0.4718 - accuracy: 0.7721\n",
      "Epoch 94/100\n",
      "258/258 [==============================] - 0s 1ms/step - loss: 0.4725 - accuracy: 0.7739\n",
      "Epoch 95/100\n",
      "258/258 [==============================] - 0s 1ms/step - loss: 0.4691 - accuracy: 0.7756\n",
      "Epoch 96/100\n",
      "258/258 [==============================] - 0s 1ms/step - loss: 0.4695 - accuracy: 0.7760\n",
      "Epoch 97/100\n",
      "258/258 [==============================] - 0s 1ms/step - loss: 0.4704 - accuracy: 0.7768\n",
      "Epoch 98/100\n",
      "258/258 [==============================] - 0s 1ms/step - loss: 0.4710 - accuracy: 0.7742\n",
      "Epoch 99/100\n",
      "258/258 [==============================] - 0s 1ms/step - loss: 0.4682 - accuracy: 0.7748\n",
      "Epoch 100/100\n",
      "258/258 [==============================] - 0s 1ms/step - loss: 0.4698 - accuracy: 0.7761\n"
     ]
    },
    {
     "data": {
      "text/plain": [
       "<keras.callbacks.History at 0x1e89d06b2b0>"
      ]
     },
     "execution_count": 31,
     "metadata": {},
     "output_type": "execute_result"
    }
   ],
   "source": [
    "model3 = Sequential()\n",
    "\n",
    "model3.add(Dense(16, activation=\"tanh\", input_shape=(X_resampled.shape[1],)))\n",
    "model3.add(BatchNormalization())\n",
    "model3.add(Dense(8, activation=\"relu\"))\n",
    "model3.add(Dense(1, activation=\"sigmoid\"))\n",
    "\n",
    "model3.summary()\n",
    "\n",
    "model3.compile(loss='binary_crossentropy', optimizer=\"adam\", metrics=[\"accuracy\"])\n",
    "\n",
    "model3.fit(X_resampled, y_resampled, epochs=100, batch_size=32)"
   ]
  },
  {
   "cell_type": "code",
   "execution_count": 32,
   "id": "f945a9ff-a7be-4b96-a165-9fd49946c69c",
   "metadata": {
    "scrolled": true
   },
   "outputs": [
    {
     "name": "stdout",
     "output_type": "stream",
     "text": [
      "Model: \"sequential_1\"\n",
      "_________________________________________________________________\n",
      " Layer (type)                Output Shape              Param #   \n",
      "=================================================================\n",
      " dense_3 (Dense)             (None, 64)                1088      \n",
      "                                                                 \n",
      " dense_4 (Dense)             (None, 16)                1040      \n",
      "                                                                 \n",
      " dense_5 (Dense)             (None, 1)                 17        \n",
      "                                                                 \n",
      "=================================================================\n",
      "Total params: 2,145\n",
      "Trainable params: 2,145\n",
      "Non-trainable params: 0\n",
      "_________________________________________________________________\n",
      "Epoch 1/100\n",
      "258/258 [==============================] - 1s 849us/step - loss: 0.6393 - accuracy: 0.6708\n",
      "Epoch 2/100\n",
      "258/258 [==============================] - 0s 879us/step - loss: 0.5652 - accuracy: 0.7427\n",
      "Epoch 3/100\n",
      "258/258 [==============================] - 0s 870us/step - loss: 0.5259 - accuracy: 0.7553\n",
      "Epoch 4/100\n",
      "258/258 [==============================] - 0s 976us/step - loss: 0.5069 - accuracy: 0.7551\n",
      "Epoch 5/100\n",
      "258/258 [==============================] - 0s 952us/step - loss: 0.4987 - accuracy: 0.7595\n",
      "Epoch 6/100\n",
      "258/258 [==============================] - 0s 1ms/step - loss: 0.4948 - accuracy: 0.7595\n",
      "Epoch 7/100\n",
      "258/258 [==============================] - 0s 1ms/step - loss: 0.4925 - accuracy: 0.7622\n",
      "Epoch 8/100\n",
      "258/258 [==============================] - 0s 1ms/step - loss: 0.4908 - accuracy: 0.7639\n",
      "Epoch 9/100\n",
      "258/258 [==============================] - 0s 1ms/step - loss: 0.4898 - accuracy: 0.7654\n",
      "Epoch 10/100\n",
      "258/258 [==============================] - 0s 1ms/step - loss: 0.4890 - accuracy: 0.7698\n",
      "Epoch 11/100\n",
      "258/258 [==============================] - 0s 1ms/step - loss: 0.4881 - accuracy: 0.7694\n",
      "Epoch 12/100\n",
      "258/258 [==============================] - 0s 1ms/step - loss: 0.4875 - accuracy: 0.7697\n",
      "Epoch 13/100\n",
      "258/258 [==============================] - 0s 1ms/step - loss: 0.4869 - accuracy: 0.7687\n",
      "Epoch 14/100\n",
      "258/258 [==============================] - 0s 1ms/step - loss: 0.4867 - accuracy: 0.7694\n",
      "Epoch 15/100\n",
      "258/258 [==============================] - 0s 1ms/step - loss: 0.4859 - accuracy: 0.7715\n",
      "Epoch 16/100\n",
      "258/258 [==============================] - 0s 1ms/step - loss: 0.4856 - accuracy: 0.7722\n",
      "Epoch 17/100\n",
      "258/258 [==============================] - 0s 1ms/step - loss: 0.4852 - accuracy: 0.7705\n",
      "Epoch 18/100\n",
      "258/258 [==============================] - 0s 1ms/step - loss: 0.4846 - accuracy: 0.7714\n",
      "Epoch 19/100\n",
      "258/258 [==============================] - 0s 1ms/step - loss: 0.4841 - accuracy: 0.7705\n",
      "Epoch 20/100\n",
      "258/258 [==============================] - 0s 930us/step - loss: 0.4838 - accuracy: 0.7710\n",
      "Epoch 21/100\n",
      "258/258 [==============================] - 0s 937us/step - loss: 0.4833 - accuracy: 0.7710\n",
      "Epoch 22/100\n",
      "258/258 [==============================] - 0s 986us/step - loss: 0.4833 - accuracy: 0.7709\n",
      "Epoch 23/100\n",
      "258/258 [==============================] - 0s 914us/step - loss: 0.4829 - accuracy: 0.7722\n",
      "Epoch 24/100\n",
      "258/258 [==============================] - 0s 909us/step - loss: 0.4826 - accuracy: 0.7719\n",
      "Epoch 25/100\n",
      "258/258 [==============================] - 0s 1ms/step - loss: 0.4822 - accuracy: 0.7713\n",
      "Epoch 26/100\n",
      "258/258 [==============================] - 0s 1ms/step - loss: 0.4822 - accuracy: 0.7720\n",
      "Epoch 27/100\n",
      "258/258 [==============================] - 0s 1ms/step - loss: 0.4821 - accuracy: 0.7721\n",
      "Epoch 28/100\n",
      "258/258 [==============================] - 0s 1ms/step - loss: 0.4816 - accuracy: 0.7731\n",
      "Epoch 29/100\n",
      "258/258 [==============================] - 0s 967us/step - loss: 0.4813 - accuracy: 0.7732\n",
      "Epoch 30/100\n",
      "258/258 [==============================] - 0s 1ms/step - loss: 0.4812 - accuracy: 0.7724\n",
      "Epoch 31/100\n",
      "258/258 [==============================] - 0s 982us/step - loss: 0.4810 - accuracy: 0.7738\n",
      "Epoch 32/100\n",
      "258/258 [==============================] - 0s 978us/step - loss: 0.4809 - accuracy: 0.7727\n",
      "Epoch 33/100\n",
      "258/258 [==============================] - 0s 939us/step - loss: 0.4806 - accuracy: 0.7736\n",
      "Epoch 34/100\n",
      "258/258 [==============================] - 0s 966us/step - loss: 0.4804 - accuracy: 0.7720\n",
      "Epoch 35/100\n",
      "258/258 [==============================] - 0s 960us/step - loss: 0.4797 - accuracy: 0.7730\n",
      "Epoch 36/100\n",
      "258/258 [==============================] - 0s 1ms/step - loss: 0.4794 - accuracy: 0.7728\n",
      "Epoch 37/100\n",
      "258/258 [==============================] - 0s 990us/step - loss: 0.4794 - accuracy: 0.7736\n",
      "Epoch 38/100\n",
      "258/258 [==============================] - 0s 1ms/step - loss: 0.4797 - accuracy: 0.7734\n",
      "Epoch 39/100\n",
      "258/258 [==============================] - 0s 984us/step - loss: 0.4795 - accuracy: 0.7725\n",
      "Epoch 40/100\n",
      "258/258 [==============================] - 0s 1ms/step - loss: 0.4792 - accuracy: 0.7725\n",
      "Epoch 41/100\n",
      "258/258 [==============================] - 0s 896us/step - loss: 0.4792 - accuracy: 0.7717\n",
      "Epoch 42/100\n",
      "258/258 [==============================] - 0s 867us/step - loss: 0.4790 - accuracy: 0.7722\n",
      "Epoch 43/100\n",
      "258/258 [==============================] - 0s 876us/step - loss: 0.4790 - accuracy: 0.7721\n",
      "Epoch 44/100\n",
      "258/258 [==============================] - 0s 867us/step - loss: 0.4785 - accuracy: 0.7717\n",
      "Epoch 45/100\n",
      "258/258 [==============================] - 0s 972us/step - loss: 0.4785 - accuracy: 0.7717\n",
      "Epoch 46/100\n",
      "258/258 [==============================] - 0s 962us/step - loss: 0.4783 - accuracy: 0.7720\n",
      "Epoch 47/100\n",
      "258/258 [==============================] - 0s 873us/step - loss: 0.4780 - accuracy: 0.7732\n",
      "Epoch 48/100\n",
      "258/258 [==============================] - 0s 847us/step - loss: 0.4782 - accuracy: 0.7727\n",
      "Epoch 49/100\n",
      "258/258 [==============================] - 0s 886us/step - loss: 0.4778 - accuracy: 0.7721\n",
      "Epoch 50/100\n",
      "258/258 [==============================] - 0s 912us/step - loss: 0.4772 - accuracy: 0.7725\n",
      "Epoch 51/100\n",
      "258/258 [==============================] - 0s 921us/step - loss: 0.4777 - accuracy: 0.7727\n",
      "Epoch 52/100\n",
      "258/258 [==============================] - 0s 900us/step - loss: 0.4770 - accuracy: 0.7739\n",
      "Epoch 53/100\n",
      "258/258 [==============================] - 0s 884us/step - loss: 0.4772 - accuracy: 0.7728\n",
      "Epoch 54/100\n",
      "258/258 [==============================] - 0s 968us/step - loss: 0.4770 - accuracy: 0.7728\n",
      "Epoch 55/100\n",
      "258/258 [==============================] - 0s 986us/step - loss: 0.4770 - accuracy: 0.7732\n",
      "Epoch 56/100\n",
      "258/258 [==============================] - 0s 857us/step - loss: 0.4767 - accuracy: 0.7727\n",
      "Epoch 57/100\n",
      "258/258 [==============================] - 0s 867us/step - loss: 0.4765 - accuracy: 0.7716\n",
      "Epoch 58/100\n",
      "258/258 [==============================] - 0s 853us/step - loss: 0.4764 - accuracy: 0.7730\n",
      "Epoch 59/100\n",
      "258/258 [==============================] - 0s 876us/step - loss: 0.4762 - accuracy: 0.7748\n",
      "Epoch 60/100\n",
      "258/258 [==============================] - 0s 906us/step - loss: 0.4758 - accuracy: 0.7731\n",
      "Epoch 61/100\n",
      "258/258 [==============================] - 0s 884us/step - loss: 0.4759 - accuracy: 0.7742\n",
      "Epoch 62/100\n",
      "258/258 [==============================] - 0s 874us/step - loss: 0.4759 - accuracy: 0.7722\n",
      "Epoch 63/100\n",
      "258/258 [==============================] - 0s 894us/step - loss: 0.4755 - accuracy: 0.7738\n",
      "Epoch 64/100\n",
      "258/258 [==============================] - 0s 917us/step - loss: 0.4755 - accuracy: 0.7736\n",
      "Epoch 65/100\n",
      "258/258 [==============================] - 0s 1ms/step - loss: 0.4753 - accuracy: 0.7719\n",
      "Epoch 66/100\n",
      "258/258 [==============================] - 0s 1ms/step - loss: 0.4753 - accuracy: 0.7731\n",
      "Epoch 67/100\n",
      "258/258 [==============================] - 0s 1ms/step - loss: 0.4753 - accuracy: 0.7737\n",
      "Epoch 68/100\n",
      "258/258 [==============================] - 0s 1ms/step - loss: 0.4751 - accuracy: 0.7728\n",
      "Epoch 69/100\n",
      "258/258 [==============================] - 0s 1ms/step - loss: 0.4747 - accuracy: 0.7722\n",
      "Epoch 70/100\n",
      "258/258 [==============================] - 0s 1ms/step - loss: 0.4747 - accuracy: 0.7724\n",
      "Epoch 71/100\n",
      "258/258 [==============================] - 0s 1ms/step - loss: 0.4743 - accuracy: 0.7745\n",
      "Epoch 72/100\n"
     ]
    },
    {
     "name": "stdout",
     "output_type": "stream",
     "text": [
      "258/258 [==============================] - 0s 1ms/step - loss: 0.4744 - accuracy: 0.7744\n",
      "Epoch 73/100\n",
      "258/258 [==============================] - 0s 1ms/step - loss: 0.4742 - accuracy: 0.7733\n",
      "Epoch 74/100\n",
      "258/258 [==============================] - 0s 1ms/step - loss: 0.4739 - accuracy: 0.7748\n",
      "Epoch 75/100\n",
      "258/258 [==============================] - 0s 1ms/step - loss: 0.4739 - accuracy: 0.7728\n",
      "Epoch 76/100\n",
      "258/258 [==============================] - 0s 1ms/step - loss: 0.4737 - accuracy: 0.7745\n",
      "Epoch 77/100\n",
      "258/258 [==============================] - 0s 1ms/step - loss: 0.4735 - accuracy: 0.7745\n",
      "Epoch 78/100\n",
      "258/258 [==============================] - 0s 1ms/step - loss: 0.4736 - accuracy: 0.7739\n",
      "Epoch 79/100\n",
      "258/258 [==============================] - 0s 1ms/step - loss: 0.4732 - accuracy: 0.7736\n",
      "Epoch 80/100\n",
      "258/258 [==============================] - 0s 1ms/step - loss: 0.4732 - accuracy: 0.7743\n",
      "Epoch 81/100\n",
      "258/258 [==============================] - 0s 1ms/step - loss: 0.4732 - accuracy: 0.7749\n",
      "Epoch 82/100\n",
      "258/258 [==============================] - 0s 1ms/step - loss: 0.4729 - accuracy: 0.7734\n",
      "Epoch 83/100\n",
      "258/258 [==============================] - 0s 1ms/step - loss: 0.4727 - accuracy: 0.7742\n",
      "Epoch 84/100\n",
      "258/258 [==============================] - 0s 1ms/step - loss: 0.4728 - accuracy: 0.7737\n",
      "Epoch 85/100\n",
      "258/258 [==============================] - 0s 1ms/step - loss: 0.4725 - accuracy: 0.7744\n",
      "Epoch 86/100\n",
      "258/258 [==============================] - 0s 1ms/step - loss: 0.4725 - accuracy: 0.7736\n",
      "Epoch 87/100\n",
      "258/258 [==============================] - 0s 980us/step - loss: 0.4723 - accuracy: 0.7750\n",
      "Epoch 88/100\n",
      "258/258 [==============================] - 0s 919us/step - loss: 0.4722 - accuracy: 0.7743\n",
      "Epoch 89/100\n",
      "258/258 [==============================] - 0s 921us/step - loss: 0.4721 - accuracy: 0.7753\n",
      "Epoch 90/100\n",
      "258/258 [==============================] - 0s 946us/step - loss: 0.4717 - accuracy: 0.7733\n",
      "Epoch 91/100\n",
      "258/258 [==============================] - 0s 1ms/step - loss: 0.4717 - accuracy: 0.7755\n",
      "Epoch 92/100\n",
      "258/258 [==============================] - 0s 923us/step - loss: 0.4716 - accuracy: 0.7755\n",
      "Epoch 93/100\n",
      "258/258 [==============================] - 0s 921us/step - loss: 0.4714 - accuracy: 0.7744\n",
      "Epoch 94/100\n",
      "258/258 [==============================] - 0s 1ms/step - loss: 0.4713 - accuracy: 0.7728\n",
      "Epoch 95/100\n",
      "258/258 [==============================] - 0s 1ms/step - loss: 0.4714 - accuracy: 0.7747\n",
      "Epoch 96/100\n",
      "258/258 [==============================] - 0s 931us/step - loss: 0.4711 - accuracy: 0.7747\n",
      "Epoch 97/100\n",
      "258/258 [==============================] - 0s 978us/step - loss: 0.4709 - accuracy: 0.7742\n",
      "Epoch 98/100\n",
      "258/258 [==============================] - 0s 948us/step - loss: 0.4709 - accuracy: 0.7753\n",
      "Epoch 99/100\n",
      "258/258 [==============================] - 0s 997us/step - loss: 0.4704 - accuracy: 0.7740\n",
      "Epoch 100/100\n",
      "258/258 [==============================] - 0s 935us/step - loss: 0.4704 - accuracy: 0.7756\n"
     ]
    },
    {
     "data": {
      "text/plain": [
       "<keras.callbacks.History at 0x1e89e8a0190>"
      ]
     },
     "execution_count": 32,
     "metadata": {},
     "output_type": "execute_result"
    }
   ],
   "source": [
    "model4 = Sequential()\n",
    "\n",
    "model4.add(Dense(64, activation=\"relu\", input_shape=(X_resampled.shape[1],)))\n",
    "model4.add(Dense(16, activation=\"relu\"))\n",
    "model4.add(Dense(1, activation=\"sigmoid\"))\n",
    "\n",
    "model4.summary()\n",
    "\n",
    "model4.compile(loss='binary_crossentropy', optimizer=\"sgd\", metrics=[\"accuracy\"])\n",
    "\n",
    "model4.fit(X_resampled, y_resampled, epochs=100, batch_size=32)"
   ]
  },
  {
   "cell_type": "markdown",
   "id": "7697ffda-745b-49ce-955b-1149553547f0",
   "metadata": {},
   "source": [
    "The fifth model is a GradientBoostingClassifier."
   ]
  },
  {
   "cell_type": "code",
   "execution_count": 33,
   "id": "4fe0cd47-b5d7-4d8b-b464-b8b3fa9d5305",
   "metadata": {},
   "outputs": [
    {
     "data": {
      "text/html": [
       "<style>#sk-container-id-3 {color: black;}#sk-container-id-3 pre{padding: 0;}#sk-container-id-3 div.sk-toggleable {background-color: white;}#sk-container-id-3 label.sk-toggleable__label {cursor: pointer;display: block;width: 100%;margin-bottom: 0;padding: 0.3em;box-sizing: border-box;text-align: center;}#sk-container-id-3 label.sk-toggleable__label-arrow:before {content: \"▸\";float: left;margin-right: 0.25em;color: #696969;}#sk-container-id-3 label.sk-toggleable__label-arrow:hover:before {color: black;}#sk-container-id-3 div.sk-estimator:hover label.sk-toggleable__label-arrow:before {color: black;}#sk-container-id-3 div.sk-toggleable__content {max-height: 0;max-width: 0;overflow: hidden;text-align: left;background-color: #f0f8ff;}#sk-container-id-3 div.sk-toggleable__content pre {margin: 0.2em;color: black;border-radius: 0.25em;background-color: #f0f8ff;}#sk-container-id-3 input.sk-toggleable__control:checked~div.sk-toggleable__content {max-height: 200px;max-width: 100%;overflow: auto;}#sk-container-id-3 input.sk-toggleable__control:checked~label.sk-toggleable__label-arrow:before {content: \"▾\";}#sk-container-id-3 div.sk-estimator input.sk-toggleable__control:checked~label.sk-toggleable__label {background-color: #d4ebff;}#sk-container-id-3 div.sk-label input.sk-toggleable__control:checked~label.sk-toggleable__label {background-color: #d4ebff;}#sk-container-id-3 input.sk-hidden--visually {border: 0;clip: rect(1px 1px 1px 1px);clip: rect(1px, 1px, 1px, 1px);height: 1px;margin: -1px;overflow: hidden;padding: 0;position: absolute;width: 1px;}#sk-container-id-3 div.sk-estimator {font-family: monospace;background-color: #f0f8ff;border: 1px dotted black;border-radius: 0.25em;box-sizing: border-box;margin-bottom: 0.5em;}#sk-container-id-3 div.sk-estimator:hover {background-color: #d4ebff;}#sk-container-id-3 div.sk-parallel-item::after {content: \"\";width: 100%;border-bottom: 1px solid gray;flex-grow: 1;}#sk-container-id-3 div.sk-label:hover label.sk-toggleable__label {background-color: #d4ebff;}#sk-container-id-3 div.sk-serial::before {content: \"\";position: absolute;border-left: 1px solid gray;box-sizing: border-box;top: 0;bottom: 0;left: 50%;z-index: 0;}#sk-container-id-3 div.sk-serial {display: flex;flex-direction: column;align-items: center;background-color: white;padding-right: 0.2em;padding-left: 0.2em;position: relative;}#sk-container-id-3 div.sk-item {position: relative;z-index: 1;}#sk-container-id-3 div.sk-parallel {display: flex;align-items: stretch;justify-content: center;background-color: white;position: relative;}#sk-container-id-3 div.sk-item::before, #sk-container-id-3 div.sk-parallel-item::before {content: \"\";position: absolute;border-left: 1px solid gray;box-sizing: border-box;top: 0;bottom: 0;left: 50%;z-index: -1;}#sk-container-id-3 div.sk-parallel-item {display: flex;flex-direction: column;z-index: 1;position: relative;background-color: white;}#sk-container-id-3 div.sk-parallel-item:first-child::after {align-self: flex-end;width: 50%;}#sk-container-id-3 div.sk-parallel-item:last-child::after {align-self: flex-start;width: 50%;}#sk-container-id-3 div.sk-parallel-item:only-child::after {width: 0;}#sk-container-id-3 div.sk-dashed-wrapped {border: 1px dashed gray;margin: 0 0.4em 0.5em 0.4em;box-sizing: border-box;padding-bottom: 0.4em;background-color: white;}#sk-container-id-3 div.sk-label label {font-family: monospace;font-weight: bold;display: inline-block;line-height: 1.2em;}#sk-container-id-3 div.sk-label-container {text-align: center;}#sk-container-id-3 div.sk-container {/* jupyter's `normalize.less` sets `[hidden] { display: none; }` but bootstrap.min.css set `[hidden] { display: none !important; }` so we also need the `!important` here to be able to override the default hidden behavior on the sphinx rendered scikit-learn.org. See: https://github.com/scikit-learn/scikit-learn/issues/21755 */display: inline-block !important;position: relative;}#sk-container-id-3 div.sk-text-repr-fallback {display: none;}</style><div id=\"sk-container-id-3\" class=\"sk-top-container\"><div class=\"sk-text-repr-fallback\"><pre>GradientBoostingClassifier(learning_rate=1.0, max_depth=1, random_state=42)</pre><b>In a Jupyter environment, please rerun this cell to show the HTML representation or trust the notebook. <br />On GitHub, the HTML representation is unable to render, please try loading this page with nbviewer.org.</b></div><div class=\"sk-container\" hidden><div class=\"sk-item\"><div class=\"sk-estimator sk-toggleable\"><input class=\"sk-toggleable__control sk-hidden--visually\" id=\"sk-estimator-id-3\" type=\"checkbox\" checked><label for=\"sk-estimator-id-3\" class=\"sk-toggleable__label sk-toggleable__label-arrow\">GradientBoostingClassifier</label><div class=\"sk-toggleable__content\"><pre>GradientBoostingClassifier(learning_rate=1.0, max_depth=1, random_state=42)</pre></div></div></div></div></div>"
      ],
      "text/plain": [
       "GradientBoostingClassifier(learning_rate=1.0, max_depth=1, random_state=42)"
      ]
     },
     "execution_count": 33,
     "metadata": {},
     "output_type": "execute_result"
    }
   ],
   "source": [
    "model5 = GradientBoostingClassifier(n_estimators=100, learning_rate=1.0, max_depth=1, random_state=42)\n",
    "model5.fit(X_resampled, y_resampled)"
   ]
  },
  {
   "cell_type": "markdown",
   "id": "9a80f75d",
   "metadata": {},
   "source": [
    "## Evaluating models"
   ]
  },
  {
   "cell_type": "code",
   "execution_count": 34,
   "id": "64bee77d-dc17-4792-9ada-42325bd3106f",
   "metadata": {},
   "outputs": [],
   "source": [
    "models = []\n",
    "accuracies = []"
   ]
  },
  {
   "cell_type": "markdown",
   "id": "361d62c4",
   "metadata": {},
   "source": [
    "### RandomForestClassifier"
   ]
  },
  {
   "cell_type": "code",
   "execution_count": 35,
   "id": "a1d596d9",
   "metadata": {},
   "outputs": [],
   "source": [
    "y_pred_model1 = model1.predict(X_test)\n",
    "models.append(\"RFC\")\n",
    "accuracies.append(accuracy_score(y_test, y_pred_model1))"
   ]
  },
  {
   "cell_type": "code",
   "execution_count": 36,
   "id": "fe17f1a2",
   "metadata": {},
   "outputs": [
    {
     "data": {
      "text/plain": [
       "Text(0.5, 1.0, 'RFC model confusion matrix')"
      ]
     },
     "execution_count": 36,
     "metadata": {},
     "output_type": "execute_result"
    },
    {
     "data": {
      "image/png": "[encoded data removed]",
      "text/plain": [
       "<Figure size 640x480 with 2 Axes>"
      ]
     },
     "metadata": {},
     "output_type": "display_data"
    }
   ],
   "source": [
    "sns.heatmap(confusion_matrix(y_test, y_pred_model1), annot=True, fmt=\"1\", cmap='YlGnBu', annot_kws={\"size\":15}, xticklabels=[\"No\",\"Yes\"], yticklabels=[\"No\",\"Yes\"])\n",
    "\n",
    "plt.xlabel(\"Prediction\", fontsize=12)\n",
    "plt.ylabel(\"True label\", fontsize=12)\n",
    "plt.xticks(size=12)\n",
    "plt.yticks(size=12)\n",
    "plt.title(\"RFC model confusion matrix\", fontsize=18)"
   ]
  },
  {
   "cell_type": "markdown",
   "id": "3619bf50",
   "metadata": {},
   "source": [
    "True negative count is the highest, the model predicts \"No\" most of the time. \n",
    "\n",
    "The recall for both classes is around 0.70 to 0.80 but precision is on the lower side for positive class. "
   ]
  },
  {
   "cell_type": "code",
   "execution_count": 37,
   "id": "846dd6b7",
   "metadata": {},
   "outputs": [
    {
     "name": "stdout",
     "output_type": "stream",
     "text": [
      "              precision    recall  f1-score   support\n",
      "\n",
      "           0       0.91      0.70      0.79      1037\n",
      "           1       0.49      0.81      0.61       368\n",
      "\n",
      "    accuracy                           0.73      1405\n",
      "   macro avg       0.70      0.76      0.70      1405\n",
      "weighted avg       0.80      0.73      0.75      1405\n",
      "\n"
     ]
    }
   ],
   "source": [
    "print(classification_report(y_test, y_pred_model1))"
   ]
  },
  {
   "cell_type": "markdown",
   "id": "12d62f7b",
   "metadata": {},
   "source": [
    "### GaussianNB"
   ]
  },
  {
   "cell_type": "code",
   "execution_count": 38,
   "id": "41bc0365-115d-4926-8a21-1205384082f7",
   "metadata": {},
   "outputs": [],
   "source": [
    "y_pred_model2 = model2.predict(X_test)\n",
    "models.append(\"NB\")\n",
    "accuracies.append(accuracy_score(y_test, y_pred_model2))"
   ]
  },
  {
   "cell_type": "code",
   "execution_count": 39,
   "id": "f423f6cf",
   "metadata": {},
   "outputs": [
    {
     "data": {
      "text/plain": [
       "Text(0.5, 1.0, 'GaussianNB model confusion matrix')"
      ]
     },
     "execution_count": 39,
     "metadata": {},
     "output_type": "execute_result"
    },
    {
     "data": {
      "image/png": "[encoded data removed]",
      "text/plain": [
       "<Figure size 640x480 with 2 Axes>"
      ]
     },
     "metadata": {},
     "output_type": "display_data"
    }
   ],
   "source": [
    "sns.heatmap(confusion_matrix(y_test, y_pred_model2), annot=True, fmt=\"1\", cmap='YlGnBu', annot_kws={\"size\":15}, xticklabels=[\"No\",\"Yes\"], yticklabels=[\"No\",\"Yes\"])\n",
    "\n",
    "plt.xlabel(\"Prediction\", fontsize=12)\n",
    "plt.ylabel(\"True label\", fontsize=12)\n",
    "plt.xticks(size=12)\n",
    "plt.yticks(size=12)\n",
    "plt.title(\"GaussianNB model confusion matrix\", fontsize=18)"
   ]
  },
  {
   "cell_type": "markdown",
   "id": "169a6a50",
   "metadata": {},
   "source": [
    "Again true negative has highest count. \n",
    "\n",
    "Compared to the last model the F1-scores are lower and recall for negative class is also lower."
   ]
  },
  {
   "cell_type": "code",
   "execution_count": 40,
   "id": "dc320a5e",
   "metadata": {},
   "outputs": [
    {
     "name": "stdout",
     "output_type": "stream",
     "text": [
      "              precision    recall  f1-score   support\n",
      "\n",
      "           0       0.93      0.60      0.73      1037\n",
      "           1       0.44      0.87      0.58       368\n",
      "\n",
      "    accuracy                           0.67      1405\n",
      "   macro avg       0.68      0.74      0.66      1405\n",
      "weighted avg       0.80      0.67      0.69      1405\n",
      "\n"
     ]
    }
   ],
   "source": [
    "print(classification_report(y_test, y_pred_model2))"
   ]
  },
  {
   "cell_type": "markdown",
   "id": "d383caa5",
   "metadata": {},
   "source": [
    "### Neural network 1"
   ]
  },
  {
   "cell_type": "code",
   "execution_count": 41,
   "id": "439765c5-0545-477b-ade5-496ecdd58b79",
   "metadata": {},
   "outputs": [
    {
     "name": "stdout",
     "output_type": "stream",
     "text": [
      "44/44 [==============================] - 0s 710us/step\n"
     ]
    }
   ],
   "source": [
    "y_pred_model3 = model3.predict(X_test)\n",
    "y_pred_model3 = np.round(y_pred_model3).flatten()\n",
    "models.append(\"Seq1\")\n",
    "accuracies.append(accuracy_score(y_test, y_pred_model3))"
   ]
  },
  {
   "cell_type": "code",
   "execution_count": 42,
   "id": "3cff7662",
   "metadata": {},
   "outputs": [
    {
     "data": {
      "text/plain": [
       "Text(0.5, 1.0, 'Neural network 1 model confusion matrix')"
      ]
     },
     "execution_count": 42,
     "metadata": {},
     "output_type": "execute_result"
    },
    {
     "data": {
      "image/png": "[encoded data removed]",
      "text/plain": [
       "<Figure size 640x480 with 2 Axes>"
      ]
     },
     "metadata": {},
     "output_type": "display_data"
    }
   ],
   "source": [
    "sns.heatmap(confusion_matrix(y_test, y_pred_model3), annot=True, fmt=\"1\", cmap='YlGnBu', annot_kws={\"size\":15}, xticklabels=[\"No\",\"Yes\"], yticklabels=[\"No\",\"Yes\"])\n",
    "\n",
    "plt.xlabel(\"Prediction\", fontsize=12)\n",
    "plt.ylabel(\"True label\", fontsize=12)\n",
    "plt.xticks(size=12)\n",
    "plt.yticks(size=12)\n",
    "plt.title(\"Neural network 1 model confusion matrix\", fontsize=18)"
   ]
  },
  {
   "cell_type": "markdown",
   "id": "7539f535",
   "metadata": {},
   "source": [
    "For this model true negative labels have also the highest count. \n",
    "\n",
    "The F1-scores are similar to the first model."
   ]
  },
  {
   "cell_type": "code",
   "execution_count": 43,
   "id": "a6642d3f",
   "metadata": {},
   "outputs": [
    {
     "name": "stdout",
     "output_type": "stream",
     "text": [
      "              precision    recall  f1-score   support\n",
      "\n",
      "           0       0.91      0.71      0.80      1037\n",
      "           1       0.50      0.80      0.62       368\n",
      "\n",
      "    accuracy                           0.74      1405\n",
      "   macro avg       0.70      0.76      0.71      1405\n",
      "weighted avg       0.80      0.74      0.75      1405\n",
      "\n"
     ]
    }
   ],
   "source": [
    "print(classification_report(y_test, y_pred_model3))"
   ]
  },
  {
   "cell_type": "markdown",
   "id": "8cd9a682",
   "metadata": {},
   "source": [
    "### Neural network 2"
   ]
  },
  {
   "cell_type": "code",
   "execution_count": 44,
   "id": "00f39be5-66d0-46f8-b731-8063681a4557",
   "metadata": {},
   "outputs": [
    {
     "name": "stdout",
     "output_type": "stream",
     "text": [
      "44/44 [==============================] - 0s 775us/step\n"
     ]
    }
   ],
   "source": [
    "y_pred_model4 = model4.predict(X_test)\n",
    "y_pred_model4 = np.round(y_pred_model4).flatten()\n",
    "models.append(\"Seq2\")\n",
    "accuracies.append(accuracy_score(y_test, y_pred_model4))"
   ]
  },
  {
   "cell_type": "code",
   "execution_count": 45,
   "id": "a53ebd4f",
   "metadata": {},
   "outputs": [
    {
     "data": {
      "text/plain": [
       "Text(0.5, 1.0, 'Neural network 2 model confusion matrix')"
      ]
     },
     "execution_count": 45,
     "metadata": {},
     "output_type": "execute_result"
    },
    {
     "data": {
      "image/png": "[encoded data removed]",
      "text/plain": [
       "<Figure size 640x480 with 2 Axes>"
      ]
     },
     "metadata": {},
     "output_type": "display_data"
    }
   ],
   "source": [
    "sns.heatmap(confusion_matrix(y_test, y_pred_model4), annot=True, fmt=\"1\", cmap='YlGnBu', annot_kws={\"size\":15}, xticklabels=[\"No\",\"Yes\"], yticklabels=[\"No\",\"Yes\"])\n",
    "\n",
    "plt.xlabel(\"Prediction\", fontsize=12)\n",
    "plt.ylabel(\"True label\", fontsize=12)\n",
    "plt.xticks(size=12)\n",
    "plt.yticks(size=12)\n",
    "plt.title(\"Neural network 2 model confusion matrix\", fontsize=18)"
   ]
  },
  {
   "cell_type": "markdown",
   "id": "f1fc6e44",
   "metadata": {},
   "source": [
    "Neural network 1 and 2 are very similar in resutls. Seems like the changes in the model architecture were not different enough to make a change in the quality of the model. Almost all labels have same counts.\n",
    "\n",
    "The F1-score is almost the same in both neural networks. And other metrics are pretty much the same as well."
   ]
  },
  {
   "cell_type": "code",
   "execution_count": 46,
   "id": "194560c3",
   "metadata": {},
   "outputs": [
    {
     "name": "stdout",
     "output_type": "stream",
     "text": [
      "              precision    recall  f1-score   support\n",
      "\n",
      "           0       0.91      0.73      0.81      1037\n",
      "           1       0.52      0.80      0.63       368\n",
      "\n",
      "    accuracy                           0.75      1405\n",
      "   macro avg       0.71      0.77      0.72      1405\n",
      "weighted avg       0.81      0.75      0.76      1405\n",
      "\n"
     ]
    }
   ],
   "source": [
    "print(classification_report(y_test, y_pred_model4))"
   ]
  },
  {
   "cell_type": "markdown",
   "id": "52098303",
   "metadata": {},
   "source": [
    "### GradientBoostingClassifier"
   ]
  },
  {
   "cell_type": "code",
   "execution_count": 47,
   "id": "b3327fad-7574-40eb-9f37-1575fd62d1fd",
   "metadata": {},
   "outputs": [],
   "source": [
    "y_pred_model5 = model5.predict(X_test)\n",
    "models.append(\"GBC\")\n",
    "accuracies.append(accuracy_score(y_test, y_pred_model5))"
   ]
  },
  {
   "cell_type": "code",
   "execution_count": 48,
   "id": "810ca8b1",
   "metadata": {},
   "outputs": [
    {
     "data": {
      "text/plain": [
       "Text(0.5, 1.0, 'GradientBoostingClassifier model confusion matrix')"
      ]
     },
     "execution_count": 48,
     "metadata": {},
     "output_type": "execute_result"
    },
    {
     "data": {
      "image/png": "[encoded data removed]",
      "text/plain": [
       "<Figure size 640x480 with 2 Axes>"
      ]
     },
     "metadata": {},
     "output_type": "display_data"
    }
   ],
   "source": [
    "sns.heatmap(confusion_matrix(y_test, y_pred_model5), annot=True, fmt=\"1\", cmap='YlGnBu', annot_kws={\"size\":15}, xticklabels=[\"No\",\"Yes\"], yticklabels=[\"No\",\"Yes\"])\n",
    "\n",
    "plt.xlabel(\"Prediction\", fontsize=12)\n",
    "plt.ylabel(\"True label\", fontsize=12)\n",
    "plt.xticks(size=12)\n",
    "plt.yticks(size=12)\n",
    "plt.title(\"GradientBoostingClassifier model confusion matrix\", fontsize=18)"
   ]
  },
  {
   "cell_type": "markdown",
   "id": "ac4b8f82",
   "metadata": {},
   "source": [
    "Very similar results to previous models. True negative label has the highest count."
   ]
  },
  {
   "cell_type": "code",
   "execution_count": 49,
   "id": "a212d576",
   "metadata": {},
   "outputs": [
    {
     "name": "stdout",
     "output_type": "stream",
     "text": [
      "              precision    recall  f1-score   support\n",
      "\n",
      "           0       0.92      0.71      0.80      1037\n",
      "           1       0.50      0.82      0.62       368\n",
      "\n",
      "    accuracy                           0.74      1405\n",
      "   macro avg       0.71      0.76      0.71      1405\n",
      "weighted avg       0.81      0.74      0.75      1405\n",
      "\n"
     ]
    }
   ],
   "source": [
    "print(classification_report(y_test, y_pred_model5))"
   ]
  },
  {
   "cell_type": "code",
   "execution_count": 50,
   "id": "ae40f852-a207-44e9-b990-707d40dc2bcb",
   "metadata": {},
   "outputs": [
    {
     "data": {
      "image/png": "[encoded data removed]",
      "text/plain": [
       "<Figure size 800x600 with 1 Axes>"
      ]
     },
     "metadata": {},
     "output_type": "display_data"
    }
   ],
   "source": [
    "fig = plt.figure(figsize=(8,6))\n",
    "\n",
    "ax = sns.barplot(x=models, y=accuracies, palette='YlGnBu')\n",
    "for container in ax.containers:\n",
    "    ax.bar_label(container, fontsize=12)\n",
    "\n",
    "plt.xlabel(\"Model name\", fontsize=12)\n",
    "plt.ylabel(\"Accuracy\", fontsize=12)\n",
    "plt.xticks(size=12)\n",
    "plt.yticks(size=12)\n",
    "plt.title(\"Every model accuracy on test data\", fontsize=18)\n",
    "plt.show()"
   ]
  },
  {
   "cell_type": "markdown",
   "id": "fdbb2c7a",
   "metadata": {},
   "source": [
    "## Summary of part 1"
   ]
  },
  {
   "cell_type": "markdown",
   "id": "454826e0-16ba-413e-ac5e-8646685dd1b3",
   "metadata": {},
   "source": [
    "The built models can predict the churn with roughly 75% accuracy which is better than a random guess.\n",
    "\n",
    "All of the models can predict the negative class \"No\" pretty well. Predicting \"Yes\" is much harder. None of the models do it confidently. The distribution of original data is skewed towards \"No\" and using RandomOverSampler did not help in this case. \n",
    "\n",
    "There is room for improvement, the true positive counts should be higher for all of the models because it is important to find cases where the customer is inclined to leave."
   ]
  },
  {
   "cell_type": "markdown",
   "id": "c7763cbf",
   "metadata": {},
   "source": [
    "# PART 2 of models"
   ]
  },
  {
   "cell_type": "markdown",
   "id": "1dce4524",
   "metadata": {},
   "source": [
    "Part 2 is where non-oversampled data is used. Models are the same only training data is different."
   ]
  },
  {
   "cell_type": "markdown",
   "id": "775a1430",
   "metadata": {},
   "source": [
    "## Building models 2"
   ]
  },
  {
   "cell_type": "code",
   "execution_count": 51,
   "id": "8674f841",
   "metadata": {},
   "outputs": [
    {
     "data": {
      "text/html": [
       "<style>#sk-container-id-4 {color: black;}#sk-container-id-4 pre{padding: 0;}#sk-container-id-4 div.sk-toggleable {background-color: white;}#sk-container-id-4 label.sk-toggleable__label {cursor: pointer;display: block;width: 100%;margin-bottom: 0;padding: 0.3em;box-sizing: border-box;text-align: center;}#sk-container-id-4 label.sk-toggleable__label-arrow:before {content: \"▸\";float: left;margin-right: 0.25em;color: #696969;}#sk-container-id-4 label.sk-toggleable__label-arrow:hover:before {color: black;}#sk-container-id-4 div.sk-estimator:hover label.sk-toggleable__label-arrow:before {color: black;}#sk-container-id-4 div.sk-toggleable__content {max-height: 0;max-width: 0;overflow: hidden;text-align: left;background-color: #f0f8ff;}#sk-container-id-4 div.sk-toggleable__content pre {margin: 0.2em;color: black;border-radius: 0.25em;background-color: #f0f8ff;}#sk-container-id-4 input.sk-toggleable__control:checked~div.sk-toggleable__content {max-height: 200px;max-width: 100%;overflow: auto;}#sk-container-id-4 input.sk-toggleable__control:checked~label.sk-toggleable__label-arrow:before {content: \"▾\";}#sk-container-id-4 div.sk-estimator input.sk-toggleable__control:checked~label.sk-toggleable__label {background-color: #d4ebff;}#sk-container-id-4 div.sk-label input.sk-toggleable__control:checked~label.sk-toggleable__label {background-color: #d4ebff;}#sk-container-id-4 input.sk-hidden--visually {border: 0;clip: rect(1px 1px 1px 1px);clip: rect(1px, 1px, 1px, 1px);height: 1px;margin: -1px;overflow: hidden;padding: 0;position: absolute;width: 1px;}#sk-container-id-4 div.sk-estimator {font-family: monospace;background-color: #f0f8ff;border: 1px dotted black;border-radius: 0.25em;box-sizing: border-box;margin-bottom: 0.5em;}#sk-container-id-4 div.sk-estimator:hover {background-color: #d4ebff;}#sk-container-id-4 div.sk-parallel-item::after {content: \"\";width: 100%;border-bottom: 1px solid gray;flex-grow: 1;}#sk-container-id-4 div.sk-label:hover label.sk-toggleable__label {background-color: #d4ebff;}#sk-container-id-4 div.sk-serial::before {content: \"\";position: absolute;border-left: 1px solid gray;box-sizing: border-box;top: 0;bottom: 0;left: 50%;z-index: 0;}#sk-container-id-4 div.sk-serial {display: flex;flex-direction: column;align-items: center;background-color: white;padding-right: 0.2em;padding-left: 0.2em;position: relative;}#sk-container-id-4 div.sk-item {position: relative;z-index: 1;}#sk-container-id-4 div.sk-parallel {display: flex;align-items: stretch;justify-content: center;background-color: white;position: relative;}#sk-container-id-4 div.sk-item::before, #sk-container-id-4 div.sk-parallel-item::before {content: \"\";position: absolute;border-left: 1px solid gray;box-sizing: border-box;top: 0;bottom: 0;left: 50%;z-index: -1;}#sk-container-id-4 div.sk-parallel-item {display: flex;flex-direction: column;z-index: 1;position: relative;background-color: white;}#sk-container-id-4 div.sk-parallel-item:first-child::after {align-self: flex-end;width: 50%;}#sk-container-id-4 div.sk-parallel-item:last-child::after {align-self: flex-start;width: 50%;}#sk-container-id-4 div.sk-parallel-item:only-child::after {width: 0;}#sk-container-id-4 div.sk-dashed-wrapped {border: 1px dashed gray;margin: 0 0.4em 0.5em 0.4em;box-sizing: border-box;padding-bottom: 0.4em;background-color: white;}#sk-container-id-4 div.sk-label label {font-family: monospace;font-weight: bold;display: inline-block;line-height: 1.2em;}#sk-container-id-4 div.sk-label-container {text-align: center;}#sk-container-id-4 div.sk-container {/* jupyter's `normalize.less` sets `[hidden] { display: none; }` but bootstrap.min.css set `[hidden] { display: none !important; }` so we also need the `!important` here to be able to override the default hidden behavior on the sphinx rendered scikit-learn.org. See: https://github.com/scikit-learn/scikit-learn/issues/21755 */display: inline-block !important;position: relative;}#sk-container-id-4 div.sk-text-repr-fallback {display: none;}</style><div id=\"sk-container-id-4\" class=\"sk-top-container\"><div class=\"sk-text-repr-fallback\"><pre>RandomForestClassifier(max_leaf_nodes=50, min_samples_leaf=5, n_estimators=40,\n",
       "                       random_state=42)</pre><b>In a Jupyter environment, please rerun this cell to show the HTML representation or trust the notebook. <br />On GitHub, the HTML representation is unable to render, please try loading this page with nbviewer.org.</b></div><div class=\"sk-container\" hidden><div class=\"sk-item\"><div class=\"sk-estimator sk-toggleable\"><input class=\"sk-toggleable__control sk-hidden--visually\" id=\"sk-estimator-id-4\" type=\"checkbox\" checked><label for=\"sk-estimator-id-4\" class=\"sk-toggleable__label sk-toggleable__label-arrow\">RandomForestClassifier</label><div class=\"sk-toggleable__content\"><pre>RandomForestClassifier(max_leaf_nodes=50, min_samples_leaf=5, n_estimators=40,\n",
       "                       random_state=42)</pre></div></div></div></div></div>"
      ],
      "text/plain": [
       "RandomForestClassifier(max_leaf_nodes=50, min_samples_leaf=5, n_estimators=40,\n",
       "                       random_state=42)"
      ]
     },
     "execution_count": 51,
     "metadata": {},
     "output_type": "execute_result"
    }
   ],
   "source": [
    "model1 = RandomForestClassifier(n_estimators=40, min_samples_leaf=5, max_leaf_nodes=50, random_state=42)\n",
    "model1.fit(X_train, y_train)"
   ]
  },
  {
   "cell_type": "code",
   "execution_count": 52,
   "id": "04333769",
   "metadata": {},
   "outputs": [
    {
     "data": {
      "text/html": [
       "<style>#sk-container-id-5 {color: black;}#sk-container-id-5 pre{padding: 0;}#sk-container-id-5 div.sk-toggleable {background-color: white;}#sk-container-id-5 label.sk-toggleable__label {cursor: pointer;display: block;width: 100%;margin-bottom: 0;padding: 0.3em;box-sizing: border-box;text-align: center;}#sk-container-id-5 label.sk-toggleable__label-arrow:before {content: \"▸\";float: left;margin-right: 0.25em;color: #696969;}#sk-container-id-5 label.sk-toggleable__label-arrow:hover:before {color: black;}#sk-container-id-5 div.sk-estimator:hover label.sk-toggleable__label-arrow:before {color: black;}#sk-container-id-5 div.sk-toggleable__content {max-height: 0;max-width: 0;overflow: hidden;text-align: left;background-color: #f0f8ff;}#sk-container-id-5 div.sk-toggleable__content pre {margin: 0.2em;color: black;border-radius: 0.25em;background-color: #f0f8ff;}#sk-container-id-5 input.sk-toggleable__control:checked~div.sk-toggleable__content {max-height: 200px;max-width: 100%;overflow: auto;}#sk-container-id-5 input.sk-toggleable__control:checked~label.sk-toggleable__label-arrow:before {content: \"▾\";}#sk-container-id-5 div.sk-estimator input.sk-toggleable__control:checked~label.sk-toggleable__label {background-color: #d4ebff;}#sk-container-id-5 div.sk-label input.sk-toggleable__control:checked~label.sk-toggleable__label {background-color: #d4ebff;}#sk-container-id-5 input.sk-hidden--visually {border: 0;clip: rect(1px 1px 1px 1px);clip: rect(1px, 1px, 1px, 1px);height: 1px;margin: -1px;overflow: hidden;padding: 0;position: absolute;width: 1px;}#sk-container-id-5 div.sk-estimator {font-family: monospace;background-color: #f0f8ff;border: 1px dotted black;border-radius: 0.25em;box-sizing: border-box;margin-bottom: 0.5em;}#sk-container-id-5 div.sk-estimator:hover {background-color: #d4ebff;}#sk-container-id-5 div.sk-parallel-item::after {content: \"\";width: 100%;border-bottom: 1px solid gray;flex-grow: 1;}#sk-container-id-5 div.sk-label:hover label.sk-toggleable__label {background-color: #d4ebff;}#sk-container-id-5 div.sk-serial::before {content: \"\";position: absolute;border-left: 1px solid gray;box-sizing: border-box;top: 0;bottom: 0;left: 50%;z-index: 0;}#sk-container-id-5 div.sk-serial {display: flex;flex-direction: column;align-items: center;background-color: white;padding-right: 0.2em;padding-left: 0.2em;position: relative;}#sk-container-id-5 div.sk-item {position: relative;z-index: 1;}#sk-container-id-5 div.sk-parallel {display: flex;align-items: stretch;justify-content: center;background-color: white;position: relative;}#sk-container-id-5 div.sk-item::before, #sk-container-id-5 div.sk-parallel-item::before {content: \"\";position: absolute;border-left: 1px solid gray;box-sizing: border-box;top: 0;bottom: 0;left: 50%;z-index: -1;}#sk-container-id-5 div.sk-parallel-item {display: flex;flex-direction: column;z-index: 1;position: relative;background-color: white;}#sk-container-id-5 div.sk-parallel-item:first-child::after {align-self: flex-end;width: 50%;}#sk-container-id-5 div.sk-parallel-item:last-child::after {align-self: flex-start;width: 50%;}#sk-container-id-5 div.sk-parallel-item:only-child::after {width: 0;}#sk-container-id-5 div.sk-dashed-wrapped {border: 1px dashed gray;margin: 0 0.4em 0.5em 0.4em;box-sizing: border-box;padding-bottom: 0.4em;background-color: white;}#sk-container-id-5 div.sk-label label {font-family: monospace;font-weight: bold;display: inline-block;line-height: 1.2em;}#sk-container-id-5 div.sk-label-container {text-align: center;}#sk-container-id-5 div.sk-container {/* jupyter's `normalize.less` sets `[hidden] { display: none; }` but bootstrap.min.css set `[hidden] { display: none !important; }` so we also need the `!important` here to be able to override the default hidden behavior on the sphinx rendered scikit-learn.org. See: https://github.com/scikit-learn/scikit-learn/issues/21755 */display: inline-block !important;position: relative;}#sk-container-id-5 div.sk-text-repr-fallback {display: none;}</style><div id=\"sk-container-id-5\" class=\"sk-top-container\"><div class=\"sk-text-repr-fallback\"><pre>GaussianNB()</pre><b>In a Jupyter environment, please rerun this cell to show the HTML representation or trust the notebook. <br />On GitHub, the HTML representation is unable to render, please try loading this page with nbviewer.org.</b></div><div class=\"sk-container\" hidden><div class=\"sk-item\"><div class=\"sk-estimator sk-toggleable\"><input class=\"sk-toggleable__control sk-hidden--visually\" id=\"sk-estimator-id-5\" type=\"checkbox\" checked><label for=\"sk-estimator-id-5\" class=\"sk-toggleable__label sk-toggleable__label-arrow\">GaussianNB</label><div class=\"sk-toggleable__content\"><pre>GaussianNB()</pre></div></div></div></div></div>"
      ],
      "text/plain": [
       "GaussianNB()"
      ]
     },
     "execution_count": 52,
     "metadata": {},
     "output_type": "execute_result"
    }
   ],
   "source": [
    "model2 = GaussianNB()\n",
    "model2.fit(X_train, y_train)"
   ]
  },
  {
   "cell_type": "code",
   "execution_count": 53,
   "id": "4584ebd3",
   "metadata": {
    "scrolled": true
   },
   "outputs": [
    {
     "name": "stdout",
     "output_type": "stream",
     "text": [
      "Model: \"sequential_2\"\n",
      "_________________________________________________________________\n",
      " Layer (type)                Output Shape              Param #   \n",
      "=================================================================\n",
      " dense_6 (Dense)             (None, 16)                272       \n",
      "                                                                 \n",
      " batch_normalization_1 (Batc  (None, 16)               64        \n",
      " hNormalization)                                                 \n",
      "                                                                 \n",
      " dense_7 (Dense)             (None, 8)                 136       \n",
      "                                                                 \n",
      " dense_8 (Dense)             (None, 1)                 9         \n",
      "                                                                 \n",
      "=================================================================\n",
      "Total params: 481\n",
      "Trainable params: 449\n",
      "Non-trainable params: 32\n",
      "_________________________________________________________________\n",
      "Epoch 1/100\n",
      "176/176 [==============================] - 1s 947us/step - loss: 0.4988 - accuracy: 0.7420\n",
      "Epoch 2/100\n",
      "176/176 [==============================] - 0s 1ms/step - loss: 0.4366 - accuracy: 0.7894\n",
      "Epoch 3/100\n",
      "176/176 [==============================] - 0s 1ms/step - loss: 0.4281 - accuracy: 0.7949\n",
      "Epoch 4/100\n",
      "176/176 [==============================] - 0s 1ms/step - loss: 0.4261 - accuracy: 0.7940\n",
      "Epoch 5/100\n",
      "176/176 [==============================] - 0s 1ms/step - loss: 0.4237 - accuracy: 0.7965\n",
      "Epoch 6/100\n",
      "176/176 [==============================] - 0s 1ms/step - loss: 0.4237 - accuracy: 0.7959\n",
      "Epoch 7/100\n",
      "176/176 [==============================] - 0s 1ms/step - loss: 0.4247 - accuracy: 0.7943\n",
      "Epoch 8/100\n",
      "176/176 [==============================] - 0s 1ms/step - loss: 0.4232 - accuracy: 0.7943\n",
      "Epoch 9/100\n",
      "176/176 [==============================] - 0s 1ms/step - loss: 0.4236 - accuracy: 0.7965\n",
      "Epoch 10/100\n",
      "176/176 [==============================] - 0s 1ms/step - loss: 0.4246 - accuracy: 0.7970\n",
      "Epoch 11/100\n",
      "176/176 [==============================] - 0s 1ms/step - loss: 0.4217 - accuracy: 0.7963\n",
      "Epoch 12/100\n",
      "176/176 [==============================] - 0s 1ms/step - loss: 0.4227 - accuracy: 0.7965\n",
      "Epoch 13/100\n",
      "176/176 [==============================] - 0s 1ms/step - loss: 0.4238 - accuracy: 0.7983\n",
      "Epoch 14/100\n",
      "176/176 [==============================] - 0s 1ms/step - loss: 0.4228 - accuracy: 0.7934\n",
      "Epoch 15/100\n",
      "176/176 [==============================] - 0s 1ms/step - loss: 0.4235 - accuracy: 0.7952\n",
      "Epoch 16/100\n",
      "176/176 [==============================] - 0s 1ms/step - loss: 0.4199 - accuracy: 0.7954\n",
      "Epoch 17/100\n",
      "176/176 [==============================] - 0s 1ms/step - loss: 0.4192 - accuracy: 0.7979\n",
      "Epoch 18/100\n",
      "176/176 [==============================] - 0s 2ms/step - loss: 0.4210 - accuracy: 0.7958\n",
      "Epoch 19/100\n",
      "176/176 [==============================] - 0s 1ms/step - loss: 0.4176 - accuracy: 0.7956\n",
      "Epoch 20/100\n",
      "176/176 [==============================] - 0s 1ms/step - loss: 0.4203 - accuracy: 0.7936\n",
      "Epoch 21/100\n",
      "176/176 [==============================] - 0s 1ms/step - loss: 0.4200 - accuracy: 0.7958\n",
      "Epoch 22/100\n",
      "176/176 [==============================] - 0s 1ms/step - loss: 0.4223 - accuracy: 0.7945\n",
      "Epoch 23/100\n",
      "176/176 [==============================] - 0s 1ms/step - loss: 0.4204 - accuracy: 0.7963\n",
      "Epoch 24/100\n",
      "176/176 [==============================] - 0s 1ms/step - loss: 0.4207 - accuracy: 0.7950\n",
      "Epoch 25/100\n",
      "176/176 [==============================] - 0s 1ms/step - loss: 0.4210 - accuracy: 0.7970\n",
      "Epoch 26/100\n",
      "176/176 [==============================] - 0s 1ms/step - loss: 0.4191 - accuracy: 0.7950\n",
      "Epoch 27/100\n",
      "176/176 [==============================] - 0s 1ms/step - loss: 0.4169 - accuracy: 0.7988\n",
      "Epoch 28/100\n",
      "176/176 [==============================] - 0s 1ms/step - loss: 0.4180 - accuracy: 0.7968\n",
      "Epoch 29/100\n",
      "176/176 [==============================] - 0s 1ms/step - loss: 0.4153 - accuracy: 0.7961\n",
      "Epoch 30/100\n",
      "176/176 [==============================] - 0s 1ms/step - loss: 0.4172 - accuracy: 0.7988\n",
      "Epoch 31/100\n",
      "176/176 [==============================] - 0s 1ms/step - loss: 0.4181 - accuracy: 0.7950\n",
      "Epoch 32/100\n",
      "176/176 [==============================] - 0s 1ms/step - loss: 0.4167 - accuracy: 0.7979\n",
      "Epoch 33/100\n",
      "176/176 [==============================] - 0s 1ms/step - loss: 0.4169 - accuracy: 0.7986\n",
      "Epoch 34/100\n",
      "176/176 [==============================] - 0s 1ms/step - loss: 0.4179 - accuracy: 0.7974\n",
      "Epoch 35/100\n",
      "176/176 [==============================] - 0s 1ms/step - loss: 0.4186 - accuracy: 0.7965\n",
      "Epoch 36/100\n",
      "176/176 [==============================] - 0s 1ms/step - loss: 0.4175 - accuracy: 0.7967\n",
      "Epoch 37/100\n",
      "176/176 [==============================] - 0s 1ms/step - loss: 0.4162 - accuracy: 0.7995\n",
      "Epoch 38/100\n",
      "176/176 [==============================] - 0s 1ms/step - loss: 0.4147 - accuracy: 0.7974\n",
      "Epoch 39/100\n",
      "176/176 [==============================] - 0s 1ms/step - loss: 0.4170 - accuracy: 0.7952\n",
      "Epoch 40/100\n",
      "176/176 [==============================] - 0s 1ms/step - loss: 0.4164 - accuracy: 0.7943\n",
      "Epoch 41/100\n",
      "176/176 [==============================] - 0s 1ms/step - loss: 0.4167 - accuracy: 0.7943\n",
      "Epoch 42/100\n",
      "176/176 [==============================] - 0s 1ms/step - loss: 0.4160 - accuracy: 0.7950\n",
      "Epoch 43/100\n",
      "176/176 [==============================] - 0s 1ms/step - loss: 0.4163 - accuracy: 0.7950\n",
      "Epoch 44/100\n",
      "176/176 [==============================] - 0s 1ms/step - loss: 0.4180 - accuracy: 0.7970\n",
      "Epoch 45/100\n",
      "176/176 [==============================] - 0s 1ms/step - loss: 0.4159 - accuracy: 0.7975\n",
      "Epoch 46/100\n",
      "176/176 [==============================] - 0s 1ms/step - loss: 0.4183 - accuracy: 0.7934\n",
      "Epoch 47/100\n",
      "176/176 [==============================] - 0s 1ms/step - loss: 0.4163 - accuracy: 0.7995\n",
      "Epoch 48/100\n",
      "176/176 [==============================] - 0s 1ms/step - loss: 0.4138 - accuracy: 0.7993\n",
      "Epoch 49/100\n",
      "176/176 [==============================] - 0s 1ms/step - loss: 0.4183 - accuracy: 0.7967\n",
      "Epoch 50/100\n",
      "176/176 [==============================] - 0s 1ms/step - loss: 0.4145 - accuracy: 0.7984\n",
      "Epoch 51/100\n",
      "176/176 [==============================] - 0s 1ms/step - loss: 0.4163 - accuracy: 0.7963\n",
      "Epoch 52/100\n",
      "176/176 [==============================] - 0s 1ms/step - loss: 0.4146 - accuracy: 0.7950\n",
      "Epoch 53/100\n",
      "176/176 [==============================] - 0s 1ms/step - loss: 0.4139 - accuracy: 0.7979\n",
      "Epoch 54/100\n",
      "176/176 [==============================] - 0s 1ms/step - loss: 0.4172 - accuracy: 0.7984\n",
      "Epoch 55/100\n",
      "176/176 [==============================] - 0s 1ms/step - loss: 0.4141 - accuracy: 0.7942\n",
      "Epoch 56/100\n",
      "176/176 [==============================] - 0s 1ms/step - loss: 0.4148 - accuracy: 0.7967\n",
      "Epoch 57/100\n",
      "176/176 [==============================] - 0s 1ms/step - loss: 0.4150 - accuracy: 0.8002\n",
      "Epoch 58/100\n",
      "176/176 [==============================] - 0s 1ms/step - loss: 0.4140 - accuracy: 0.7993\n",
      "Epoch 59/100\n",
      "176/176 [==============================] - 0s 1ms/step - loss: 0.4141 - accuracy: 0.7983\n",
      "Epoch 60/100\n",
      "176/176 [==============================] - 0s 1ms/step - loss: 0.4185 - accuracy: 0.7972\n",
      "Epoch 61/100\n",
      "176/176 [==============================] - 0s 1ms/step - loss: 0.4168 - accuracy: 0.7961\n",
      "Epoch 62/100\n",
      "176/176 [==============================] - 0s 1ms/step - loss: 0.4148 - accuracy: 0.8002\n",
      "Epoch 63/100\n",
      "176/176 [==============================] - 0s 1ms/step - loss: 0.4121 - accuracy: 0.7993\n",
      "Epoch 64/100\n",
      "176/176 [==============================] - 0s 1ms/step - loss: 0.4150 - accuracy: 0.7979\n",
      "Epoch 65/100\n",
      "176/176 [==============================] - 0s 1ms/step - loss: 0.4142 - accuracy: 0.7997\n",
      "Epoch 66/100\n",
      "176/176 [==============================] - 0s 1ms/step - loss: 0.4150 - accuracy: 0.7983\n",
      "Epoch 67/100\n",
      "176/176 [==============================] - 0s 1ms/step - loss: 0.4147 - accuracy: 0.7970\n",
      "Epoch 68/100\n",
      "176/176 [==============================] - 0s 1ms/step - loss: 0.4146 - accuracy: 0.7991\n",
      "Epoch 69/100\n",
      "176/176 [==============================] - 0s 1ms/step - loss: 0.4154 - accuracy: 0.7956\n",
      "Epoch 70/100\n",
      "176/176 [==============================] - 0s 1ms/step - loss: 0.4133 - accuracy: 0.8024\n",
      "Epoch 71/100\n"
     ]
    },
    {
     "name": "stdout",
     "output_type": "stream",
     "text": [
      "176/176 [==============================] - 0s 1ms/step - loss: 0.4129 - accuracy: 0.7968\n",
      "Epoch 72/100\n",
      "176/176 [==============================] - 0s 1ms/step - loss: 0.4145 - accuracy: 0.7959\n",
      "Epoch 73/100\n",
      "176/176 [==============================] - 0s 1ms/step - loss: 0.4132 - accuracy: 0.7979\n",
      "Epoch 74/100\n",
      "176/176 [==============================] - 0s 1ms/step - loss: 0.4154 - accuracy: 0.7949\n",
      "Epoch 75/100\n",
      "176/176 [==============================] - 0s 1ms/step - loss: 0.4161 - accuracy: 0.7945\n",
      "Epoch 76/100\n",
      "176/176 [==============================] - 0s 1ms/step - loss: 0.4151 - accuracy: 0.7974\n",
      "Epoch 77/100\n",
      "176/176 [==============================] - 0s 1ms/step - loss: 0.4127 - accuracy: 0.7954\n",
      "Epoch 78/100\n",
      "176/176 [==============================] - 0s 1ms/step - loss: 0.4161 - accuracy: 0.7983\n",
      "Epoch 79/100\n",
      "176/176 [==============================] - 0s 1ms/step - loss: 0.4150 - accuracy: 0.7983\n",
      "Epoch 80/100\n",
      "176/176 [==============================] - 0s 1ms/step - loss: 0.4115 - accuracy: 0.7997\n",
      "Epoch 81/100\n",
      "176/176 [==============================] - 0s 1ms/step - loss: 0.4146 - accuracy: 0.8000\n",
      "Epoch 82/100\n",
      "176/176 [==============================] - 0s 1ms/step - loss: 0.4135 - accuracy: 0.7959\n",
      "Epoch 83/100\n",
      "176/176 [==============================] - 0s 1ms/step - loss: 0.4142 - accuracy: 0.7952\n",
      "Epoch 84/100\n",
      "176/176 [==============================] - 0s 1ms/step - loss: 0.4144 - accuracy: 0.7981\n",
      "Epoch 85/100\n",
      "176/176 [==============================] - 0s 1ms/step - loss: 0.4149 - accuracy: 0.7970\n",
      "Epoch 86/100\n",
      "176/176 [==============================] - 0s 1ms/step - loss: 0.4132 - accuracy: 0.7999\n",
      "Epoch 87/100\n",
      "176/176 [==============================] - 0s 1ms/step - loss: 0.4163 - accuracy: 0.7991\n",
      "Epoch 88/100\n",
      "176/176 [==============================] - 0s 1ms/step - loss: 0.4120 - accuracy: 0.7961\n",
      "Epoch 89/100\n",
      "176/176 [==============================] - 0s 1ms/step - loss: 0.4131 - accuracy: 0.7981\n",
      "Epoch 90/100\n",
      "176/176 [==============================] - 0s 2ms/step - loss: 0.4140 - accuracy: 0.7975\n",
      "Epoch 91/100\n",
      "176/176 [==============================] - 0s 1ms/step - loss: 0.4139 - accuracy: 0.7986\n",
      "Epoch 92/100\n",
      "176/176 [==============================] - 0s 1ms/step - loss: 0.4147 - accuracy: 0.7963\n",
      "Epoch 93/100\n",
      "176/176 [==============================] - 0s 1ms/step - loss: 0.4120 - accuracy: 0.8009\n",
      "Epoch 94/100\n",
      "176/176 [==============================] - 0s 1ms/step - loss: 0.4139 - accuracy: 0.7981\n",
      "Epoch 95/100\n",
      "176/176 [==============================] - 0s 1ms/step - loss: 0.4110 - accuracy: 0.7986\n",
      "Epoch 96/100\n",
      "176/176 [==============================] - 0s 1ms/step - loss: 0.4123 - accuracy: 0.8029\n",
      "Epoch 97/100\n",
      "176/176 [==============================] - 0s 1ms/step - loss: 0.4142 - accuracy: 0.8024\n",
      "Epoch 98/100\n",
      "176/176 [==============================] - 0s 1ms/step - loss: 0.4148 - accuracy: 0.7965\n",
      "Epoch 99/100\n",
      "176/176 [==============================] - 0s 2ms/step - loss: 0.4146 - accuracy: 0.7986\n",
      "Epoch 100/100\n",
      "176/176 [==============================] - 0s 2ms/step - loss: 0.4149 - accuracy: 0.7968\n"
     ]
    },
    {
     "data": {
      "text/plain": [
       "<keras.callbacks.History at 0x1e89e8329e0>"
      ]
     },
     "execution_count": 53,
     "metadata": {},
     "output_type": "execute_result"
    }
   ],
   "source": [
    "model3 = Sequential()\n",
    "\n",
    "model3.add(Dense(16, activation=\"tanh\", input_shape=(X_resampled.shape[1],)))\n",
    "model3.add(BatchNormalization())\n",
    "model3.add(Dense(8, activation=\"relu\"))\n",
    "model3.add(Dense(1, activation=\"sigmoid\"))\n",
    "\n",
    "model3.summary()\n",
    "\n",
    "model3.compile(loss='binary_crossentropy', optimizer=\"adam\", metrics=[\"accuracy\"])\n",
    "\n",
    "model3.fit(X_train, y_train, epochs=100, batch_size=32)"
   ]
  },
  {
   "cell_type": "code",
   "execution_count": 54,
   "id": "b0fe45ec",
   "metadata": {
    "scrolled": true
   },
   "outputs": [
    {
     "name": "stdout",
     "output_type": "stream",
     "text": [
      "Model: \"sequential_3\"\n",
      "_________________________________________________________________\n",
      " Layer (type)                Output Shape              Param #   \n",
      "=================================================================\n",
      " dense_9 (Dense)             (None, 64)                1088      \n",
      "                                                                 \n",
      " dense_10 (Dense)            (None, 16)                1040      \n",
      "                                                                 \n",
      " dense_11 (Dense)            (None, 1)                 17        \n",
      "                                                                 \n",
      "=================================================================\n",
      "Total params: 2,145\n",
      "Trainable params: 2,145\n",
      "Non-trainable params: 0\n",
      "_________________________________________________________________\n",
      "Epoch 1/100\n",
      "176/176 [==============================] - 1s 1ms/step - loss: 0.6201 - accuracy: 0.7187\n",
      "Epoch 2/100\n",
      "176/176 [==============================] - 0s 1ms/step - loss: 0.5500 - accuracy: 0.7349\n",
      "Epoch 3/100\n",
      "176/176 [==============================] - 0s 1ms/step - loss: 0.5137 - accuracy: 0.7349\n",
      "Epoch 4/100\n",
      "176/176 [==============================] - 0s 1ms/step - loss: 0.4893 - accuracy: 0.7349\n",
      "Epoch 5/100\n",
      "176/176 [==============================] - 0s 1ms/step - loss: 0.4724 - accuracy: 0.7349\n",
      "Epoch 6/100\n",
      "176/176 [==============================] - 0s 1ms/step - loss: 0.4600 - accuracy: 0.7359\n",
      "Epoch 7/100\n",
      "176/176 [==============================] - 0s 1ms/step - loss: 0.4502 - accuracy: 0.7648\n",
      "Epoch 8/100\n",
      "176/176 [==============================] - 0s 1ms/step - loss: 0.4418 - accuracy: 0.7790\n",
      "Epoch 9/100\n",
      "176/176 [==============================] - 0s 1ms/step - loss: 0.4358 - accuracy: 0.7885\n",
      "Epoch 10/100\n",
      "176/176 [==============================] - 0s 1ms/step - loss: 0.4317 - accuracy: 0.7929\n",
      "Epoch 11/100\n",
      "176/176 [==============================] - 0s 1ms/step - loss: 0.4287 - accuracy: 0.7929\n",
      "Epoch 12/100\n",
      "176/176 [==============================] - 0s 1ms/step - loss: 0.4264 - accuracy: 0.7940\n",
      "Epoch 13/100\n",
      "176/176 [==============================] - 0s 1ms/step - loss: 0.4247 - accuracy: 0.7938\n",
      "Epoch 14/100\n",
      "176/176 [==============================] - 0s 1ms/step - loss: 0.4232 - accuracy: 0.7986\n",
      "Epoch 15/100\n",
      "176/176 [==============================] - 0s 1ms/step - loss: 0.4222 - accuracy: 0.7954\n",
      "Epoch 16/100\n",
      "176/176 [==============================] - 0s 1ms/step - loss: 0.4214 - accuracy: 0.7958\n",
      "Epoch 17/100\n",
      "176/176 [==============================] - 0s 1ms/step - loss: 0.4208 - accuracy: 0.7986\n",
      "Epoch 18/100\n",
      "176/176 [==============================] - 0s 1ms/step - loss: 0.4205 - accuracy: 0.7972\n",
      "Epoch 19/100\n",
      "176/176 [==============================] - 0s 1ms/step - loss: 0.4200 - accuracy: 0.7991\n",
      "Epoch 20/100\n",
      "176/176 [==============================] - 0s 1ms/step - loss: 0.4198 - accuracy: 0.7977\n",
      "Epoch 21/100\n",
      "176/176 [==============================] - 0s 1ms/step - loss: 0.4195 - accuracy: 0.7959\n",
      "Epoch 22/100\n",
      "176/176 [==============================] - 0s 1ms/step - loss: 0.4194 - accuracy: 0.8004\n",
      "Epoch 23/100\n",
      "176/176 [==============================] - 0s 1ms/step - loss: 0.4190 - accuracy: 0.7975\n",
      "Epoch 24/100\n",
      "176/176 [==============================] - 0s 1ms/step - loss: 0.4187 - accuracy: 0.7983\n",
      "Epoch 25/100\n",
      "176/176 [==============================] - 0s 1ms/step - loss: 0.4186 - accuracy: 0.8011\n",
      "Epoch 26/100\n",
      "176/176 [==============================] - 0s 1ms/step - loss: 0.4187 - accuracy: 0.7988\n",
      "Epoch 27/100\n",
      "176/176 [==============================] - 0s 1ms/step - loss: 0.4178 - accuracy: 0.7991\n",
      "Epoch 28/100\n",
      "176/176 [==============================] - 0s 1ms/step - loss: 0.4184 - accuracy: 0.7995\n",
      "Epoch 29/100\n",
      "176/176 [==============================] - 0s 1ms/step - loss: 0.4180 - accuracy: 0.8002\n",
      "Epoch 30/100\n",
      "176/176 [==============================] - 0s 1ms/step - loss: 0.4181 - accuracy: 0.8013\n",
      "Epoch 31/100\n",
      "176/176 [==============================] - 0s 1ms/step - loss: 0.4180 - accuracy: 0.8002\n",
      "Epoch 32/100\n",
      "176/176 [==============================] - 0s 1ms/step - loss: 0.4178 - accuracy: 0.7993\n",
      "Epoch 33/100\n",
      "176/176 [==============================] - 0s 1ms/step - loss: 0.4175 - accuracy: 0.7975\n",
      "Epoch 34/100\n",
      "176/176 [==============================] - 0s 1ms/step - loss: 0.4176 - accuracy: 0.8004\n",
      "Epoch 35/100\n",
      "176/176 [==============================] - 0s 1ms/step - loss: 0.4174 - accuracy: 0.7986\n",
      "Epoch 36/100\n",
      "176/176 [==============================] - 0s 1ms/step - loss: 0.4172 - accuracy: 0.8004\n",
      "Epoch 37/100\n",
      "176/176 [==============================] - 0s 1ms/step - loss: 0.4172 - accuracy: 0.7999\n",
      "Epoch 38/100\n",
      "176/176 [==============================] - 0s 1ms/step - loss: 0.4170 - accuracy: 0.7999\n",
      "Epoch 39/100\n",
      "176/176 [==============================] - 0s 1ms/step - loss: 0.4171 - accuracy: 0.7997\n",
      "Epoch 40/100\n",
      "176/176 [==============================] - 0s 1ms/step - loss: 0.4170 - accuracy: 0.7984\n",
      "Epoch 41/100\n",
      "176/176 [==============================] - 0s 1ms/step - loss: 0.4167 - accuracy: 0.7977\n",
      "Epoch 42/100\n",
      "176/176 [==============================] - 0s 1ms/step - loss: 0.4169 - accuracy: 0.7991\n",
      "Epoch 43/100\n",
      "176/176 [==============================] - 0s 1ms/step - loss: 0.4166 - accuracy: 0.7999\n",
      "Epoch 44/100\n",
      "176/176 [==============================] - 0s 1ms/step - loss: 0.4168 - accuracy: 0.8011\n",
      "Epoch 45/100\n",
      "176/176 [==============================] - 0s 1ms/step - loss: 0.4166 - accuracy: 0.7995\n",
      "Epoch 46/100\n",
      "176/176 [==============================] - 0s 1ms/step - loss: 0.4164 - accuracy: 0.7990\n",
      "Epoch 47/100\n",
      "176/176 [==============================] - 0s 1ms/step - loss: 0.4164 - accuracy: 0.7993\n",
      "Epoch 48/100\n",
      "176/176 [==============================] - 0s 1ms/step - loss: 0.4162 - accuracy: 0.7993\n",
      "Epoch 49/100\n",
      "176/176 [==============================] - 0s 1ms/step - loss: 0.4161 - accuracy: 0.8015\n",
      "Epoch 50/100\n",
      "176/176 [==============================] - 0s 1ms/step - loss: 0.4160 - accuracy: 0.7999\n",
      "Epoch 51/100\n",
      "176/176 [==============================] - 0s 1ms/step - loss: 0.4161 - accuracy: 0.7995\n",
      "Epoch 52/100\n",
      "176/176 [==============================] - 0s 976us/step - loss: 0.4157 - accuracy: 0.7999\n",
      "Epoch 53/100\n",
      "176/176 [==============================] - 0s 998us/step - loss: 0.4158 - accuracy: 0.7999\n",
      "Epoch 54/100\n",
      "176/176 [==============================] - 0s 1ms/step - loss: 0.4156 - accuracy: 0.7988\n",
      "Epoch 55/100\n",
      "176/176 [==============================] - 0s 982us/step - loss: 0.4158 - accuracy: 0.7981\n",
      "Epoch 56/100\n",
      "176/176 [==============================] - 0s 998us/step - loss: 0.4157 - accuracy: 0.7999\n",
      "Epoch 57/100\n",
      "176/176 [==============================] - 0s 962us/step - loss: 0.4156 - accuracy: 0.8007\n",
      "Epoch 58/100\n",
      "176/176 [==============================] - 0s 1ms/step - loss: 0.4156 - accuracy: 0.8016\n",
      "Epoch 59/100\n",
      "176/176 [==============================] - 0s 951us/step - loss: 0.4153 - accuracy: 0.8007\n",
      "Epoch 60/100\n",
      "176/176 [==============================] - 0s 1ms/step - loss: 0.4155 - accuracy: 0.8016\n",
      "Epoch 61/100\n",
      "176/176 [==============================] - 0s 978us/step - loss: 0.4153 - accuracy: 0.8004\n",
      "Epoch 62/100\n",
      "176/176 [==============================] - 0s 938us/step - loss: 0.4152 - accuracy: 0.7991\n",
      "Epoch 63/100\n",
      "176/176 [==============================] - 0s 1ms/step - loss: 0.4150 - accuracy: 0.8034\n",
      "Epoch 64/100\n",
      "176/176 [==============================] - 0s 1ms/step - loss: 0.4151 - accuracy: 0.8015\n",
      "Epoch 65/100\n",
      "176/176 [==============================] - 0s 1ms/step - loss: 0.4151 - accuracy: 0.7991\n",
      "Epoch 66/100\n",
      "176/176 [==============================] - 0s 1ms/step - loss: 0.4150 - accuracy: 0.8011\n",
      "Epoch 67/100\n",
      "176/176 [==============================] - 0s 1ms/step - loss: 0.4150 - accuracy: 0.8011\n",
      "Epoch 68/100\n",
      "176/176 [==============================] - 0s 1ms/step - loss: 0.4150 - accuracy: 0.7995\n",
      "Epoch 69/100\n",
      "176/176 [==============================] - 0s 1ms/step - loss: 0.4147 - accuracy: 0.8015\n",
      "Epoch 70/100\n",
      "176/176 [==============================] - 0s 1ms/step - loss: 0.4147 - accuracy: 0.7995\n",
      "Epoch 71/100\n",
      "176/176 [==============================] - 0s 1ms/step - loss: 0.4148 - accuracy: 0.8002\n",
      "Epoch 72/100\n",
      "176/176 [==============================] - 0s 1ms/step - loss: 0.4145 - accuracy: 0.7993\n",
      "Epoch 73/100\n"
     ]
    },
    {
     "name": "stdout",
     "output_type": "stream",
     "text": [
      "176/176 [==============================] - 0s 2ms/step - loss: 0.4147 - accuracy: 0.7999\n",
      "Epoch 74/100\n",
      "176/176 [==============================] - 0s 1ms/step - loss: 0.4145 - accuracy: 0.7997\n",
      "Epoch 75/100\n",
      "176/176 [==============================] - 0s 1ms/step - loss: 0.4146 - accuracy: 0.8007\n",
      "Epoch 76/100\n",
      "176/176 [==============================] - 0s 1ms/step - loss: 0.4145 - accuracy: 0.8004\n",
      "Epoch 77/100\n",
      "176/176 [==============================] - 0s 1ms/step - loss: 0.4145 - accuracy: 0.8004\n",
      "Epoch 78/100\n",
      "176/176 [==============================] - 0s 1ms/step - loss: 0.4141 - accuracy: 0.7988\n",
      "Epoch 79/100\n",
      "176/176 [==============================] - 0s 1ms/step - loss: 0.4141 - accuracy: 0.8006\n",
      "Epoch 80/100\n",
      "176/176 [==============================] - 0s 1ms/step - loss: 0.4142 - accuracy: 0.8002\n",
      "Epoch 81/100\n",
      "176/176 [==============================] - 0s 1ms/step - loss: 0.4140 - accuracy: 0.7993\n",
      "Epoch 82/100\n",
      "176/176 [==============================] - 0s 1ms/step - loss: 0.4140 - accuracy: 0.8004\n",
      "Epoch 83/100\n",
      "176/176 [==============================] - 0s 1ms/step - loss: 0.4140 - accuracy: 0.8022\n",
      "Epoch 84/100\n",
      "176/176 [==============================] - 0s 1ms/step - loss: 0.4138 - accuracy: 0.7995\n",
      "Epoch 85/100\n",
      "176/176 [==============================] - 0s 1ms/step - loss: 0.4140 - accuracy: 0.8000\n",
      "Epoch 86/100\n",
      "176/176 [==============================] - 0s 1ms/step - loss: 0.4138 - accuracy: 0.7999\n",
      "Epoch 87/100\n",
      "176/176 [==============================] - 0s 1ms/step - loss: 0.4136 - accuracy: 0.8013\n",
      "Epoch 88/100\n",
      "176/176 [==============================] - 0s 1ms/step - loss: 0.4139 - accuracy: 0.7995\n",
      "Epoch 89/100\n",
      "176/176 [==============================] - 0s 1ms/step - loss: 0.4137 - accuracy: 0.8006\n",
      "Epoch 90/100\n",
      "176/176 [==============================] - 0s 1ms/step - loss: 0.4137 - accuracy: 0.8004\n",
      "Epoch 91/100\n",
      "176/176 [==============================] - 0s 1ms/step - loss: 0.4135 - accuracy: 0.8013\n",
      "Epoch 92/100\n",
      "176/176 [==============================] - 0s 1ms/step - loss: 0.4134 - accuracy: 0.7997\n",
      "Epoch 93/100\n",
      "176/176 [==============================] - 0s 1ms/step - loss: 0.4135 - accuracy: 0.8020\n",
      "Epoch 94/100\n",
      "176/176 [==============================] - 0s 1ms/step - loss: 0.4133 - accuracy: 0.7990\n",
      "Epoch 95/100\n",
      "176/176 [==============================] - 0s 1ms/step - loss: 0.4135 - accuracy: 0.7997\n",
      "Epoch 96/100\n",
      "176/176 [==============================] - 0s 1ms/step - loss: 0.4129 - accuracy: 0.7995\n",
      "Epoch 97/100\n",
      "176/176 [==============================] - 0s 1ms/step - loss: 0.4132 - accuracy: 0.8007\n",
      "Epoch 98/100\n",
      "176/176 [==============================] - 0s 1ms/step - loss: 0.4132 - accuracy: 0.7997\n",
      "Epoch 99/100\n",
      "176/176 [==============================] - 0s 1ms/step - loss: 0.4131 - accuracy: 0.7997\n",
      "Epoch 100/100\n",
      "176/176 [==============================] - 0s 1ms/step - loss: 0.4131 - accuracy: 0.8000\n"
     ]
    },
    {
     "data": {
      "text/plain": [
       "<keras.callbacks.History at 0x1e8a215f850>"
      ]
     },
     "execution_count": 54,
     "metadata": {},
     "output_type": "execute_result"
    }
   ],
   "source": [
    "model4 = Sequential()\n",
    "\n",
    "model4.add(Dense(64, activation=\"relu\", input_shape=(X_resampled.shape[1],)))\n",
    "model4.add(Dense(16, activation=\"relu\"))\n",
    "model4.add(Dense(1, activation=\"sigmoid\"))\n",
    "\n",
    "model4.summary()\n",
    "\n",
    "model4.compile(loss='binary_crossentropy', optimizer=\"sgd\", metrics=[\"accuracy\"])\n",
    "\n",
    "model4.fit(X_train, y_train, epochs=100, batch_size=32)"
   ]
  },
  {
   "cell_type": "code",
   "execution_count": 55,
   "id": "b2ca7d09",
   "metadata": {},
   "outputs": [
    {
     "data": {
      "text/html": [
       "<style>#sk-container-id-6 {color: black;}#sk-container-id-6 pre{padding: 0;}#sk-container-id-6 div.sk-toggleable {background-color: white;}#sk-container-id-6 label.sk-toggleable__label {cursor: pointer;display: block;width: 100%;margin-bottom: 0;padding: 0.3em;box-sizing: border-box;text-align: center;}#sk-container-id-6 label.sk-toggleable__label-arrow:before {content: \"▸\";float: left;margin-right: 0.25em;color: #696969;}#sk-container-id-6 label.sk-toggleable__label-arrow:hover:before {color: black;}#sk-container-id-6 div.sk-estimator:hover label.sk-toggleable__label-arrow:before {color: black;}#sk-container-id-6 div.sk-toggleable__content {max-height: 0;max-width: 0;overflow: hidden;text-align: left;background-color: #f0f8ff;}#sk-container-id-6 div.sk-toggleable__content pre {margin: 0.2em;color: black;border-radius: 0.25em;background-color: #f0f8ff;}#sk-container-id-6 input.sk-toggleable__control:checked~div.sk-toggleable__content {max-height: 200px;max-width: 100%;overflow: auto;}#sk-container-id-6 input.sk-toggleable__control:checked~label.sk-toggleable__label-arrow:before {content: \"▾\";}#sk-container-id-6 div.sk-estimator input.sk-toggleable__control:checked~label.sk-toggleable__label {background-color: #d4ebff;}#sk-container-id-6 div.sk-label input.sk-toggleable__control:checked~label.sk-toggleable__label {background-color: #d4ebff;}#sk-container-id-6 input.sk-hidden--visually {border: 0;clip: rect(1px 1px 1px 1px);clip: rect(1px, 1px, 1px, 1px);height: 1px;margin: -1px;overflow: hidden;padding: 0;position: absolute;width: 1px;}#sk-container-id-6 div.sk-estimator {font-family: monospace;background-color: #f0f8ff;border: 1px dotted black;border-radius: 0.25em;box-sizing: border-box;margin-bottom: 0.5em;}#sk-container-id-6 div.sk-estimator:hover {background-color: #d4ebff;}#sk-container-id-6 div.sk-parallel-item::after {content: \"\";width: 100%;border-bottom: 1px solid gray;flex-grow: 1;}#sk-container-id-6 div.sk-label:hover label.sk-toggleable__label {background-color: #d4ebff;}#sk-container-id-6 div.sk-serial::before {content: \"\";position: absolute;border-left: 1px solid gray;box-sizing: border-box;top: 0;bottom: 0;left: 50%;z-index: 0;}#sk-container-id-6 div.sk-serial {display: flex;flex-direction: column;align-items: center;background-color: white;padding-right: 0.2em;padding-left: 0.2em;position: relative;}#sk-container-id-6 div.sk-item {position: relative;z-index: 1;}#sk-container-id-6 div.sk-parallel {display: flex;align-items: stretch;justify-content: center;background-color: white;position: relative;}#sk-container-id-6 div.sk-item::before, #sk-container-id-6 div.sk-parallel-item::before {content: \"\";position: absolute;border-left: 1px solid gray;box-sizing: border-box;top: 0;bottom: 0;left: 50%;z-index: -1;}#sk-container-id-6 div.sk-parallel-item {display: flex;flex-direction: column;z-index: 1;position: relative;background-color: white;}#sk-container-id-6 div.sk-parallel-item:first-child::after {align-self: flex-end;width: 50%;}#sk-container-id-6 div.sk-parallel-item:last-child::after {align-self: flex-start;width: 50%;}#sk-container-id-6 div.sk-parallel-item:only-child::after {width: 0;}#sk-container-id-6 div.sk-dashed-wrapped {border: 1px dashed gray;margin: 0 0.4em 0.5em 0.4em;box-sizing: border-box;padding-bottom: 0.4em;background-color: white;}#sk-container-id-6 div.sk-label label {font-family: monospace;font-weight: bold;display: inline-block;line-height: 1.2em;}#sk-container-id-6 div.sk-label-container {text-align: center;}#sk-container-id-6 div.sk-container {/* jupyter's `normalize.less` sets `[hidden] { display: none; }` but bootstrap.min.css set `[hidden] { display: none !important; }` so we also need the `!important` here to be able to override the default hidden behavior on the sphinx rendered scikit-learn.org. See: https://github.com/scikit-learn/scikit-learn/issues/21755 */display: inline-block !important;position: relative;}#sk-container-id-6 div.sk-text-repr-fallback {display: none;}</style><div id=\"sk-container-id-6\" class=\"sk-top-container\"><div class=\"sk-text-repr-fallback\"><pre>GradientBoostingClassifier(learning_rate=1.0, max_depth=1, random_state=42)</pre><b>In a Jupyter environment, please rerun this cell to show the HTML representation or trust the notebook. <br />On GitHub, the HTML representation is unable to render, please try loading this page with nbviewer.org.</b></div><div class=\"sk-container\" hidden><div class=\"sk-item\"><div class=\"sk-estimator sk-toggleable\"><input class=\"sk-toggleable__control sk-hidden--visually\" id=\"sk-estimator-id-6\" type=\"checkbox\" checked><label for=\"sk-estimator-id-6\" class=\"sk-toggleable__label sk-toggleable__label-arrow\">GradientBoostingClassifier</label><div class=\"sk-toggleable__content\"><pre>GradientBoostingClassifier(learning_rate=1.0, max_depth=1, random_state=42)</pre></div></div></div></div></div>"
      ],
      "text/plain": [
       "GradientBoostingClassifier(learning_rate=1.0, max_depth=1, random_state=42)"
      ]
     },
     "execution_count": 55,
     "metadata": {},
     "output_type": "execute_result"
    }
   ],
   "source": [
    "model5 = GradientBoostingClassifier(n_estimators=100, learning_rate=1.0, max_depth=1, random_state=42)\n",
    "model5.fit(X_train, y_train)"
   ]
  },
  {
   "cell_type": "markdown",
   "id": "68853b7e",
   "metadata": {},
   "source": [
    "## Evaluating models 2"
   ]
  },
  {
   "cell_type": "code",
   "execution_count": 56,
   "id": "ce60bc7a",
   "metadata": {},
   "outputs": [],
   "source": [
    "models_2 = []\n",
    "accuracies_2 = []"
   ]
  },
  {
   "cell_type": "markdown",
   "id": "0fc2481f",
   "metadata": {},
   "source": [
    "### RandomForestClassifier"
   ]
  },
  {
   "cell_type": "code",
   "execution_count": 57,
   "id": "20a1f2bc",
   "metadata": {},
   "outputs": [],
   "source": [
    "y_pred_model1 = model1.predict(X_test)\n",
    "models_2.append(\"RFC\")\n",
    "accuracies_2.append(accuracy_score(y_test, y_pred_model1))"
   ]
  },
  {
   "cell_type": "code",
   "execution_count": 58,
   "id": "4310ab93",
   "metadata": {},
   "outputs": [
    {
     "data": {
      "text/plain": [
       "Text(0.5, 1.0, 'RFC model confusion matrix')"
      ]
     },
     "execution_count": 58,
     "metadata": {},
     "output_type": "execute_result"
    },
    {
     "data": {
      "image/png": "[encoded data removed]",
      "text/plain": [
       "<Figure size 640x480 with 2 Axes>"
      ]
     },
     "metadata": {},
     "output_type": "display_data"
    }
   ],
   "source": [
    "sns.heatmap(confusion_matrix(y_test, y_pred_model1), annot=True, fmt=\"1\", cmap='YlGnBu', annot_kws={\"size\":15}, xticklabels=[\"No\",\"Yes\"], yticklabels=[\"No\",\"Yes\"])\n",
    "\n",
    "plt.xlabel(\"Prediction\", fontsize=12)\n",
    "plt.ylabel(\"True label\", fontsize=12)\n",
    "plt.xticks(size=12)\n",
    "plt.yticks(size=12)\n",
    "plt.title(\"RFC model confusion matrix\", fontsize=18)"
   ]
  },
  {
   "cell_type": "markdown",
   "id": "b82ad937",
   "metadata": {},
   "source": [
    "Most of the labels are true negative. The model predicts \"No\" most of the time.\n",
    "\n",
    "The recall of \"No\" is high. But the metrics for \"Yes\" are medium, not good and not terrible."
   ]
  },
  {
   "cell_type": "code",
   "execution_count": 59,
   "id": "ec8608a4",
   "metadata": {},
   "outputs": [
    {
     "name": "stdout",
     "output_type": "stream",
     "text": [
      "              precision    recall  f1-score   support\n",
      "\n",
      "           0       0.84      0.90      0.87      1037\n",
      "           1       0.65      0.52      0.58       368\n",
      "\n",
      "    accuracy                           0.80      1405\n",
      "   macro avg       0.75      0.71      0.72      1405\n",
      "weighted avg       0.79      0.80      0.79      1405\n",
      "\n"
     ]
    }
   ],
   "source": [
    "print(classification_report(y_test, y_pred_model1))"
   ]
  },
  {
   "cell_type": "markdown",
   "id": "5327d944",
   "metadata": {},
   "source": [
    "### GaussianNB"
   ]
  },
  {
   "cell_type": "code",
   "execution_count": 60,
   "id": "3b36ee0a",
   "metadata": {},
   "outputs": [],
   "source": [
    "y_pred_model2 = model2.predict(X_test)\n",
    "models_2.append(\"NB\")\n",
    "accuracies_2.append(accuracy_score(y_test, y_pred_model2))"
   ]
  },
  {
   "cell_type": "code",
   "execution_count": 62,
   "id": "89850055",
   "metadata": {},
   "outputs": [
    {
     "data": {
      "text/plain": [
       "Text(0.5, 1.0, 'GaussianNB model confusion matrix')"
      ]
     },
     "execution_count": 62,
     "metadata": {},
     "output_type": "execute_result"
    },
    {
     "data": {
      "image/png": "[encoded data removed]",
      "text/plain": [
       "<Figure size 640x480 with 2 Axes>"
      ]
     },
     "metadata": {},
     "output_type": "display_data"
    }
   ],
   "source": [
    "sns.heatmap(confusion_matrix(y_test, y_pred_model2), annot=True, fmt=\"1\", cmap='YlGnBu', annot_kws={\"size\":15}, xticklabels=[\"No\",\"Yes\"], yticklabels=[\"No\",\"Yes\"])\n",
    "\n",
    "plt.xlabel(\"Prediction\", fontsize=12)\n",
    "plt.ylabel(\"True label\", fontsize=12)\n",
    "plt.xticks(size=12)\n",
    "plt.yticks(size=12)\n",
    "plt.title(\"GaussianNB model confusion matrix\", fontsize=18)"
   ]
  },
  {
   "cell_type": "markdown",
   "id": "c717ff34",
   "metadata": {},
   "source": [
    "The predictions are much more spread than the last model. Still \"No\" is predicted more often but \"Yes\" is not that much behind in numbers.\n",
    "\n",
    "Recall for \"No\" is much lower than in previous models."
   ]
  },
  {
   "cell_type": "code",
   "execution_count": 63,
   "id": "649a8db5",
   "metadata": {},
   "outputs": [
    {
     "name": "stdout",
     "output_type": "stream",
     "text": [
      "              precision    recall  f1-score   support\n",
      "\n",
      "           0       0.92      0.65      0.76      1037\n",
      "           1       0.46      0.84      0.59       368\n",
      "\n",
      "    accuracy                           0.70      1405\n",
      "   macro avg       0.69      0.75      0.68      1405\n",
      "weighted avg       0.80      0.70      0.72      1405\n",
      "\n"
     ]
    }
   ],
   "source": [
    "print(classification_report(y_test, y_pred_model2))"
   ]
  },
  {
   "cell_type": "markdown",
   "id": "25a6534b",
   "metadata": {},
   "source": [
    "### Neural network 1"
   ]
  },
  {
   "cell_type": "code",
   "execution_count": 64,
   "id": "774c9d0f",
   "metadata": {},
   "outputs": [
    {
     "name": "stdout",
     "output_type": "stream",
     "text": [
      "44/44 [==============================] - 0s 735us/step\n"
     ]
    }
   ],
   "source": [
    "y_pred_model3 = model3.predict(X_test)\n",
    "y_pred_model3 = np.round(y_pred_model3).flatten()\n",
    "models_2.append(\"Seq1\")\n",
    "accuracies_2.append(accuracy_score(y_test, y_pred_model3))"
   ]
  },
  {
   "cell_type": "code",
   "execution_count": 65,
   "id": "b4bd6149",
   "metadata": {},
   "outputs": [
    {
     "data": {
      "text/plain": [
       "Text(0.5, 1.0, 'Neural network 1 model confusion matrix')"
      ]
     },
     "execution_count": 65,
     "metadata": {},
     "output_type": "execute_result"
    },
    {
     "data": {
      "image/png": "[encoded data removed]",
      "text/plain": [
       "<Figure size 640x480 with 2 Axes>"
      ]
     },
     "metadata": {},
     "output_type": "display_data"
    }
   ],
   "source": [
    "sns.heatmap(confusion_matrix(y_test, y_pred_model3), annot=True, fmt=\"1\", cmap='YlGnBu', annot_kws={\"size\":15}, xticklabels=[\"No\",\"Yes\"], yticklabels=[\"No\",\"Yes\"])\n",
    "\n",
    "plt.xlabel(\"Prediction\", fontsize=12)\n",
    "plt.ylabel(\"True label\", fontsize=12)\n",
    "plt.xticks(size=12)\n",
    "plt.yticks(size=12)\n",
    "plt.title(\"Neural network 1 model confusion matrix\", fontsize=18)"
   ]
  },
  {
   "cell_type": "markdown",
   "id": "052cb0e4",
   "metadata": {},
   "source": [
    "As expected negative class is the majority of guesses. A lot of the labels are correctly identified to be negative. True positives are low.\n",
    "\n",
    "Metrics for positive class are medium."
   ]
  },
  {
   "cell_type": "code",
   "execution_count": 66,
   "id": "9adb7e07",
   "metadata": {},
   "outputs": [
    {
     "name": "stdout",
     "output_type": "stream",
     "text": [
      "              precision    recall  f1-score   support\n",
      "\n",
      "           0       0.85      0.88      0.87      1037\n",
      "           1       0.63      0.55      0.59       368\n",
      "\n",
      "    accuracy                           0.80      1405\n",
      "   macro avg       0.74      0.72      0.73      1405\n",
      "weighted avg       0.79      0.80      0.79      1405\n",
      "\n"
     ]
    }
   ],
   "source": [
    "print(classification_report(y_test, y_pred_model3))"
   ]
  },
  {
   "cell_type": "markdown",
   "id": "d4ce286b",
   "metadata": {},
   "source": [
    "### Neural network 2"
   ]
  },
  {
   "cell_type": "code",
   "execution_count": 67,
   "id": "694e1cb6",
   "metadata": {},
   "outputs": [
    {
     "name": "stdout",
     "output_type": "stream",
     "text": [
      "44/44 [==============================] - 0s 826us/step\n"
     ]
    }
   ],
   "source": [
    "y_pred_model4 = model4.predict(X_test)\n",
    "y_pred_model4 = np.round(y_pred_model4).flatten()\n",
    "models_2.append(\"Seq2\")\n",
    "accuracies_2.append(accuracy_score(y_test, y_pred_model4))"
   ]
  },
  {
   "cell_type": "code",
   "execution_count": 68,
   "id": "c7540ce5",
   "metadata": {},
   "outputs": [
    {
     "data": {
      "text/plain": [
       "Text(0.5, 1.0, 'Neural network 2 model confusion matrix')"
      ]
     },
     "execution_count": 68,
     "metadata": {},
     "output_type": "execute_result"
    },
    {
     "data": {
      "image/png": "[encoded data removed]",
      "text/plain": [
       "<Figure size 640x480 with 2 Axes>"
      ]
     },
     "metadata": {},
     "output_type": "display_data"
    }
   ],
   "source": [
    "sns.heatmap(confusion_matrix(y_test, y_pred_model4), annot=True, fmt=\"1\", cmap='YlGnBu', annot_kws={\"size\":15}, xticklabels=[\"No\",\"Yes\"], yticklabels=[\"No\",\"Yes\"])\n",
    "\n",
    "plt.xlabel(\"Prediction\", fontsize=12)\n",
    "plt.ylabel(\"True label\", fontsize=12)\n",
    "plt.xticks(size=12)\n",
    "plt.yticks(size=12)\n",
    "plt.title(\"Neural network 2 model confusion matrix\", fontsize=18)"
   ]
  },
  {
   "cell_type": "markdown",
   "id": "13cfae1a",
   "metadata": {},
   "source": [
    "The same applies to this neural netwrok. They are quite similar in results."
   ]
  },
  {
   "cell_type": "code",
   "execution_count": 69,
   "id": "786cbfcc",
   "metadata": {},
   "outputs": [
    {
     "name": "stdout",
     "output_type": "stream",
     "text": [
      "              precision    recall  f1-score   support\n",
      "\n",
      "           0       0.84      0.91      0.87      1037\n",
      "           1       0.66      0.51      0.57       368\n",
      "\n",
      "    accuracy                           0.80      1405\n",
      "   macro avg       0.75      0.71      0.72      1405\n",
      "weighted avg       0.79      0.80      0.79      1405\n",
      "\n"
     ]
    }
   ],
   "source": [
    "print(classification_report(y_test, y_pred_model4))"
   ]
  },
  {
   "cell_type": "markdown",
   "id": "3b7ca8c1",
   "metadata": {},
   "source": [
    "### GradientBoostingClassifier"
   ]
  },
  {
   "cell_type": "code",
   "execution_count": 70,
   "id": "43426c48",
   "metadata": {},
   "outputs": [],
   "source": [
    "y_pred_model5 = model5.predict(X_test)\n",
    "models_2.append(\"GBC\")\n",
    "accuracies_2.append(accuracy_score(y_test, y_pred_model5))"
   ]
  },
  {
   "cell_type": "code",
   "execution_count": 71,
   "id": "b33034c4",
   "metadata": {},
   "outputs": [
    {
     "data": {
      "text/plain": [
       "Text(0.5, 1.0, 'GradientBoostingClassifier model confusion matrix')"
      ]
     },
     "execution_count": 71,
     "metadata": {},
     "output_type": "execute_result"
    },
    {
     "data": {
      "image/png": "[encoded data removed]",
      "text/plain": [
       "<Figure size 640x480 with 2 Axes>"
      ]
     },
     "metadata": {},
     "output_type": "display_data"
    }
   ],
   "source": [
    "sns.heatmap(confusion_matrix(y_test, y_pred_model5), annot=True, fmt=\"1\", cmap='YlGnBu', annot_kws={\"size\":15}, xticklabels=[\"No\",\"Yes\"], yticklabels=[\"No\",\"Yes\"])\n",
    "\n",
    "plt.xlabel(\"Prediction\", fontsize=12)\n",
    "plt.ylabel(\"True label\", fontsize=12)\n",
    "plt.xticks(size=12)\n",
    "plt.yticks(size=12)\n",
    "plt.title(\"GradientBoostingClassifier model confusion matrix\", fontsize=18)"
   ]
  },
  {
   "cell_type": "markdown",
   "id": "074a6bb6",
   "metadata": {},
   "source": [
    "This model has true negative count the highest. \n",
    "\n",
    "Metrics are similar to previous models, where F1-score is high for negative class and medium for positive class."
   ]
  },
  {
   "cell_type": "code",
   "execution_count": 72,
   "id": "fc4b6d9a",
   "metadata": {},
   "outputs": [
    {
     "name": "stdout",
     "output_type": "stream",
     "text": [
      "              precision    recall  f1-score   support\n",
      "\n",
      "           0       0.85      0.90      0.87      1037\n",
      "           1       0.66      0.54      0.59       368\n",
      "\n",
      "    accuracy                           0.81      1405\n",
      "   macro avg       0.75      0.72      0.73      1405\n",
      "weighted avg       0.80      0.81      0.80      1405\n",
      "\n"
     ]
    }
   ],
   "source": [
    "print(classification_report(y_test, y_pred_model5))"
   ]
  },
  {
   "cell_type": "code",
   "execution_count": 73,
   "id": "15bb6dfc",
   "metadata": {},
   "outputs": [
    {
     "data": {
      "image/png": "[encoded data removed]",
      "text/plain": [
       "<Figure size 800x600 with 1 Axes>"
      ]
     },
     "metadata": {},
     "output_type": "display_data"
    }
   ],
   "source": [
    "fig = plt.figure(figsize=(8,6))\n",
    "\n",
    "ax = sns.barplot(x=models_2, y=accuracies_2, palette='YlGnBu')\n",
    "for container in ax.containers:\n",
    "    ax.bar_label(container, fontsize=12)\n",
    "\n",
    "plt.xlabel(\"Model name\", fontsize=12)\n",
    "plt.ylabel(\"Accuracy\", fontsize=12)\n",
    "plt.xticks(size=12)\n",
    "plt.yticks(size=12)\n",
    "plt.title(\"Every model accuracy on test data (2)\", fontsize=18)\n",
    "plt.show()"
   ]
  },
  {
   "cell_type": "markdown",
   "id": "02cc0474",
   "metadata": {},
   "source": [
    "## Summary of part 2"
   ]
  },
  {
   "cell_type": "markdown",
   "id": "e40b06fe",
   "metadata": {},
   "source": [
    "Most of the models accuracies are in 80% and GaussianNB is lower but has improved compared to part 1.\n",
    "The accuracy is higher because the data is unbalanced. The models predict the class that has the biggest proportion which in this case is negative class. \n",
    "\n",
    "All of the confusion matrixes in part 2 have majority in the true negative category. The F1-scores are pretty much the same for each model."
   ]
  },
  {
   "cell_type": "markdown",
   "id": "309a3bc1",
   "metadata": {},
   "source": [
    "# Summary of all of the findings"
   ]
  },
  {
   "cell_type": "markdown",
   "id": "0d8cb86a",
   "metadata": {},
   "source": [
    "It is generally a good practice to balance the data to make sure that the models do not predict the most common answer. \n",
    "\n",
    "Dividing the task in two parts showed that we achieve higher accuracy on models that are trained without balancing the data. \n",
    "\n",
    "For both of the parts F1-scores remain similar for each of the classes. Second part has a little bit higher F1-scores for negative class. "
   ]
  },
  {
   "cell_type": "code",
   "execution_count": null,
   "id": "8ddafd4e",
   "metadata": {},
   "outputs": [],
   "source": []
  }
 ],
 "metadata": {
  "kernelspec": {
   "display_name": "Python 3 (ipykernel)",
   "language": "python",
   "name": "python3"
  },
  "language_info": {
   "codemirror_mode": {
    "name": "ipython",
    "version": 3
   },
   "file_extension": ".py",
   "mimetype": "text/x-python",
   "name": "python",
   "nbconvert_exporter": "python",
   "pygments_lexer": "ipython3",
   "version": "3.10.12"
  }
 },
 "nbformat": 4,
 "nbformat_minor": 5
}
